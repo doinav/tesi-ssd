{
 "cells": [
  {
   "cell_type": "code",
   "execution_count": 49,
   "id": "8750373c",
   "metadata": {},
   "outputs": [],
   "source": [
    "import pandas as pd\n",
    "import gensim\n",
    "from gensim.models.phrases import Phrases, Phraser, ENGLISH_CONNECTOR_WORDS\n",
    "from gensim.models import Word2Vec\n",
    "from gensim.models import KeyedVectors\n",
    "from tqdm import tqdm\n",
    "import numpy as np\n",
    "import enchant\n",
    "from time import time \n",
    "import multiprocessing\n",
    "from copy import deepcopy\n",
    "from collections import defaultdict"
   ]
  },
  {
   "cell_type": "code",
   "execution_count": 3,
   "id": "78d16577",
   "metadata": {},
   "outputs": [],
   "source": [
    "tokens = np.load('tokens_per_year.npy',allow_pickle='FALSE').item()"
   ]
  },
  {
   "cell_type": "code",
   "execution_count": 13,
   "id": "849915de",
   "metadata": {},
   "outputs": [],
   "source": [
    "#documents è la lista di liste\n",
    "#doc sono le liste interne\n",
    "def build_bigram_dictionary(documents, min_count, threshold):\n",
    "    phrases = Phrases(documents, min_count=min_count, threshold=threshold, connector_words=ENGLISH_CONNECTOR_WORDS)\n",
    "    bigram = Phraser(phrases)\n",
    "    tokens_text_with_bigrams = [bigram[doc] for doc in documents]\n",
    "    return tokens_text_with_bigrams"
   ]
  },
  {
   "cell_type": "markdown",
   "id": "4763cc7b",
   "metadata": {},
   "source": [
    "**TRAIN WORD2VEC MODEL ON THE WHOLE SET**."
   ]
  },
  {
   "cell_type": "code",
   "execution_count": 22,
   "id": "cc95bd24",
   "metadata": {},
   "outputs": [],
   "source": [
    "# CREATE A VOCABULARY OF BIGRAMS THE DATASET PER YEAR\n",
    "bigram_vocab = {}\n",
    "for year, tokens in tokens.items():\n",
    "    tokens_per_year = build_bigram_dictionary(tokens, 11, 20)\n",
    "    bigram_vocab[year] = tokens_per_year"
   ]
  },
  {
   "cell_type": "code",
   "execution_count": 26,
   "id": "d4361455",
   "metadata": {},
   "outputs": [
    {
     "data": {
      "text/plain": [
       "['municipal',\n",
       " 'waste',\n",
       " 'country',\n",
       " 'increase',\n",
       " 'around',\n",
       " 'paper',\n",
       " 'outline',\n",
       " 'real',\n",
       " 'negative',\n",
       " 'effect',\n",
       " 'increase',\n",
       " 'introduce',\n",
       " 'two',\n",
       " 'main',\n",
       " 'euro_pean',\n",
       " 'union',\n",
       " 'policy',\n",
       " 'establish',\n",
       " 'address',\n",
       " 'problem',\n",
       " 'landfill',\n",
       " 'directive',\n",
       " 'legislation',\n",
       " 'extend',\n",
       " 'producer',\n",
       " 'responsibility',\n",
       " 'paper',\n",
       " 'describe',\n",
       " 'compare',\n",
       " 'four',\n",
       " 'alternative',\n",
       " 'strategy',\n",
       " 'reducing',\n",
       " 'end',\n",
       " 'life',\n",
       " 'waste',\n",
       " 'within',\n",
       " 'context',\n",
       " 'extend',\n",
       " 'producer',\n",
       " 'responsibility',\n",
       " 'namely',\n",
       " 'repair',\n",
       " 'recondition',\n",
       " 'remanufacture',\n",
       " 'recycle',\n",
       " 'also',\n",
       " 'introduce',\n",
       " 'robust',\n",
       " 'definition',\n",
       " 'rem',\n",
       " 'fact',\n",
       " 'ring',\n",
       " 'validate',\n",
       " 'early',\n",
       " 'research',\n",
       " 'differentiate',\n",
       " 'repair',\n",
       " 'reconditioning',\n",
       " 'consideration',\n",
       " 'different',\n",
       " 'factor',\n",
       " 'involve',\n",
       " 'conclude',\n",
       " 'rem',\n",
       " 'fact',\n",
       " 'ring',\n",
       " 'may',\n",
       " 'well',\n",
       " 'good',\n",
       " 'strategy',\n",
       " 'enable',\n",
       " 'embody',\n",
       " 'energy',\n",
       " 'virgin',\n",
       " 'production',\n",
       " 'maintain',\n",
       " 'preserve',\n",
       " 'intrinsic',\n",
       " 'add',\n",
       " 'value',\n",
       " 'product',\n",
       " 'manufacturer',\n",
       " 'enable',\n",
       " 'resultant',\n",
       " 'product',\n",
       " 'sell',\n",
       " 'new',\n",
       " 'update',\n",
       " 'feature',\n",
       " 'necessary',\n",
       " 'copyright',\n",
       " 'john',\n",
       " 'sons',\n",
       " 'ltd',\n",
       " 'pen',\n",
       " 'men',\n",
       " 'february',\n",
       " 'revise',\n",
       " 'september',\n",
       " 'accept',\n",
       " 'november',\n",
       " 'keyword',\n",
       " 'waste',\n",
       " 'remanufacture',\n",
       " 'sustainable',\n",
       " 'design',\n",
       " 'context',\n",
       " 'waste',\n",
       " 'problem',\n",
       " 'per',\n",
       " 'hap',\n",
       " 'alarmingly',\n",
       " 'predict',\n",
       " 'grow',\n",
       " 'municipal',\n",
       " 'waste',\n",
       " 'country',\n",
       " 'increase',\n",
       " 'around',\n",
       " 'increase',\n",
       " 'economic_growth',\n",
       " 'principal',\n",
       " 'cause',\n",
       " 'increase',\n",
       " 'waste',\n",
       " 'production',\n",
       " 'economic_growth',\n",
       " 'increase',\n",
       " 'production',\n",
       " 'increase',\n",
       " 'consumption',\n",
       " 'thus',\n",
       " 'increase',\n",
       " 'waste',\n",
       " 'environmental',\n",
       " 'pressure',\n",
       " 'increase',\n",
       " 'waste',\n",
       " 'generation',\n",
       " 'threefold',\n",
       " 'correspondence',\n",
       " 'king',\n",
       " 'department',\n",
       " 'mechanical',\n",
       " 'engineering',\n",
       " 'university',\n",
       " 'bris',\n",
       " 'bris',\n",
       " 'email',\n",
       " 'bris',\n",
       " 'john',\n",
       " 'sons',\n",
       " 'ltd',\n",
       " 'environment',\n",
       " 'king',\n",
       " 'first',\n",
       " 'result',\n",
       " 'permanent',\n",
       " 'loss',\n",
       " 'material',\n",
       " 'energy',\n",
       " 'resource',\n",
       " 'potential',\n",
       " 'loss',\n",
       " 'resource',\n",
       " 'electrical',\n",
       " 'electronic',\n",
       " 'waste',\n",
       " 'euro',\n",
       " 'estimate',\n",
       " 'include',\n",
       " 'million',\n",
       " 'tonne',\n",
       " 'offer',\n",
       " 'metal',\n",
       " 'million',\n",
       " 'tonne',\n",
       " 'plastic',\n",
       " 'million',\n",
       " 'tonne',\n",
       " 'copper',\n",
       " 'technology',\n",
       " 'however',\n",
       " 'whilst',\n",
       " 'widely',\n",
       " 'agree',\n",
       " 'natural_resource',\n",
       " 'become',\n",
       " 'expensive',\n",
       " 'due',\n",
       " 'tot',\n",
       " 'need',\n",
       " 'new',\n",
       " 'excavation',\n",
       " 'processing',\n",
       " 'technology',\n",
       " 'little',\n",
       " 'evidence',\n",
       " 'actually',\n",
       " 'close',\n",
       " 'run',\n",
       " 'tilt',\n",
       " 'second',\n",
       " 'current',\n",
       " 'landfill',\n",
       " 'site',\n",
       " 'fill',\n",
       " 'lead',\n",
       " 'pressure',\n",
       " 'use',\n",
       " 'new',\n",
       " 'site',\n",
       " 'loss',\n",
       " 'land',\n",
       " 'use',\n",
       " 'housing',\n",
       " 'leisure',\n",
       " 'agriculture',\n",
       " 'eng',\n",
       " 'land',\n",
       " 'million',\n",
       " 'tonne',\n",
       " 'municipal',\n",
       " 'waste',\n",
       " 'produce',\n",
       " 'high',\n",
       " 'proportion',\n",
       " 'landfill',\n",
       " 'site',\n",
       " 'def',\n",
       " 'cent',\n",
       " 'report',\n",
       " 'estimate',\n",
       " 'year',\n",
       " 'remain',\n",
       " 'landfill',\n",
       " 'site',\n",
       " 'space',\n",
       " 'leave',\n",
       " 'addition',\n",
       " 'research',\n",
       " 'establish',\n",
       " 'house',\n",
       " 'price',\n",
       " 'decrease',\n",
       " 'near',\n",
       " 'landfill',\n",
       " 'sites',\n",
       " 'make',\n",
       " 'site',\n",
       " 'undesirable',\n",
       " 'urban',\n",
       " 'area',\n",
       " 'need',\n",
       " 'def',\n",
       " 'third',\n",
       " 'additional',\n",
       " 'waste',\n",
       " 'leave',\n",
       " 'landfill',\n",
       " 'site',\n",
       " 'increase',\n",
       " 'air',\n",
       " 'water',\n",
       " 'land',\n",
       " 'pollution',\n",
       " 'fore',\n",
       " 'ample',\n",
       " 'within',\n",
       " 'country',\n",
       " 'contaminated',\n",
       " 'area',\n",
       " 'result',\n",
       " 'waste',\n",
       " 'act',\n",
       " 'methane',\n",
       " 'emission',\n",
       " 'one',\n",
       " 'six',\n",
       " 'greenhouse',\n",
       " 'gas',\n",
       " 'target',\n",
       " 'reduction',\n",
       " 'int',\n",
       " 'protocol',\n",
       " 'come',\n",
       " 'landfill',\n",
       " 'sites',\n",
       " 'policy',\n",
       " 'solution',\n",
       " 'early',\n",
       " 'euro_pean',\n",
       " 'union',\n",
       " 'member',\n",
       " 'state',\n",
       " 'notably',\n",
       " 'nether',\n",
       " 'lands',\n",
       " 'german',\n",
       " 'swede',\n",
       " 'develop',\n",
       " 'national',\n",
       " 'policy',\n",
       " 'measure',\n",
       " 'deal',\n",
       " 'grow',\n",
       " 'waste',\n",
       " 'problems',\n",
       " 'however',\n",
       " 'order',\n",
       " 'provide',\n",
       " 'workable',\n",
       " 'single',\n",
       " 'market',\n",
       " 'throughout',\n",
       " 'production',\n",
       " 'trade',\n",
       " 'measure',\n",
       " 'harmonize',\n",
       " 'policy',\n",
       " 'measure',\n",
       " 'need',\n",
       " 'extend',\n",
       " 'member',\n",
       " 'states',\n",
       " 'cooper',\n",
       " 'respond',\n",
       " 'introduce',\n",
       " 'two',\n",
       " 'major',\n",
       " 'policy',\n",
       " 'landfill',\n",
       " 'directive',\n",
       " 'legislation',\n",
       " 'extend',\n",
       " 'producer',\n",
       " 'responsibility',\n",
       " 'landfill',\n",
       " 'directive',\n",
       " 'government',\n",
       " 'oblige',\n",
       " 'closely',\n",
       " 'regulate',\n",
       " 'issuing',\n",
       " 'permit',\n",
       " 'new',\n",
       " 'landfill',\n",
       " 'site',\n",
       " 'aim',\n",
       " 'ensure',\n",
       " 'well',\n",
       " 'operating',\n",
       " 'standards',\n",
       " 'place',\n",
       " 'reduce',\n",
       " 'landfill',\n",
       " 'municipal',\n",
       " 'waste',\n",
       " 'level',\n",
       " 'principally',\n",
       " 'amount',\n",
       " 'suitable',\n",
       " 'space',\n",
       " 'run',\n",
       " 'one',\n",
       " 'mechanism',\n",
       " 'achieve',\n",
       " 'landfill',\n",
       " 'tax',\n",
       " 'currently',\n",
       " 'charge',\n",
       " 'per',\n",
       " 'tonne',\n",
       " 'waste',\n",
       " 'although',\n",
       " 'set',\n",
       " 'increase',\n",
       " 'long',\n",
       " 'term',\n",
       " 'rate',\n",
       " 'treasury',\n",
       " 'addition',\n",
       " 'government',\n",
       " 'waste',\n",
       " 'strategy',\n",
       " 'eng',\n",
       " 'land',\n",
       " 'wale',\n",
       " 'four',\n",
       " 'level',\n",
       " 'der',\n",
       " 'preference',\n",
       " 'waste',\n",
       " 'reduction',\n",
       " 'extend',\n",
       " 'product',\n",
       " 'durability',\n",
       " 'waste',\n",
       " 'reuse',\n",
       " 'remanufacture',\n",
       " 'product',\n",
       " 'second',\n",
       " 'life',\n",
       " 'waste',\n",
       " 'recovery',\n",
       " 'raw_material',\n",
       " 'recycling',\n",
       " 'lastly',\n",
       " 'waste',\n",
       " 'landfill',\n",
       " 'last',\n",
       " 'resort',\n",
       " 'extend',\n",
       " 'producer',\n",
       " 'responsibility',\n",
       " 'define',\n",
       " 'principle',\n",
       " 'manufacturer',\n",
       " 'importer',\n",
       " 'product',\n",
       " 'bear',\n",
       " 'significant',\n",
       " 'degree',\n",
       " 'responsibility',\n",
       " 'environmental',\n",
       " 'impacts',\n",
       " 'product',\n",
       " 'throughout',\n",
       " 'product',\n",
       " 'life',\n",
       " 'cycle',\n",
       " 'include',\n",
       " 'impact',\n",
       " 'selection',\n",
       " 'materials',\n",
       " 'production',\n",
       " 'process',\n",
       " 'use',\n",
       " 'disposal',\n",
       " 'product',\n",
       " 'end',\n",
       " 'life',\n",
       " 'cycle',\n",
       " 'logical',\n",
       " 'extension',\n",
       " 'polluter',\n",
       " 'pay',\n",
       " 'principle',\n",
       " 'rest',\n",
       " 'argument',\n",
       " 'environmental',\n",
       " 'impact',\n",
       " 'substantially',\n",
       " 'determined',\n",
       " 'point',\n",
       " 'design',\n",
       " 'key',\n",
       " 'choice',\n",
       " 'make',\n",
       " 'material',\n",
       " 'processing',\n",
       " 'finish',\n",
       " 'technology',\n",
       " 'etc',\n",
       " 'producer',\n",
       " 'principle',\n",
       " 'clearly',\n",
       " 'implement',\n",
       " 'wee',\n",
       " 'directive',\n",
       " 'waste',\n",
       " 'electrical',\n",
       " 'electronic',\n",
       " 'equipment',\n",
       " 'august',\n",
       " 'original',\n",
       " 'equipment',\n",
       " 'manufacturer',\n",
       " 'importers',\n",
       " 'copyright',\n",
       " 'john',\n",
       " 'sons',\n",
       " 'ltd',\n",
       " 'environments',\n",
       " 'see',\n",
       " 'term',\n",
       " 'condition',\n",
       " 'online',\n",
       " 'library',\n",
       " 'rule',\n",
       " 'use',\n",
       " 'article',\n",
       " 'govern',\n",
       " 'applicable',\n",
       " 'creative',\n",
       " 'common',\n",
       " 'licenser',\n",
       " 'educe',\n",
       " 'waste',\n",
       " 'repair',\n",
       " 'recondition',\n",
       " 'remanufacture',\n",
       " 'recycle',\n",
       " 'legally',\n",
       " 'bind',\n",
       " 'take',\n",
       " 'significant',\n",
       " 'responsibility',\n",
       " 'treatment',\n",
       " 'disposal',\n",
       " 'post',\n",
       " 'consumer',\n",
       " 'product',\n",
       " 'electronic',\n",
       " 'electrical',\n",
       " 'waste',\n",
       " 'contain',\n",
       " 'substance',\n",
       " 'may',\n",
       " 'damaging',\n",
       " 'impact',\n",
       " 'environment',\n",
       " 'dispose',\n",
       " 'either',\n",
       " 'landfill',\n",
       " 'site',\n",
       " 'incineration',\n",
       " 'addition',\n",
       " 'volume',\n",
       " 'electronic',\n",
       " 'electrical',\n",
       " 'waste',\n",
       " 'grow',\n",
       " 'three',\n",
       " 'five',\n",
       " 'percent',\n",
       " 'year',\n",
       " 'three',\n",
       " 'time',\n",
       " 'fast',\n",
       " 'general',\n",
       " 'waste',\n",
       " 'ice',\n",
       " 'electrical',\n",
       " 'electronic',\n",
       " 'waste',\n",
       " 'define',\n",
       " 'appliance',\n",
       " 'run',\n",
       " 'electricity',\n",
       " 'exceed',\n",
       " 'volt',\n",
       " 'volt',\n",
       " 'product',\n",
       " 'operate',\n",
       " 'high',\n",
       " 'voltage',\n",
       " 'exclude',\n",
       " 'high',\n",
       " 'value',\n",
       " 'make',\n",
       " 'unlikely',\n",
       " 'end',\n",
       " 'wastes',\n",
       " 'objective',\n",
       " 'wee',\n",
       " 'directive',\n",
       " 'include',\n",
       " 'reduce',\n",
       " 'waste',\n",
       " 'arise',\n",
       " 'end',\n",
       " 'life',\n",
       " 'electrical',\n",
       " 'electronic',\n",
       " 'equipment',\n",
       " 'improve',\n",
       " 'maximize',\n",
       " 'recycling',\n",
       " 'reuse',\n",
       " 'form',\n",
       " 'recovery',\n",
       " 'waste',\n",
       " 'end',\n",
       " 'life',\n",
       " 'electrical',\n",
       " 'electronic',\n",
       " 'equipment',\n",
       " 'minimize',\n",
       " 'impact',\n",
       " 'environment',\n",
       " 'treatment',\n",
       " 'disposal',\n",
       " 'recent',\n",
       " 'analysis',\n",
       " 'likely',\n",
       " 'effect',\n",
       " 'wee',\n",
       " 'directive',\n",
       " 'conclude',\n",
       " 'may',\n",
       " 'reduce',\n",
       " 'municipal',\n",
       " 'solid_waste',\n",
       " 'high',\n",
       " 'level',\n",
       " 'wee',\n",
       " 'waste',\n",
       " 'already',\n",
       " 'recycle',\n",
       " 'price',\n",
       " 'water',\n",
       " 'house',\n",
       " 'cooper',\n",
       " 'overlook',\n",
       " 'fact',\n",
       " 'end',\n",
       " 'life',\n",
       " 'waste',\n",
       " 'also',\n",
       " 'generate',\n",
       " 'commercial',\n",
       " 'waste',\n",
       " 'production',\n",
       " 'phase',\n",
       " 'electrical',\n",
       " 'product',\n",
       " 'one',\n",
       " 'rule',\n",
       " 'oft',\n",
       " 'hum',\n",
       " 'cite',\n",
       " 'every',\n",
       " 'tonne',\n",
       " 'consumer',\n",
       " 'waste',\n",
       " 'also',\n",
       " 'generate',\n",
       " 'tonne',\n",
       " 'manufacture',\n",
       " 'waste',\n",
       " 'tonne',\n",
       " 'resource',\n",
       " 'extraction',\n",
       " 'waste',\n",
       " 'meadow',\n",
       " 'thus',\n",
       " 'wee',\n",
       " 'directive',\n",
       " 'lead',\n",
       " 'increase',\n",
       " 'product',\n",
       " 'repair',\n",
       " 'remanufacture',\n",
       " 'would',\n",
       " 'turn',\n",
       " 'reduce',\n",
       " 'consumer',\n",
       " 'manufacturing',\n",
       " 'resource',\n",
       " 'extraction',\n",
       " 'waste',\n",
       " 'however',\n",
       " 'regardless',\n",
       " 'quantify',\n",
       " 'difference',\n",
       " 'waste',\n",
       " 'undisputed',\n",
       " 'effect',\n",
       " 'directive',\n",
       " 'transfer',\n",
       " 'cost',\n",
       " 'waste',\n",
       " 'management',\n",
       " 'general',\n",
       " 'taxpayer',\n",
       " 'individual',\n",
       " 'ems',\n",
       " 'although',\n",
       " 'directive',\n",
       " 'give',\n",
       " 'category',\n",
       " 'electronic',\n",
       " 'electrical',\n",
       " 'waste',\n",
       " 'recent',\n",
       " 'study',\n",
       " 'present',\n",
       " 'waste',\n",
       " 'level',\n",
       " 'find',\n",
       " 'large',\n",
       " 'household',\n",
       " 'appliance',\n",
       " 'fridge',\n",
       " 'cooker',\n",
       " 'washing',\n",
       " 'machine',\n",
       " 'equipment',\n",
       " 'mainframe',\n",
       " 'printer',\n",
       " 'copier',\n",
       " 'account',\n",
       " 'respectively',\n",
       " 'ice',\n",
       " 'study',\n",
       " 'also',\n",
       " 'find',\n",
       " 'whilst',\n",
       " 'large',\n",
       " 'household',\n",
       " 'appliance',\n",
       " 'recycle',\n",
       " 'approximately',\n",
       " 'equipment',\n",
       " 'currently',\n",
       " 'recycle',\n",
       " 'principal',\n",
       " 'reason',\n",
       " 'give',\n",
       " 'difference',\n",
       " 'first',\n",
       " 'easy',\n",
       " 'separate',\n",
       " 'large',\n",
       " 'appliance',\n",
       " 'waste',\n",
       " 'stream',\n",
       " 'second',\n",
       " 'shard',\n",
       " 'separate',\n",
       " 'ferrous',\n",
       " 'metal',\n",
       " 'equipment',\n",
       " 'practical',\n",
       " 'solutions',\n",
       " 'order',\n",
       " 'achieve',\n",
       " 'step',\n",
       " 'change',\n",
       " 'practice',\n",
       " 'designer',\n",
       " 'need',\n",
       " 'consider',\n",
       " 'entire',\n",
       " 'life',\n",
       " 'cycle',\n",
       " 'product',\n",
       " 'raw_material',\n",
       " 'extraction',\n",
       " 'manufacture',\n",
       " 'product',\n",
       " 'use',\n",
       " 'final',\n",
       " 'disposal',\n",
       " 'key',\n",
       " 'concept',\n",
       " 'true',\n",
       " 'sustainability',\n",
       " 'identify',\n",
       " 'closed',\n",
       " 'loop',\n",
       " 'design',\n",
       " 'disposal',\n",
       " 'stream',\n",
       " 'divert',\n",
       " 'become',\n",
       " 'new',\n",
       " 'raw_material',\n",
       " 'manufacturing',\n",
       " 'stream',\n",
       " 'illustrate',\n",
       " 'figure',\n",
       " 'two',\n",
       " 'possible',\n",
       " 'long',\n",
       " 'term',\n",
       " 'fate',\n",
       " 'waste',\n",
       " 'material',\n",
       " 'reuse',\n",
       " 'closed',\n",
       " 'loop',\n",
       " 'dissipative',\n",
       " 'loss',\n",
       " 'open',\n",
       " 'loop',\n",
       " 'straightforward',\n",
       " 'implication',\n",
       " 'law',\n",
       " 'conservation',\n",
       " 'mass',\n",
       " 'thus',\n",
       " 'relatively',\n",
       " 'simple',\n",
       " 'proxy',\n",
       " 'sustainability',\n",
       " 'environmental',\n",
       " 'term',\n",
       " 'ratio',\n",
       " 'recycled',\n",
       " 'reuse',\n",
       " 'material',\n",
       " 'total',\n",
       " 'supply',\n",
       " 'virgin',\n",
       " 'recycled',\n",
       " 'reuse',\n",
       " 'material',\n",
       " 'sim',\n",
       " 'repairing',\n",
       " 'logical',\n",
       " 'approach',\n",
       " 'close',\n",
       " 'loop',\n",
       " 'product',\n",
       " 'use',\n",
       " 'simply',\n",
       " 'repair',\n",
       " 'extend',\n",
       " 'products',\n",
       " 'life',\n",
       " 'however',\n",
       " 'whilst',\n",
       " 'intrinsically',\n",
       " 'simple',\n",
       " 'concept',\n",
       " 'practice',\n",
       " 'low',\n",
       " 'little',\n",
       " 'research',\n",
       " 'undertaken',\n",
       " 'understand',\n",
       " 'closed',\n",
       " 'loop',\n",
       " 'option',\n",
       " 'repair',\n",
       " 'simply',\n",
       " 'correction',\n",
       " 'specify',\n",
       " 'faults',\n",
       " 'copyright',\n",
       " 'john',\n",
       " 'sons',\n",
       " 'ltd',\n",
       " 'environments',\n",
       " 'see',\n",
       " 'term',\n",
       " 'condition',\n",
       " 'online',\n",
       " 'library',\n",
       " 'rule',\n",
       " 'use',\n",
       " 'article',\n",
       " 'govern',\n",
       " 'applicable',\n",
       " 'creative',\n",
       " 'common',\n",
       " 'license',\n",
       " 'king',\n",
       " 'figure',\n",
       " 'close',\n",
       " 'loop',\n",
       " 'design',\n",
       " 'repair',\n",
       " 'remanufacture',\n",
       " 'recycling',\n",
       " 'product',\n",
       " 'generally',\n",
       " 'quality',\n",
       " 'repaired',\n",
       " 'product',\n",
       " 'inferior',\n",
       " 'remanufacture',\n",
       " 'recondition',\n",
       " 'alternative',\n",
       " 'repaired',\n",
       " 'product',\n",
       " 'warranty',\n",
       " 'less',\n",
       " 'newly',\n",
       " 'manufacture',\n",
       " 'equivalent',\n",
       " 'also',\n",
       " 'warranty',\n",
       " 'may',\n",
       " 'cover',\n",
       " 'whole',\n",
       " 'product',\n",
       " 'replaced',\n",
       " 'component',\n",
       " 'empirical',\n",
       " 'research',\n",
       " 'show',\n",
       " 'appliance',\n",
       " 'ownership',\n",
       " 'within',\n",
       " 'increase',\n",
       " 'around',\n",
       " 'year',\n",
       " 'period',\n",
       " 'cooper',\n",
       " 'may',\n",
       " 'addition',\n",
       " 'consumer',\n",
       " 'decision',\n",
       " 'use',\n",
       " 'phase',\n",
       " 'product',\n",
       " 'whether',\n",
       " 'repair',\n",
       " 'pass',\n",
       " 'throw',\n",
       " 'item',\n",
       " 'away',\n",
       " 'accordingly',\n",
       " 'affect',\n",
       " 'product',\n",
       " 'lifespan',\n",
       " 'thus',\n",
       " 'rate',\n",
       " 'waste',\n",
       " 'generation',\n",
       " 'scope',\n",
       " 'survey',\n",
       " 'find',\n",
       " 'respondent',\n",
       " 'cite',\n",
       " 'cost',\n",
       " 'areas',\n",
       " 'get',\n",
       " 'item',\n",
       " 'repair',\n",
       " 'factor',\n",
       " 'bear',\n",
       " 'fact',\n",
       " 'whilst',\n",
       " 'new',\n",
       " 'washing',\n",
       " 'machine',\n",
       " 'price',\n",
       " 'increase',\n",
       " 'repair',\n",
       " 'cost',\n",
       " 'period',\n",
       " 'increased',\n",
       " 'consumer',\n",
       " 'international',\n",
       " 'throughout',\n",
       " 'sustained',\n",
       " 'existence',\n",
       " 'jumble',\n",
       " 'sale',\n",
       " 'charity',\n",
       " 'shop',\n",
       " 'show',\n",
       " 'supply',\n",
       " 'demand',\n",
       " 'secondhand',\n",
       " 'good',\n",
       " 'cooper',\n",
       " 'however',\n",
       " 'law',\n",
       " 'allow',\n",
       " 'sell',\n",
       " 'electronic',\n",
       " 'equipment',\n",
       " 'unless',\n",
       " 'reconditioned',\n",
       " 'product',\n",
       " 'use',\n",
       " 'essentially',\n",
       " 'two',\n",
       " 'reason',\n",
       " 'functional',\n",
       " 'obsolescence',\n",
       " 'physically',\n",
       " 'fail',\n",
       " 'need',\n",
       " 'repair',\n",
       " 'fashion',\n",
       " 'obsolescence',\n",
       " 'lose',\n",
       " 'appeal',\n",
       " 'due',\n",
       " 'new',\n",
       " 'product',\n",
       " 'appear',\n",
       " 'market',\n",
       " 'different',\n",
       " 'additional',\n",
       " 'feature',\n",
       " 'plan',\n",
       " 'obsolescence',\n",
       " 'one',\n",
       " 'way',\n",
       " 'capitalist',\n",
       " 'market',\n",
       " 'generate',\n",
       " ...]"
      ]
     },
     "execution_count": 26,
     "metadata": {},
     "output_type": "execute_result"
    }
   ],
   "source": [
    "bigram_vocab['2006'][0]"
   ]
  },
  {
   "cell_type": "code",
   "execution_count": 27,
   "id": "9aaa814a",
   "metadata": {},
   "outputs": [],
   "source": [
    "wholeset =  [doc for papers in bigram_vocab.values() for doc in papers]"
   ]
  },
  {
   "cell_type": "code",
   "execution_count": 33,
   "id": "53630002",
   "metadata": {},
   "outputs": [
    {
     "data": {
      "text/plain": [
       "20901"
      ]
     },
     "execution_count": 33,
     "metadata": {},
     "output_type": "execute_result"
    }
   ],
   "source": [
    "word_freq = defaultdict(int)\n",
    "for big in wholeset:\n",
    "    for i in big:\n",
    "        word_freq[i] += 1\n",
    "len(word_freq)"
   ]
  },
  {
   "cell_type": "code",
   "execution_count": 37,
   "id": "65091b44",
   "metadata": {},
   "outputs": [
    {
     "data": {
      "text/plain": [
       "['circular_economy',\n",
       " 'use',\n",
       " 'product',\n",
       " 'waste',\n",
       " 'material',\n",
       " 'resource',\n",
       " 'system',\n",
       " 'environmental',\n",
       " 'economic',\n",
       " 'development',\n",
       " 'also',\n",
       " 'production',\n",
       " 'energy',\n",
       " 'economy',\n",
       " 'process',\n",
       " 'design',\n",
       " 'new',\n",
       " 'value',\n",
       " 'model',\n",
       " 'research',\n",
       " 'recycling',\n",
       " 'level',\n",
       " 'business',\n",
       " 'industry',\n",
       " 'policy',\n",
       " 'include',\n",
       " 'base',\n",
       " 'industrial',\n",
       " 'strategy',\n",
       " 'circular',\n",
       " 'increase',\n",
       " 'study',\n",
       " 'need',\n",
       " 'one',\n",
       " 'management',\n",
       " 'reduce',\n",
       " 'recycle',\n",
       " 'approach',\n",
       " 'consumption',\n",
       " 'technology',\n",
       " 'business_model',\n",
       " 'indicator',\n",
       " 'concept',\n",
       " 'different',\n",
       " 'company',\n",
       " 'analysis',\n",
       " 'develop',\n",
       " 'china',\n",
       " 'well',\n",
       " 'sustainability',\n",
       " 'reuse',\n",
       " 'make',\n",
       " 'provide',\n",
       " 'environment',\n",
       " 'high',\n",
       " 'sustainable',\n",
       " 'example',\n",
       " 'practice',\n",
       " 'social',\n",
       " 'may',\n",
       " 'result',\n",
       " 'change',\n",
       " 'framework',\n",
       " 'paper',\n",
       " 'supply_chain',\n",
       " 'cost',\n",
       " 'service',\n",
       " 'focus',\n",
       " 'however',\n",
       " 'support',\n",
       " 'impact',\n",
       " 'efficiency',\n",
       " 'within',\n",
       " 'plastic',\n",
       " 'could',\n",
       " 'emission',\n",
       " 'activity',\n",
       " 'flow',\n",
       " 'potential',\n",
       " 'show',\n",
       " 'water',\n",
       " 'require',\n",
       " 'innovation',\n",
       " 'good',\n",
       " 'consumer',\n",
       " 'global',\n",
       " 'consider',\n",
       " 'performance',\n",
       " 'term',\n",
       " 'information',\n",
       " 'market',\n",
       " 'datum',\n",
       " 'principle',\n",
       " 'way',\n",
       " 'literature',\n",
       " 'country',\n",
       " 'low',\n",
       " 'would',\n",
       " 'first',\n",
       " 'green',\n",
       " 'time',\n",
       " 'table',\n",
       " 'implementation',\n",
       " 'see',\n",
       " 'many',\n",
       " 'challenge',\n",
       " 'sustainable_development',\n",
       " 'sector',\n",
       " 'key',\n",
       " 'relate',\n",
       " 'identify',\n",
       " 'review',\n",
       " 'work',\n",
       " 'article',\n",
       " 'life_cycle',\n",
       " 'benefit',\n",
       " 'important',\n",
       " 'improve',\n",
       " 'take',\n",
       " 'present',\n",
       " 'create',\n",
       " 'part',\n",
       " 'issue',\n",
       " 'method',\n",
       " 'two',\n",
       " 'year',\n",
       " 'measure',\n",
       " 'government',\n",
       " 'case',\n",
       " 'future',\n",
       " 'euro_pean',\n",
       " 'enterprise',\n",
       " 'area',\n",
       " 'three',\n",
       " 'barrier',\n",
       " 'cycle',\n",
       " 'ion',\n",
       " 'lead',\n",
       " 'national',\n",
       " 'thus',\n",
       " 'aim',\n",
       " 'target',\n",
       " 'achieve',\n",
       " 'follow',\n",
       " 'figure',\n",
       " 'current',\n",
       " 'transition',\n",
       " 'exist',\n",
       " 'firm',\n",
       " 'role',\n",
       " 'total',\n",
       " 'form',\n",
       " 'set',\n",
       " 'number',\n",
       " 'society',\n",
       " 'therefore',\n",
       " 'factor',\n",
       " 'section',\n",
       " 'main',\n",
       " 'find',\n",
       " 'lack',\n",
       " 'towards',\n",
       " 'assessment',\n",
       " 'promote',\n",
       " 'pollution',\n",
       " 'recovery',\n",
       " 'become',\n",
       " 'accord',\n",
       " 'opportunity',\n",
       " 'implement',\n",
       " 'large',\n",
       " 'application',\n",
       " 'food',\n",
       " 'problem',\n",
       " 'city',\n",
       " 'project',\n",
       " 'quality',\n",
       " 'perspective',\n",
       " 'demand',\n",
       " 'rate',\n",
       " 'fig',\n",
       " 'apply',\n",
       " 'world',\n",
       " 'source',\n",
       " 'land',\n",
       " 'produce',\n",
       " 'industrial_ecology',\n",
       " 'order',\n",
       " 'ecological',\n",
       " 'author',\n",
       " 'local',\n",
       " 'propose',\n",
       " 'address',\n",
       " 'reduction',\n",
       " 'build',\n",
       " 'goal',\n",
       " 'effect',\n",
       " 'growth',\n",
       " 'tool',\n",
       " 'solution']"
      ]
     },
     "execution_count": 37,
     "metadata": {},
     "output_type": "execute_result"
    }
   ],
   "source": [
    "sorted(word_freq, key=word_freq.get, reverse=True)[:200]"
   ]
  },
  {
   "cell_type": "code",
   "execution_count": 41,
   "id": "c3e7e551",
   "metadata": {},
   "outputs": [],
   "source": [
    "cores = multiprocessing.cpu_count() # Count the number of cores in a computer"
   ]
  },
  {
   "cell_type": "code",
   "execution_count": 42,
   "id": "2da3c109",
   "metadata": {},
   "outputs": [],
   "source": [
    "#In this first step, we set up the parameters of the model one-by-one. we don't supply the parameter sentences, and therefore leave the model uninitialized, purposefully.\n",
    "w2v_model = Word2Vec(\n",
    "                     vector_size = 150,\n",
    "                     min_count=10, #Ignores all words with total absolute frequency lower than this - (2, 100)                    \n",
    "                     window=10,  #The maximum distance between the current and predicted word within a sentence. E.g. window words on the left and window words on the right of our target\n",
    "                     sample=6e-5,   #Dimensionality of the feature vectors\n",
    "                     alpha=0.03,  #The initial learning rate\n",
    "                     min_alpha=0.0007,  #Learning rate will linearly drop to min_alpha as training progresses. To set it: alpha - (min_alpha * epochs) ~ 0.00\n",
    "                     #negative=10,  #If > 0, negative sampling will be used, the int for negative specifies how many \"noise words\" should be drown. If set to 0, no negative sampling is used. - (5, 20)\n",
    "                     workers=cores-1  #Use these many worker threads to train the model (=faster training with multicore machines)\n",
    "                     )"
   ]
  },
  {
   "cell_type": "code",
   "execution_count": 43,
   "id": "594b2646",
   "metadata": {},
   "outputs": [
    {
     "name": "stdout",
     "output_type": "stream",
     "text": [
      "Time to build vocab: 0.01 mins\n"
     ]
    }
   ],
   "source": [
    "t = time()\n",
    "#Here it builds the vocabulary from a sequence of sentences and thus initialized the model. With the loggings, We can follow the progress and even more important, the effect of min_count and sample on the word corpus. We noticed that these two parameters, and in particular sample, have a great influence over the performance of a model. Displaying both allows for a more accurate and an easier management of their influence.\n",
    "#Word2Vec requires us to build the vocabulary table (simply digesting all the words and filtering out the unique words, and doing some basic counts on them)\n",
    "\n",
    "w2v_model.build_vocab(wholeset)\n",
    "\n",
    "print('Time to build vocab: {} mins'.format(round((time() - t) / 60, 2)))"
   ]
  },
  {
   "cell_type": "code",
   "execution_count": 45,
   "id": "b6593a74",
   "metadata": {},
   "outputs": [
    {
     "name": "stdout",
     "output_type": "stream",
     "text": [
      "Time to train the model: 0.28 mins\n"
     ]
    }
   ],
   "source": [
    "t = time()\n",
    "w2v_model.train(wholeset, total_examples=w2v_model.corpus_count, epochs=30, report_delay=1)\n",
    "\n",
    "print('Time to train the model: {} mins'.format(round((time() - t) / 60, 2)))"
   ]
  },
  {
   "cell_type": "code",
   "execution_count": 47,
   "id": "1ef72dfd",
   "metadata": {},
   "outputs": [],
   "source": [
    "# salva il modello\n",
    "model = w2v_model.save(\"word2vec_cb2.model\")"
   ]
  },
  {
   "cell_type": "code",
   "execution_count": 50,
   "id": "c31cf229",
   "metadata": {},
   "outputs": [],
   "source": [
    "ft_model = deepcopy(model)"
   ]
  },
  {
   "cell_type": "markdown",
   "id": "88feabf1",
   "metadata": {},
   "source": [
    "**FINETUNING OF THE MODEL ON THE DATASET OF EACH YEAR**"
   ]
  },
  {
   "cell_type": "code",
   "execution_count": 54,
   "id": "c0a3d7f6",
   "metadata": {},
   "outputs": [],
   "source": [
    "model = Word2Vec.load(\"word2vec_cb2.model\")\n",
    "\n",
    "ft_models = {}\n",
    "for year, documents in bigram_vocab.items():\n",
    "    \n",
    "    # Upload the deepcopy of the existing model each time the loop is restarted (for each year)\n",
    "    ft_model = deepcopy(model)\n",
    "    \n",
    "    # Update the dictionary with the bigrams of the year and train the new model\n",
    "    ft_model.build_vocab(documents, update=True)\n",
    "    ft_model.train(documents, total_examples=ft_model.corpus_count, epochs=30)\n",
    "    \n",
    "    # Save the model\n",
    "    ft_model.save(f\"word2vec_{year}.model\")\n",
    "    ft_models[year] = ft_model"
   ]
  },
  {
   "cell_type": "code",
   "execution_count": 55,
   "id": "9c3fef47",
   "metadata": {},
   "outputs": [],
   "source": [
    "# SAVE THE VECTORS:\n",
    "ft_vectors = {}\n",
    "for year, model in ft_models.items():\n",
    "    word_vectors = model.wv  \n",
    "    ft_vectors[year] = word_vectors"
   ]
  },
  {
   "cell_type": "code",
   "execution_count": 56,
   "id": "db90ebfd",
   "metadata": {},
   "outputs": [
    {
     "name": "stdout",
     "output_type": "stream",
     "text": [
      "(150,)\n",
      "(150,)\n",
      "(150,)\n",
      "(150,)\n",
      "(150,)\n",
      "(150,)\n",
      "(150,)\n",
      "(150,)\n",
      "(150,)\n",
      "(150,)\n",
      "(150,)\n",
      "(150,)\n",
      "(150,)\n",
      "(150,)\n",
      "(150,)\n",
      "(150,)\n",
      "(150,)\n",
      "(150,)\n"
     ]
    }
   ],
   "source": [
    "for year, word_vector in ft_vectors.items():\n",
    "    print(word_vector['circular_economy'].shape)"
   ]
  },
  {
   "cell_type": "code",
   "execution_count": 58,
   "id": "fff29c02",
   "metadata": {},
   "outputs": [
    {
     "data": {
      "application/vnd.plotly.v1+json": {
       "config": {
        "plotlyServerURL": "https://plot.ly"
       },
       "data": [
        {
         "hovertemplate": "Year=%{text}<br>PCA1=%{x}<br>PCA2=%{y}<extra></extra>",
         "legendgroup": "2006",
         "marker": {
          "color": "#636efa",
          "symbol": "circle"
         },
         "mode": "markers+text",
         "name": "2006",
         "orientation": "v",
         "showlegend": true,
         "text": [
          "2006"
         ],
         "textposition": "top center",
         "type": "scatter",
         "x": [
          -2.1976566314697266
         ],
         "xaxis": "x",
         "y": [
          -0.10902336984872818
         ],
         "yaxis": "y"
        },
        {
         "hovertemplate": "Year=%{text}<br>PCA1=%{x}<br>PCA2=%{y}<extra></extra>",
         "legendgroup": "2007",
         "marker": {
          "color": "#EF553B",
          "symbol": "circle"
         },
         "mode": "markers+text",
         "name": "2007",
         "orientation": "v",
         "showlegend": true,
         "text": [
          "2007"
         ],
         "textposition": "top center",
         "type": "scatter",
         "x": [
          -1.1157506704330444
         ],
         "xaxis": "x",
         "y": [
          0.31063950061798096
         ],
         "yaxis": "y"
        },
        {
         "hovertemplate": "Year=%{text}<br>PCA1=%{x}<br>PCA2=%{y}<extra></extra>",
         "legendgroup": "2008",
         "marker": {
          "color": "#00cc96",
          "symbol": "circle"
         },
         "mode": "markers+text",
         "name": "2008",
         "orientation": "v",
         "showlegend": true,
         "text": [
          "2008"
         ],
         "textposition": "top center",
         "type": "scatter",
         "x": [
          -1.471779704093933
         ],
         "xaxis": "x",
         "y": [
          -0.0575920008122921
         ],
         "yaxis": "y"
        },
        {
         "hovertemplate": "Year=%{text}<br>PCA1=%{x}<br>PCA2=%{y}<extra></extra>",
         "legendgroup": "2009",
         "marker": {
          "color": "#ab63fa",
          "symbol": "circle"
         },
         "mode": "markers+text",
         "name": "2009",
         "orientation": "v",
         "showlegend": true,
         "text": [
          "2009"
         ],
         "textposition": "top center",
         "type": "scatter",
         "x": [
          -1.7002960443496704
         ],
         "xaxis": "x",
         "y": [
          -1.3494566679000854
         ],
         "yaxis": "y"
        },
        {
         "hovertemplate": "Year=%{text}<br>PCA1=%{x}<br>PCA2=%{y}<extra></extra>",
         "legendgroup": "2010",
         "marker": {
          "color": "#FFA15A",
          "symbol": "circle"
         },
         "mode": "markers+text",
         "name": "2010",
         "orientation": "v",
         "showlegend": true,
         "text": [
          "2010"
         ],
         "textposition": "top center",
         "type": "scatter",
         "x": [
          -1.5971466302871704
         ],
         "xaxis": "x",
         "y": [
          -0.02332325279712677
         ],
         "yaxis": "y"
        },
        {
         "hovertemplate": "Year=%{text}<br>PCA1=%{x}<br>PCA2=%{y}<extra></extra>",
         "legendgroup": "2011",
         "marker": {
          "color": "#19d3f3",
          "symbol": "circle"
         },
         "mode": "markers+text",
         "name": "2011",
         "orientation": "v",
         "showlegend": true,
         "text": [
          "2011"
         ],
         "textposition": "top center",
         "type": "scatter",
         "x": [
          -1.8512811660766602
         ],
         "xaxis": "x",
         "y": [
          -0.16821053624153137
         ],
         "yaxis": "y"
        },
        {
         "hovertemplate": "Year=%{text}<br>PCA1=%{x}<br>PCA2=%{y}<extra></extra>",
         "legendgroup": "2012",
         "marker": {
          "color": "#FF6692",
          "symbol": "circle"
         },
         "mode": "markers+text",
         "name": "2012",
         "orientation": "v",
         "showlegend": true,
         "text": [
          "2012"
         ],
         "textposition": "top center",
         "type": "scatter",
         "x": [
          -2.563314199447632
         ],
         "xaxis": "x",
         "y": [
          -1.5610214471817017
         ],
         "yaxis": "y"
        },
        {
         "hovertemplate": "Year=%{text}<br>PCA1=%{x}<br>PCA2=%{y}<extra></extra>",
         "legendgroup": "2013",
         "marker": {
          "color": "#B6E880",
          "symbol": "circle"
         },
         "mode": "markers+text",
         "name": "2013",
         "orientation": "v",
         "showlegend": true,
         "text": [
          "2013"
         ],
         "textposition": "top center",
         "type": "scatter",
         "x": [
          -1.274354338645935
         ],
         "xaxis": "x",
         "y": [
          -0.18454129993915558
         ],
         "yaxis": "y"
        },
        {
         "hovertemplate": "Year=%{text}<br>PCA1=%{x}<br>PCA2=%{y}<extra></extra>",
         "legendgroup": "2014",
         "marker": {
          "color": "#FF97FF",
          "symbol": "circle"
         },
         "mode": "markers+text",
         "name": "2014",
         "orientation": "v",
         "showlegend": true,
         "text": [
          "2014"
         ],
         "textposition": "top center",
         "type": "scatter",
         "x": [
          -0.9291655421257019
         ],
         "xaxis": "x",
         "y": [
          1.9412496089935303
         ],
         "yaxis": "y"
        },
        {
         "hovertemplate": "Year=%{text}<br>PCA1=%{x}<br>PCA2=%{y}<extra></extra>",
         "legendgroup": "2015",
         "marker": {
          "color": "#FECB52",
          "symbol": "circle"
         },
         "mode": "markers+text",
         "name": "2015",
         "orientation": "v",
         "showlegend": true,
         "text": [
          "2015"
         ],
         "textposition": "top center",
         "type": "scatter",
         "x": [
          0.5066794157028198
         ],
         "xaxis": "x",
         "y": [
          1.127940058708191
         ],
         "yaxis": "y"
        },
        {
         "hovertemplate": "Year=%{text}<br>PCA1=%{x}<br>PCA2=%{y}<extra></extra>",
         "legendgroup": "2016",
         "marker": {
          "color": "#636efa",
          "symbol": "circle"
         },
         "mode": "markers+text",
         "name": "2016",
         "orientation": "v",
         "showlegend": true,
         "text": [
          "2016"
         ],
         "textposition": "top center",
         "type": "scatter",
         "x": [
          0.5503859519958496
         ],
         "xaxis": "x",
         "y": [
          2.6397430896759033
         ],
         "yaxis": "y"
        },
        {
         "hovertemplate": "Year=%{text}<br>PCA1=%{x}<br>PCA2=%{y}<extra></extra>",
         "legendgroup": "2017",
         "marker": {
          "color": "#EF553B",
          "symbol": "circle"
         },
         "mode": "markers+text",
         "name": "2017",
         "orientation": "v",
         "showlegend": true,
         "text": [
          "2017"
         ],
         "textposition": "top center",
         "type": "scatter",
         "x": [
          1.7175735235214233
         ],
         "xaxis": "x",
         "y": [
          2.242358446121216
         ],
         "yaxis": "y"
        },
        {
         "hovertemplate": "Year=%{text}<br>PCA1=%{x}<br>PCA2=%{y}<extra></extra>",
         "legendgroup": "2018",
         "marker": {
          "color": "#00cc96",
          "symbol": "circle"
         },
         "mode": "markers+text",
         "name": "2018",
         "orientation": "v",
         "showlegend": true,
         "text": [
          "2018"
         ],
         "textposition": "top center",
         "type": "scatter",
         "x": [
          1.9657566547393799
         ],
         "xaxis": "x",
         "y": [
          -0.017160216346383095
         ],
         "yaxis": "y"
        },
        {
         "hovertemplate": "Year=%{text}<br>PCA1=%{x}<br>PCA2=%{y}<extra></extra>",
         "legendgroup": "2019",
         "marker": {
          "color": "#ab63fa",
          "symbol": "circle"
         },
         "mode": "markers+text",
         "name": "2019",
         "orientation": "v",
         "showlegend": true,
         "text": [
          "2019"
         ],
         "textposition": "top center",
         "type": "scatter",
         "x": [
          1.5083084106445312
         ],
         "xaxis": "x",
         "y": [
          0.6077018976211548
         ],
         "yaxis": "y"
        },
        {
         "hovertemplate": "Year=%{text}<br>PCA1=%{x}<br>PCA2=%{y}<extra></extra>",
         "legendgroup": "2020",
         "marker": {
          "color": "#FFA15A",
          "symbol": "circle"
         },
         "mode": "markers+text",
         "name": "2020",
         "orientation": "v",
         "showlegend": true,
         "text": [
          "2020"
         ],
         "textposition": "top center",
         "type": "scatter",
         "x": [
          1.3298933506011963
         ],
         "xaxis": "x",
         "y": [
          -1.2123618125915527
         ],
         "yaxis": "y"
        },
        {
         "hovertemplate": "Year=%{text}<br>PCA1=%{x}<br>PCA2=%{y}<extra></extra>",
         "legendgroup": "2021",
         "marker": {
          "color": "#19d3f3",
          "symbol": "circle"
         },
         "mode": "markers+text",
         "name": "2021",
         "orientation": "v",
         "showlegend": true,
         "text": [
          "2021"
         ],
         "textposition": "top center",
         "type": "scatter",
         "x": [
          2.0511395931243896
         ],
         "xaxis": "x",
         "y": [
          -1.3866666555404663
         ],
         "yaxis": "y"
        },
        {
         "hovertemplate": "Year=%{text}<br>PCA1=%{x}<br>PCA2=%{y}<extra></extra>",
         "legendgroup": "2022",
         "marker": {
          "color": "#FF6692",
          "symbol": "circle"
         },
         "mode": "markers+text",
         "name": "2022",
         "orientation": "v",
         "showlegend": true,
         "text": [
          "2022"
         ],
         "textposition": "top center",
         "type": "scatter",
         "x": [
          2.2623450756073
         ],
         "xaxis": "x",
         "y": [
          -0.9320645332336426
         ],
         "yaxis": "y"
        },
        {
         "hovertemplate": "Year=%{text}<br>PCA1=%{x}<br>PCA2=%{y}<extra></extra>",
         "legendgroup": "2023",
         "marker": {
          "color": "#B6E880",
          "symbol": "circle"
         },
         "mode": "markers+text",
         "name": "2023",
         "orientation": "v",
         "showlegend": true,
         "text": [
          "2023"
         ],
         "textposition": "top center",
         "type": "scatter",
         "x": [
          2.808661460876465
         ],
         "xaxis": "x",
         "y": [
          -1.868208885192871
         ],
         "yaxis": "y"
        }
       ],
       "layout": {
        "legend": {
         "title": {
          "text": "Year"
         },
         "tracegroupgap": 0
        },
        "showlegend": true,
        "template": {
         "data": {
          "bar": [
           {
            "error_x": {
             "color": "#2a3f5f"
            },
            "error_y": {
             "color": "#2a3f5f"
            },
            "marker": {
             "line": {
              "color": "white",
              "width": 0.5
             },
             "pattern": {
              "fillmode": "overlay",
              "size": 10,
              "solidity": 0.2
             }
            },
            "type": "bar"
           }
          ],
          "barpolar": [
           {
            "marker": {
             "line": {
              "color": "white",
              "width": 0.5
             },
             "pattern": {
              "fillmode": "overlay",
              "size": 10,
              "solidity": 0.2
             }
            },
            "type": "barpolar"
           }
          ],
          "carpet": [
           {
            "aaxis": {
             "endlinecolor": "#2a3f5f",
             "gridcolor": "#C8D4E3",
             "linecolor": "#C8D4E3",
             "minorgridcolor": "#C8D4E3",
             "startlinecolor": "#2a3f5f"
            },
            "baxis": {
             "endlinecolor": "#2a3f5f",
             "gridcolor": "#C8D4E3",
             "linecolor": "#C8D4E3",
             "minorgridcolor": "#C8D4E3",
             "startlinecolor": "#2a3f5f"
            },
            "type": "carpet"
           }
          ],
          "choropleth": [
           {
            "colorbar": {
             "outlinewidth": 0,
             "ticks": ""
            },
            "type": "choropleth"
           }
          ],
          "contour": [
           {
            "colorbar": {
             "outlinewidth": 0,
             "ticks": ""
            },
            "colorscale": [
             [
              0,
              "#0d0887"
             ],
             [
              0.1111111111111111,
              "#46039f"
             ],
             [
              0.2222222222222222,
              "#7201a8"
             ],
             [
              0.3333333333333333,
              "#9c179e"
             ],
             [
              0.4444444444444444,
              "#bd3786"
             ],
             [
              0.5555555555555556,
              "#d8576b"
             ],
             [
              0.6666666666666666,
              "#ed7953"
             ],
             [
              0.7777777777777778,
              "#fb9f3a"
             ],
             [
              0.8888888888888888,
              "#fdca26"
             ],
             [
              1,
              "#f0f921"
             ]
            ],
            "type": "contour"
           }
          ],
          "contourcarpet": [
           {
            "colorbar": {
             "outlinewidth": 0,
             "ticks": ""
            },
            "type": "contourcarpet"
           }
          ],
          "heatmap": [
           {
            "colorbar": {
             "outlinewidth": 0,
             "ticks": ""
            },
            "colorscale": [
             [
              0,
              "#0d0887"
             ],
             [
              0.1111111111111111,
              "#46039f"
             ],
             [
              0.2222222222222222,
              "#7201a8"
             ],
             [
              0.3333333333333333,
              "#9c179e"
             ],
             [
              0.4444444444444444,
              "#bd3786"
             ],
             [
              0.5555555555555556,
              "#d8576b"
             ],
             [
              0.6666666666666666,
              "#ed7953"
             ],
             [
              0.7777777777777778,
              "#fb9f3a"
             ],
             [
              0.8888888888888888,
              "#fdca26"
             ],
             [
              1,
              "#f0f921"
             ]
            ],
            "type": "heatmap"
           }
          ],
          "heatmapgl": [
           {
            "colorbar": {
             "outlinewidth": 0,
             "ticks": ""
            },
            "colorscale": [
             [
              0,
              "#0d0887"
             ],
             [
              0.1111111111111111,
              "#46039f"
             ],
             [
              0.2222222222222222,
              "#7201a8"
             ],
             [
              0.3333333333333333,
              "#9c179e"
             ],
             [
              0.4444444444444444,
              "#bd3786"
             ],
             [
              0.5555555555555556,
              "#d8576b"
             ],
             [
              0.6666666666666666,
              "#ed7953"
             ],
             [
              0.7777777777777778,
              "#fb9f3a"
             ],
             [
              0.8888888888888888,
              "#fdca26"
             ],
             [
              1,
              "#f0f921"
             ]
            ],
            "type": "heatmapgl"
           }
          ],
          "histogram": [
           {
            "marker": {
             "pattern": {
              "fillmode": "overlay",
              "size": 10,
              "solidity": 0.2
             }
            },
            "type": "histogram"
           }
          ],
          "histogram2d": [
           {
            "colorbar": {
             "outlinewidth": 0,
             "ticks": ""
            },
            "colorscale": [
             [
              0,
              "#0d0887"
             ],
             [
              0.1111111111111111,
              "#46039f"
             ],
             [
              0.2222222222222222,
              "#7201a8"
             ],
             [
              0.3333333333333333,
              "#9c179e"
             ],
             [
              0.4444444444444444,
              "#bd3786"
             ],
             [
              0.5555555555555556,
              "#d8576b"
             ],
             [
              0.6666666666666666,
              "#ed7953"
             ],
             [
              0.7777777777777778,
              "#fb9f3a"
             ],
             [
              0.8888888888888888,
              "#fdca26"
             ],
             [
              1,
              "#f0f921"
             ]
            ],
            "type": "histogram2d"
           }
          ],
          "histogram2dcontour": [
           {
            "colorbar": {
             "outlinewidth": 0,
             "ticks": ""
            },
            "colorscale": [
             [
              0,
              "#0d0887"
             ],
             [
              0.1111111111111111,
              "#46039f"
             ],
             [
              0.2222222222222222,
              "#7201a8"
             ],
             [
              0.3333333333333333,
              "#9c179e"
             ],
             [
              0.4444444444444444,
              "#bd3786"
             ],
             [
              0.5555555555555556,
              "#d8576b"
             ],
             [
              0.6666666666666666,
              "#ed7953"
             ],
             [
              0.7777777777777778,
              "#fb9f3a"
             ],
             [
              0.8888888888888888,
              "#fdca26"
             ],
             [
              1,
              "#f0f921"
             ]
            ],
            "type": "histogram2dcontour"
           }
          ],
          "mesh3d": [
           {
            "colorbar": {
             "outlinewidth": 0,
             "ticks": ""
            },
            "type": "mesh3d"
           }
          ],
          "parcoords": [
           {
            "line": {
             "colorbar": {
              "outlinewidth": 0,
              "ticks": ""
             }
            },
            "type": "parcoords"
           }
          ],
          "pie": [
           {
            "automargin": true,
            "type": "pie"
           }
          ],
          "scatter": [
           {
            "fillpattern": {
             "fillmode": "overlay",
             "size": 10,
             "solidity": 0.2
            },
            "type": "scatter"
           }
          ],
          "scatter3d": [
           {
            "line": {
             "colorbar": {
              "outlinewidth": 0,
              "ticks": ""
             }
            },
            "marker": {
             "colorbar": {
              "outlinewidth": 0,
              "ticks": ""
             }
            },
            "type": "scatter3d"
           }
          ],
          "scattercarpet": [
           {
            "marker": {
             "colorbar": {
              "outlinewidth": 0,
              "ticks": ""
             }
            },
            "type": "scattercarpet"
           }
          ],
          "scattergeo": [
           {
            "marker": {
             "colorbar": {
              "outlinewidth": 0,
              "ticks": ""
             }
            },
            "type": "scattergeo"
           }
          ],
          "scattergl": [
           {
            "marker": {
             "colorbar": {
              "outlinewidth": 0,
              "ticks": ""
             }
            },
            "type": "scattergl"
           }
          ],
          "scattermapbox": [
           {
            "marker": {
             "colorbar": {
              "outlinewidth": 0,
              "ticks": ""
             }
            },
            "type": "scattermapbox"
           }
          ],
          "scatterpolar": [
           {
            "marker": {
             "colorbar": {
              "outlinewidth": 0,
              "ticks": ""
             }
            },
            "type": "scatterpolar"
           }
          ],
          "scatterpolargl": [
           {
            "marker": {
             "colorbar": {
              "outlinewidth": 0,
              "ticks": ""
             }
            },
            "type": "scatterpolargl"
           }
          ],
          "scatterternary": [
           {
            "marker": {
             "colorbar": {
              "outlinewidth": 0,
              "ticks": ""
             }
            },
            "type": "scatterternary"
           }
          ],
          "surface": [
           {
            "colorbar": {
             "outlinewidth": 0,
             "ticks": ""
            },
            "colorscale": [
             [
              0,
              "#0d0887"
             ],
             [
              0.1111111111111111,
              "#46039f"
             ],
             [
              0.2222222222222222,
              "#7201a8"
             ],
             [
              0.3333333333333333,
              "#9c179e"
             ],
             [
              0.4444444444444444,
              "#bd3786"
             ],
             [
              0.5555555555555556,
              "#d8576b"
             ],
             [
              0.6666666666666666,
              "#ed7953"
             ],
             [
              0.7777777777777778,
              "#fb9f3a"
             ],
             [
              0.8888888888888888,
              "#fdca26"
             ],
             [
              1,
              "#f0f921"
             ]
            ],
            "type": "surface"
           }
          ],
          "table": [
           {
            "cells": {
             "fill": {
              "color": "#EBF0F8"
             },
             "line": {
              "color": "white"
             }
            },
            "header": {
             "fill": {
              "color": "#C8D4E3"
             },
             "line": {
              "color": "white"
             }
            },
            "type": "table"
           }
          ]
         },
         "layout": {
          "annotationdefaults": {
           "arrowcolor": "#2a3f5f",
           "arrowhead": 0,
           "arrowwidth": 1
          },
          "autotypenumbers": "strict",
          "coloraxis": {
           "colorbar": {
            "outlinewidth": 0,
            "ticks": ""
           }
          },
          "colorscale": {
           "diverging": [
            [
             0,
             "#8e0152"
            ],
            [
             0.1,
             "#c51b7d"
            ],
            [
             0.2,
             "#de77ae"
            ],
            [
             0.3,
             "#f1b6da"
            ],
            [
             0.4,
             "#fde0ef"
            ],
            [
             0.5,
             "#f7f7f7"
            ],
            [
             0.6,
             "#e6f5d0"
            ],
            [
             0.7,
             "#b8e186"
            ],
            [
             0.8,
             "#7fbc41"
            ],
            [
             0.9,
             "#4d9221"
            ],
            [
             1,
             "#276419"
            ]
           ],
           "sequential": [
            [
             0,
             "#0d0887"
            ],
            [
             0.1111111111111111,
             "#46039f"
            ],
            [
             0.2222222222222222,
             "#7201a8"
            ],
            [
             0.3333333333333333,
             "#9c179e"
            ],
            [
             0.4444444444444444,
             "#bd3786"
            ],
            [
             0.5555555555555556,
             "#d8576b"
            ],
            [
             0.6666666666666666,
             "#ed7953"
            ],
            [
             0.7777777777777778,
             "#fb9f3a"
            ],
            [
             0.8888888888888888,
             "#fdca26"
            ],
            [
             1,
             "#f0f921"
            ]
           ],
           "sequentialminus": [
            [
             0,
             "#0d0887"
            ],
            [
             0.1111111111111111,
             "#46039f"
            ],
            [
             0.2222222222222222,
             "#7201a8"
            ],
            [
             0.3333333333333333,
             "#9c179e"
            ],
            [
             0.4444444444444444,
             "#bd3786"
            ],
            [
             0.5555555555555556,
             "#d8576b"
            ],
            [
             0.6666666666666666,
             "#ed7953"
            ],
            [
             0.7777777777777778,
             "#fb9f3a"
            ],
            [
             0.8888888888888888,
             "#fdca26"
            ],
            [
             1,
             "#f0f921"
            ]
           ]
          },
          "colorway": [
           "#636efa",
           "#EF553B",
           "#00cc96",
           "#ab63fa",
           "#FFA15A",
           "#19d3f3",
           "#FF6692",
           "#B6E880",
           "#FF97FF",
           "#FECB52"
          ],
          "font": {
           "color": "#2a3f5f"
          },
          "geo": {
           "bgcolor": "white",
           "lakecolor": "white",
           "landcolor": "white",
           "showlakes": true,
           "showland": true,
           "subunitcolor": "#C8D4E3"
          },
          "hoverlabel": {
           "align": "left"
          },
          "hovermode": "closest",
          "mapbox": {
           "style": "light"
          },
          "paper_bgcolor": "white",
          "plot_bgcolor": "white",
          "polar": {
           "angularaxis": {
            "gridcolor": "#EBF0F8",
            "linecolor": "#EBF0F8",
            "ticks": ""
           },
           "bgcolor": "white",
           "radialaxis": {
            "gridcolor": "#EBF0F8",
            "linecolor": "#EBF0F8",
            "ticks": ""
           }
          },
          "scene": {
           "xaxis": {
            "backgroundcolor": "white",
            "gridcolor": "#DFE8F3",
            "gridwidth": 2,
            "linecolor": "#EBF0F8",
            "showbackground": true,
            "ticks": "",
            "zerolinecolor": "#EBF0F8"
           },
           "yaxis": {
            "backgroundcolor": "white",
            "gridcolor": "#DFE8F3",
            "gridwidth": 2,
            "linecolor": "#EBF0F8",
            "showbackground": true,
            "ticks": "",
            "zerolinecolor": "#EBF0F8"
           },
           "zaxis": {
            "backgroundcolor": "white",
            "gridcolor": "#DFE8F3",
            "gridwidth": 2,
            "linecolor": "#EBF0F8",
            "showbackground": true,
            "ticks": "",
            "zerolinecolor": "#EBF0F8"
           }
          },
          "shapedefaults": {
           "line": {
            "color": "#2a3f5f"
           }
          },
          "ternary": {
           "aaxis": {
            "gridcolor": "#DFE8F3",
            "linecolor": "#A2B1C6",
            "ticks": ""
           },
           "baxis": {
            "gridcolor": "#DFE8F3",
            "linecolor": "#A2B1C6",
            "ticks": ""
           },
           "bgcolor": "white",
           "caxis": {
            "gridcolor": "#DFE8F3",
            "linecolor": "#A2B1C6",
            "ticks": ""
           }
          },
          "title": {
           "x": 0.05
          },
          "xaxis": {
           "automargin": true,
           "gridcolor": "#EBF0F8",
           "linecolor": "#EBF0F8",
           "ticks": "",
           "title": {
            "standoff": 15
           },
           "zerolinecolor": "#EBF0F8",
           "zerolinewidth": 2
          },
          "yaxis": {
           "automargin": true,
           "gridcolor": "#EBF0F8",
           "linecolor": "#EBF0F8",
           "ticks": "",
           "title": {
            "standoff": 15
           },
           "zerolinecolor": "#EBF0F8",
           "zerolinewidth": 2
          }
         }
        },
        "title": {
         "text": "2D Representation of Circular Economy embeddings\""
        },
        "xaxis": {
         "anchor": "y",
         "domain": [
          0,
          1
         ],
         "title": {
          "text": "PCA1"
         }
        },
        "yaxis": {
         "anchor": "x",
         "domain": [
          0,
          1
         ],
         "title": {
          "text": "PCA2"
         }
        }
       }
      },
      "text/html": [
       "<div>                            <div id=\"625eea80-81eb-4002-b02e-2d248338830f\" class=\"plotly-graph-div\" style=\"height:525px; width:100%;\"></div>            <script type=\"text/javascript\">                require([\"plotly\"], function(Plotly) {                    window.PLOTLYENV=window.PLOTLYENV || {};                                    if (document.getElementById(\"625eea80-81eb-4002-b02e-2d248338830f\")) {                    Plotly.newPlot(                        \"625eea80-81eb-4002-b02e-2d248338830f\",                        [{\"hovertemplate\":\"Year=%{text}<br>PCA1=%{x}<br>PCA2=%{y}<extra></extra>\",\"legendgroup\":\"2006\",\"marker\":{\"color\":\"#636efa\",\"symbol\":\"circle\"},\"mode\":\"markers+text\",\"name\":\"2006\",\"orientation\":\"v\",\"showlegend\":true,\"text\":[\"2006\"],\"x\":[-2.1976566314697266],\"xaxis\":\"x\",\"y\":[-0.10902336984872818],\"yaxis\":\"y\",\"type\":\"scatter\",\"textposition\":\"top center\"},{\"hovertemplate\":\"Year=%{text}<br>PCA1=%{x}<br>PCA2=%{y}<extra></extra>\",\"legendgroup\":\"2007\",\"marker\":{\"color\":\"#EF553B\",\"symbol\":\"circle\"},\"mode\":\"markers+text\",\"name\":\"2007\",\"orientation\":\"v\",\"showlegend\":true,\"text\":[\"2007\"],\"x\":[-1.1157506704330444],\"xaxis\":\"x\",\"y\":[0.31063950061798096],\"yaxis\":\"y\",\"type\":\"scatter\",\"textposition\":\"top center\"},{\"hovertemplate\":\"Year=%{text}<br>PCA1=%{x}<br>PCA2=%{y}<extra></extra>\",\"legendgroup\":\"2008\",\"marker\":{\"color\":\"#00cc96\",\"symbol\":\"circle\"},\"mode\":\"markers+text\",\"name\":\"2008\",\"orientation\":\"v\",\"showlegend\":true,\"text\":[\"2008\"],\"x\":[-1.471779704093933],\"xaxis\":\"x\",\"y\":[-0.0575920008122921],\"yaxis\":\"y\",\"type\":\"scatter\",\"textposition\":\"top center\"},{\"hovertemplate\":\"Year=%{text}<br>PCA1=%{x}<br>PCA2=%{y}<extra></extra>\",\"legendgroup\":\"2009\",\"marker\":{\"color\":\"#ab63fa\",\"symbol\":\"circle\"},\"mode\":\"markers+text\",\"name\":\"2009\",\"orientation\":\"v\",\"showlegend\":true,\"text\":[\"2009\"],\"x\":[-1.7002960443496704],\"xaxis\":\"x\",\"y\":[-1.3494566679000854],\"yaxis\":\"y\",\"type\":\"scatter\",\"textposition\":\"top center\"},{\"hovertemplate\":\"Year=%{text}<br>PCA1=%{x}<br>PCA2=%{y}<extra></extra>\",\"legendgroup\":\"2010\",\"marker\":{\"color\":\"#FFA15A\",\"symbol\":\"circle\"},\"mode\":\"markers+text\",\"name\":\"2010\",\"orientation\":\"v\",\"showlegend\":true,\"text\":[\"2010\"],\"x\":[-1.5971466302871704],\"xaxis\":\"x\",\"y\":[-0.02332325279712677],\"yaxis\":\"y\",\"type\":\"scatter\",\"textposition\":\"top center\"},{\"hovertemplate\":\"Year=%{text}<br>PCA1=%{x}<br>PCA2=%{y}<extra></extra>\",\"legendgroup\":\"2011\",\"marker\":{\"color\":\"#19d3f3\",\"symbol\":\"circle\"},\"mode\":\"markers+text\",\"name\":\"2011\",\"orientation\":\"v\",\"showlegend\":true,\"text\":[\"2011\"],\"x\":[-1.8512811660766602],\"xaxis\":\"x\",\"y\":[-0.16821053624153137],\"yaxis\":\"y\",\"type\":\"scatter\",\"textposition\":\"top center\"},{\"hovertemplate\":\"Year=%{text}<br>PCA1=%{x}<br>PCA2=%{y}<extra></extra>\",\"legendgroup\":\"2012\",\"marker\":{\"color\":\"#FF6692\",\"symbol\":\"circle\"},\"mode\":\"markers+text\",\"name\":\"2012\",\"orientation\":\"v\",\"showlegend\":true,\"text\":[\"2012\"],\"x\":[-2.563314199447632],\"xaxis\":\"x\",\"y\":[-1.5610214471817017],\"yaxis\":\"y\",\"type\":\"scatter\",\"textposition\":\"top center\"},{\"hovertemplate\":\"Year=%{text}<br>PCA1=%{x}<br>PCA2=%{y}<extra></extra>\",\"legendgroup\":\"2013\",\"marker\":{\"color\":\"#B6E880\",\"symbol\":\"circle\"},\"mode\":\"markers+text\",\"name\":\"2013\",\"orientation\":\"v\",\"showlegend\":true,\"text\":[\"2013\"],\"x\":[-1.274354338645935],\"xaxis\":\"x\",\"y\":[-0.18454129993915558],\"yaxis\":\"y\",\"type\":\"scatter\",\"textposition\":\"top center\"},{\"hovertemplate\":\"Year=%{text}<br>PCA1=%{x}<br>PCA2=%{y}<extra></extra>\",\"legendgroup\":\"2014\",\"marker\":{\"color\":\"#FF97FF\",\"symbol\":\"circle\"},\"mode\":\"markers+text\",\"name\":\"2014\",\"orientation\":\"v\",\"showlegend\":true,\"text\":[\"2014\"],\"x\":[-0.9291655421257019],\"xaxis\":\"x\",\"y\":[1.9412496089935303],\"yaxis\":\"y\",\"type\":\"scatter\",\"textposition\":\"top center\"},{\"hovertemplate\":\"Year=%{text}<br>PCA1=%{x}<br>PCA2=%{y}<extra></extra>\",\"legendgroup\":\"2015\",\"marker\":{\"color\":\"#FECB52\",\"symbol\":\"circle\"},\"mode\":\"markers+text\",\"name\":\"2015\",\"orientation\":\"v\",\"showlegend\":true,\"text\":[\"2015\"],\"x\":[0.5066794157028198],\"xaxis\":\"x\",\"y\":[1.127940058708191],\"yaxis\":\"y\",\"type\":\"scatter\",\"textposition\":\"top center\"},{\"hovertemplate\":\"Year=%{text}<br>PCA1=%{x}<br>PCA2=%{y}<extra></extra>\",\"legendgroup\":\"2016\",\"marker\":{\"color\":\"#636efa\",\"symbol\":\"circle\"},\"mode\":\"markers+text\",\"name\":\"2016\",\"orientation\":\"v\",\"showlegend\":true,\"text\":[\"2016\"],\"x\":[0.5503859519958496],\"xaxis\":\"x\",\"y\":[2.6397430896759033],\"yaxis\":\"y\",\"type\":\"scatter\",\"textposition\":\"top center\"},{\"hovertemplate\":\"Year=%{text}<br>PCA1=%{x}<br>PCA2=%{y}<extra></extra>\",\"legendgroup\":\"2017\",\"marker\":{\"color\":\"#EF553B\",\"symbol\":\"circle\"},\"mode\":\"markers+text\",\"name\":\"2017\",\"orientation\":\"v\",\"showlegend\":true,\"text\":[\"2017\"],\"x\":[1.7175735235214233],\"xaxis\":\"x\",\"y\":[2.242358446121216],\"yaxis\":\"y\",\"type\":\"scatter\",\"textposition\":\"top center\"},{\"hovertemplate\":\"Year=%{text}<br>PCA1=%{x}<br>PCA2=%{y}<extra></extra>\",\"legendgroup\":\"2018\",\"marker\":{\"color\":\"#00cc96\",\"symbol\":\"circle\"},\"mode\":\"markers+text\",\"name\":\"2018\",\"orientation\":\"v\",\"showlegend\":true,\"text\":[\"2018\"],\"x\":[1.9657566547393799],\"xaxis\":\"x\",\"y\":[-0.017160216346383095],\"yaxis\":\"y\",\"type\":\"scatter\",\"textposition\":\"top center\"},{\"hovertemplate\":\"Year=%{text}<br>PCA1=%{x}<br>PCA2=%{y}<extra></extra>\",\"legendgroup\":\"2019\",\"marker\":{\"color\":\"#ab63fa\",\"symbol\":\"circle\"},\"mode\":\"markers+text\",\"name\":\"2019\",\"orientation\":\"v\",\"showlegend\":true,\"text\":[\"2019\"],\"x\":[1.5083084106445312],\"xaxis\":\"x\",\"y\":[0.6077018976211548],\"yaxis\":\"y\",\"type\":\"scatter\",\"textposition\":\"top center\"},{\"hovertemplate\":\"Year=%{text}<br>PCA1=%{x}<br>PCA2=%{y}<extra></extra>\",\"legendgroup\":\"2020\",\"marker\":{\"color\":\"#FFA15A\",\"symbol\":\"circle\"},\"mode\":\"markers+text\",\"name\":\"2020\",\"orientation\":\"v\",\"showlegend\":true,\"text\":[\"2020\"],\"x\":[1.3298933506011963],\"xaxis\":\"x\",\"y\":[-1.2123618125915527],\"yaxis\":\"y\",\"type\":\"scatter\",\"textposition\":\"top center\"},{\"hovertemplate\":\"Year=%{text}<br>PCA1=%{x}<br>PCA2=%{y}<extra></extra>\",\"legendgroup\":\"2021\",\"marker\":{\"color\":\"#19d3f3\",\"symbol\":\"circle\"},\"mode\":\"markers+text\",\"name\":\"2021\",\"orientation\":\"v\",\"showlegend\":true,\"text\":[\"2021\"],\"x\":[2.0511395931243896],\"xaxis\":\"x\",\"y\":[-1.3866666555404663],\"yaxis\":\"y\",\"type\":\"scatter\",\"textposition\":\"top center\"},{\"hovertemplate\":\"Year=%{text}<br>PCA1=%{x}<br>PCA2=%{y}<extra></extra>\",\"legendgroup\":\"2022\",\"marker\":{\"color\":\"#FF6692\",\"symbol\":\"circle\"},\"mode\":\"markers+text\",\"name\":\"2022\",\"orientation\":\"v\",\"showlegend\":true,\"text\":[\"2022\"],\"x\":[2.2623450756073],\"xaxis\":\"x\",\"y\":[-0.9320645332336426],\"yaxis\":\"y\",\"type\":\"scatter\",\"textposition\":\"top center\"},{\"hovertemplate\":\"Year=%{text}<br>PCA1=%{x}<br>PCA2=%{y}<extra></extra>\",\"legendgroup\":\"2023\",\"marker\":{\"color\":\"#B6E880\",\"symbol\":\"circle\"},\"mode\":\"markers+text\",\"name\":\"2023\",\"orientation\":\"v\",\"showlegend\":true,\"text\":[\"2023\"],\"x\":[2.808661460876465],\"xaxis\":\"x\",\"y\":[-1.868208885192871],\"yaxis\":\"y\",\"type\":\"scatter\",\"textposition\":\"top center\"}],                        {\"template\":{\"data\":{\"barpolar\":[{\"marker\":{\"line\":{\"color\":\"white\",\"width\":0.5},\"pattern\":{\"fillmode\":\"overlay\",\"size\":10,\"solidity\":0.2}},\"type\":\"barpolar\"}],\"bar\":[{\"error_x\":{\"color\":\"#2a3f5f\"},\"error_y\":{\"color\":\"#2a3f5f\"},\"marker\":{\"line\":{\"color\":\"white\",\"width\":0.5},\"pattern\":{\"fillmode\":\"overlay\",\"size\":10,\"solidity\":0.2}},\"type\":\"bar\"}],\"carpet\":[{\"aaxis\":{\"endlinecolor\":\"#2a3f5f\",\"gridcolor\":\"#C8D4E3\",\"linecolor\":\"#C8D4E3\",\"minorgridcolor\":\"#C8D4E3\",\"startlinecolor\":\"#2a3f5f\"},\"baxis\":{\"endlinecolor\":\"#2a3f5f\",\"gridcolor\":\"#C8D4E3\",\"linecolor\":\"#C8D4E3\",\"minorgridcolor\":\"#C8D4E3\",\"startlinecolor\":\"#2a3f5f\"},\"type\":\"carpet\"}],\"choropleth\":[{\"colorbar\":{\"outlinewidth\":0,\"ticks\":\"\"},\"type\":\"choropleth\"}],\"contourcarpet\":[{\"colorbar\":{\"outlinewidth\":0,\"ticks\":\"\"},\"type\":\"contourcarpet\"}],\"contour\":[{\"colorbar\":{\"outlinewidth\":0,\"ticks\":\"\"},\"colorscale\":[[0.0,\"#0d0887\"],[0.1111111111111111,\"#46039f\"],[0.2222222222222222,\"#7201a8\"],[0.3333333333333333,\"#9c179e\"],[0.4444444444444444,\"#bd3786\"],[0.5555555555555556,\"#d8576b\"],[0.6666666666666666,\"#ed7953\"],[0.7777777777777778,\"#fb9f3a\"],[0.8888888888888888,\"#fdca26\"],[1.0,\"#f0f921\"]],\"type\":\"contour\"}],\"heatmapgl\":[{\"colorbar\":{\"outlinewidth\":0,\"ticks\":\"\"},\"colorscale\":[[0.0,\"#0d0887\"],[0.1111111111111111,\"#46039f\"],[0.2222222222222222,\"#7201a8\"],[0.3333333333333333,\"#9c179e\"],[0.4444444444444444,\"#bd3786\"],[0.5555555555555556,\"#d8576b\"],[0.6666666666666666,\"#ed7953\"],[0.7777777777777778,\"#fb9f3a\"],[0.8888888888888888,\"#fdca26\"],[1.0,\"#f0f921\"]],\"type\":\"heatmapgl\"}],\"heatmap\":[{\"colorbar\":{\"outlinewidth\":0,\"ticks\":\"\"},\"colorscale\":[[0.0,\"#0d0887\"],[0.1111111111111111,\"#46039f\"],[0.2222222222222222,\"#7201a8\"],[0.3333333333333333,\"#9c179e\"],[0.4444444444444444,\"#bd3786\"],[0.5555555555555556,\"#d8576b\"],[0.6666666666666666,\"#ed7953\"],[0.7777777777777778,\"#fb9f3a\"],[0.8888888888888888,\"#fdca26\"],[1.0,\"#f0f921\"]],\"type\":\"heatmap\"}],\"histogram2dcontour\":[{\"colorbar\":{\"outlinewidth\":0,\"ticks\":\"\"},\"colorscale\":[[0.0,\"#0d0887\"],[0.1111111111111111,\"#46039f\"],[0.2222222222222222,\"#7201a8\"],[0.3333333333333333,\"#9c179e\"],[0.4444444444444444,\"#bd3786\"],[0.5555555555555556,\"#d8576b\"],[0.6666666666666666,\"#ed7953\"],[0.7777777777777778,\"#fb9f3a\"],[0.8888888888888888,\"#fdca26\"],[1.0,\"#f0f921\"]],\"type\":\"histogram2dcontour\"}],\"histogram2d\":[{\"colorbar\":{\"outlinewidth\":0,\"ticks\":\"\"},\"colorscale\":[[0.0,\"#0d0887\"],[0.1111111111111111,\"#46039f\"],[0.2222222222222222,\"#7201a8\"],[0.3333333333333333,\"#9c179e\"],[0.4444444444444444,\"#bd3786\"],[0.5555555555555556,\"#d8576b\"],[0.6666666666666666,\"#ed7953\"],[0.7777777777777778,\"#fb9f3a\"],[0.8888888888888888,\"#fdca26\"],[1.0,\"#f0f921\"]],\"type\":\"histogram2d\"}],\"histogram\":[{\"marker\":{\"pattern\":{\"fillmode\":\"overlay\",\"size\":10,\"solidity\":0.2}},\"type\":\"histogram\"}],\"mesh3d\":[{\"colorbar\":{\"outlinewidth\":0,\"ticks\":\"\"},\"type\":\"mesh3d\"}],\"parcoords\":[{\"line\":{\"colorbar\":{\"outlinewidth\":0,\"ticks\":\"\"}},\"type\":\"parcoords\"}],\"pie\":[{\"automargin\":true,\"type\":\"pie\"}],\"scatter3d\":[{\"line\":{\"colorbar\":{\"outlinewidth\":0,\"ticks\":\"\"}},\"marker\":{\"colorbar\":{\"outlinewidth\":0,\"ticks\":\"\"}},\"type\":\"scatter3d\"}],\"scattercarpet\":[{\"marker\":{\"colorbar\":{\"outlinewidth\":0,\"ticks\":\"\"}},\"type\":\"scattercarpet\"}],\"scattergeo\":[{\"marker\":{\"colorbar\":{\"outlinewidth\":0,\"ticks\":\"\"}},\"type\":\"scattergeo\"}],\"scattergl\":[{\"marker\":{\"colorbar\":{\"outlinewidth\":0,\"ticks\":\"\"}},\"type\":\"scattergl\"}],\"scattermapbox\":[{\"marker\":{\"colorbar\":{\"outlinewidth\":0,\"ticks\":\"\"}},\"type\":\"scattermapbox\"}],\"scatterpolargl\":[{\"marker\":{\"colorbar\":{\"outlinewidth\":0,\"ticks\":\"\"}},\"type\":\"scatterpolargl\"}],\"scatterpolar\":[{\"marker\":{\"colorbar\":{\"outlinewidth\":0,\"ticks\":\"\"}},\"type\":\"scatterpolar\"}],\"scatter\":[{\"fillpattern\":{\"fillmode\":\"overlay\",\"size\":10,\"solidity\":0.2},\"type\":\"scatter\"}],\"scatterternary\":[{\"marker\":{\"colorbar\":{\"outlinewidth\":0,\"ticks\":\"\"}},\"type\":\"scatterternary\"}],\"surface\":[{\"colorbar\":{\"outlinewidth\":0,\"ticks\":\"\"},\"colorscale\":[[0.0,\"#0d0887\"],[0.1111111111111111,\"#46039f\"],[0.2222222222222222,\"#7201a8\"],[0.3333333333333333,\"#9c179e\"],[0.4444444444444444,\"#bd3786\"],[0.5555555555555556,\"#d8576b\"],[0.6666666666666666,\"#ed7953\"],[0.7777777777777778,\"#fb9f3a\"],[0.8888888888888888,\"#fdca26\"],[1.0,\"#f0f921\"]],\"type\":\"surface\"}],\"table\":[{\"cells\":{\"fill\":{\"color\":\"#EBF0F8\"},\"line\":{\"color\":\"white\"}},\"header\":{\"fill\":{\"color\":\"#C8D4E3\"},\"line\":{\"color\":\"white\"}},\"type\":\"table\"}]},\"layout\":{\"annotationdefaults\":{\"arrowcolor\":\"#2a3f5f\",\"arrowhead\":0,\"arrowwidth\":1},\"autotypenumbers\":\"strict\",\"coloraxis\":{\"colorbar\":{\"outlinewidth\":0,\"ticks\":\"\"}},\"colorscale\":{\"diverging\":[[0,\"#8e0152\"],[0.1,\"#c51b7d\"],[0.2,\"#de77ae\"],[0.3,\"#f1b6da\"],[0.4,\"#fde0ef\"],[0.5,\"#f7f7f7\"],[0.6,\"#e6f5d0\"],[0.7,\"#b8e186\"],[0.8,\"#7fbc41\"],[0.9,\"#4d9221\"],[1,\"#276419\"]],\"sequential\":[[0.0,\"#0d0887\"],[0.1111111111111111,\"#46039f\"],[0.2222222222222222,\"#7201a8\"],[0.3333333333333333,\"#9c179e\"],[0.4444444444444444,\"#bd3786\"],[0.5555555555555556,\"#d8576b\"],[0.6666666666666666,\"#ed7953\"],[0.7777777777777778,\"#fb9f3a\"],[0.8888888888888888,\"#fdca26\"],[1.0,\"#f0f921\"]],\"sequentialminus\":[[0.0,\"#0d0887\"],[0.1111111111111111,\"#46039f\"],[0.2222222222222222,\"#7201a8\"],[0.3333333333333333,\"#9c179e\"],[0.4444444444444444,\"#bd3786\"],[0.5555555555555556,\"#d8576b\"],[0.6666666666666666,\"#ed7953\"],[0.7777777777777778,\"#fb9f3a\"],[0.8888888888888888,\"#fdca26\"],[1.0,\"#f0f921\"]]},\"colorway\":[\"#636efa\",\"#EF553B\",\"#00cc96\",\"#ab63fa\",\"#FFA15A\",\"#19d3f3\",\"#FF6692\",\"#B6E880\",\"#FF97FF\",\"#FECB52\"],\"font\":{\"color\":\"#2a3f5f\"},\"geo\":{\"bgcolor\":\"white\",\"lakecolor\":\"white\",\"landcolor\":\"white\",\"showlakes\":true,\"showland\":true,\"subunitcolor\":\"#C8D4E3\"},\"hoverlabel\":{\"align\":\"left\"},\"hovermode\":\"closest\",\"mapbox\":{\"style\":\"light\"},\"paper_bgcolor\":\"white\",\"plot_bgcolor\":\"white\",\"polar\":{\"angularaxis\":{\"gridcolor\":\"#EBF0F8\",\"linecolor\":\"#EBF0F8\",\"ticks\":\"\"},\"bgcolor\":\"white\",\"radialaxis\":{\"gridcolor\":\"#EBF0F8\",\"linecolor\":\"#EBF0F8\",\"ticks\":\"\"}},\"scene\":{\"xaxis\":{\"backgroundcolor\":\"white\",\"gridcolor\":\"#DFE8F3\",\"gridwidth\":2,\"linecolor\":\"#EBF0F8\",\"showbackground\":true,\"ticks\":\"\",\"zerolinecolor\":\"#EBF0F8\"},\"yaxis\":{\"backgroundcolor\":\"white\",\"gridcolor\":\"#DFE8F3\",\"gridwidth\":2,\"linecolor\":\"#EBF0F8\",\"showbackground\":true,\"ticks\":\"\",\"zerolinecolor\":\"#EBF0F8\"},\"zaxis\":{\"backgroundcolor\":\"white\",\"gridcolor\":\"#DFE8F3\",\"gridwidth\":2,\"linecolor\":\"#EBF0F8\",\"showbackground\":true,\"ticks\":\"\",\"zerolinecolor\":\"#EBF0F8\"}},\"shapedefaults\":{\"line\":{\"color\":\"#2a3f5f\"}},\"ternary\":{\"aaxis\":{\"gridcolor\":\"#DFE8F3\",\"linecolor\":\"#A2B1C6\",\"ticks\":\"\"},\"baxis\":{\"gridcolor\":\"#DFE8F3\",\"linecolor\":\"#A2B1C6\",\"ticks\":\"\"},\"bgcolor\":\"white\",\"caxis\":{\"gridcolor\":\"#DFE8F3\",\"linecolor\":\"#A2B1C6\",\"ticks\":\"\"}},\"title\":{\"x\":0.05},\"xaxis\":{\"automargin\":true,\"gridcolor\":\"#EBF0F8\",\"linecolor\":\"#EBF0F8\",\"ticks\":\"\",\"title\":{\"standoff\":15},\"zerolinecolor\":\"#EBF0F8\",\"zerolinewidth\":2},\"yaxis\":{\"automargin\":true,\"gridcolor\":\"#EBF0F8\",\"linecolor\":\"#EBF0F8\",\"ticks\":\"\",\"title\":{\"standoff\":15},\"zerolinecolor\":\"#EBF0F8\",\"zerolinewidth\":2}}},\"xaxis\":{\"anchor\":\"y\",\"domain\":[0.0,1.0],\"title\":{\"text\":\"PCA1\"}},\"yaxis\":{\"anchor\":\"x\",\"domain\":[0.0,1.0],\"title\":{\"text\":\"PCA2\"}},\"legend\":{\"title\":{\"text\":\"Year\"},\"tracegroupgap\":0},\"title\":{\"text\":\"2D Representation of Circular Economy embeddings\\\"\"},\"showlegend\":true},                        {\"responsive\": true}                    ).then(function(){\n",
       "                            \n",
       "var gd = document.getElementById('625eea80-81eb-4002-b02e-2d248338830f');\n",
       "var x = new MutationObserver(function (mutations, observer) {{\n",
       "        var display = window.getComputedStyle(gd).display;\n",
       "        if (!display || display === 'none') {{\n",
       "            console.log([gd, 'removed!']);\n",
       "            Plotly.purge(gd);\n",
       "            observer.disconnect();\n",
       "        }}\n",
       "}});\n",
       "\n",
       "// Listen for the removal of the full notebook cells\n",
       "var notebookContainer = gd.closest('#notebook-container');\n",
       "if (notebookContainer) {{\n",
       "    x.observe(notebookContainer, {childList: true});\n",
       "}}\n",
       "\n",
       "// Listen for the clearing of the current output cell\n",
       "var outputEl = gd.closest('.output');\n",
       "if (outputEl) {{\n",
       "    x.observe(outputEl, {childList: true});\n",
       "}}\n",
       "\n",
       "                        })                };                });            </script>        </div>"
      ]
     },
     "metadata": {},
     "output_type": "display_data"
    }
   ],
   "source": [
    "import numpy as np\n",
    "from sklearn.decomposition import PCA\n",
    "import plotly.express as px\n",
    "\n",
    "vectors = np.array([word_vector['circular_economy'] for year, word_vector in ft_vectors.items()])\n",
    "years = list(ft_vectors.keys())\n",
    "\n",
    "pca = PCA(n_components=2)\n",
    "reduced_vectors = pca.fit_transform(vectors)\n",
    "\n",
    "import pandas as pd\n",
    "df = pd.DataFrame({\n",
    "    'PCA1': reduced_vectors[:, 0],\n",
    "    'PCA2': reduced_vectors[:, 1],\n",
    "    'Year': years\n",
    "})\n",
    "\n",
    "fig = px.scatter(df, x='PCA1', y='PCA2', text='Year', title='2D Representation of Circular Economy embeddings\"',\n",
    "                 color='Year', template=\"plotly_white\")\n",
    "fig.update_traces(textposition='top center')\n",
    "fig.update_layout(showlegend=True)\n",
    "fig.show()"
   ]
  },
  {
   "cell_type": "code",
   "execution_count": null,
   "id": "eb233245",
   "metadata": {},
   "outputs": [],
   "source": []
  }
 ],
 "metadata": {
  "kernelspec": {
   "display_name": "Python 3 (ipykernel)",
   "language": "python",
   "name": "python3"
  },
  "language_info": {
   "codemirror_mode": {
    "name": "ipython",
    "version": 3
   },
   "file_extension": ".py",
   "mimetype": "text/x-python",
   "name": "python",
   "nbconvert_exporter": "python",
   "pygments_lexer": "ipython3",
   "version": "3.11.5"
  }
 },
 "nbformat": 4,
 "nbformat_minor": 5
}
