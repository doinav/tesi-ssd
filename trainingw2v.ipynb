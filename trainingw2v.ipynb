{
 "cells": [
  {
   "cell_type": "code",
   "execution_count": 1,
   "id": "ca6c91df",
   "metadata": {},
   "outputs": [],
   "source": [
    "import pandas as pd\n",
    "import gensim\n",
    "from gensim.models.phrases import Phrases, Phraser, ENGLISH_CONNECTOR_WORDS\n",
    "from gensim.models import Word2Vec\n",
    "from gensim.models import KeyedVectors\n",
    "from tqdm import tqdm\n",
    "import numpy as np\n",
    "import enchant\n",
    "from time import time \n",
    "import multiprocessing\n",
    "from copy import deepcopy\n",
    "from collections import defaultdict"
   ]
  },
  {
   "cell_type": "code",
   "execution_count": 2,
   "id": "205c17e2",
   "metadata": {},
   "outputs": [],
   "source": [
    "tokens = np.load('tokens_per_year.npy',allow_pickle='FALSE').item()"
   ]
  },
  {
   "cell_type": "code",
   "execution_count": 3,
   "id": "c7e27c72",
   "metadata": {},
   "outputs": [],
   "source": [
    "#documents è la lista di liste\n",
    "#doc sono le liste interne\n",
    "def build_bigram_dictionary(documents, min_count, threshold):\n",
    "    phrases = Phrases(documents, min_count=min_count, threshold=threshold, connector_words=ENGLISH_CONNECTOR_WORDS)\n",
    "    bigram = Phraser(phrases)\n",
    "    tokens_text_with_bigrams = [bigram[doc] for doc in documents]\n",
    "    return tokens_text_with_bigrams"
   ]
  },
  {
   "cell_type": "markdown",
   "id": "ef8114da",
   "metadata": {},
   "source": [
    "**TRAIN WORD2VEC MODEL ON THE WHOLE SET**."
   ]
  },
  {
   "cell_type": "code",
   "execution_count": 4,
   "id": "5f8d316a",
   "metadata": {},
   "outputs": [],
   "source": [
    "# CREATE A VOCABULARY OF BIGRAMS THE DATASET PER YEAR\n",
    "bigram_vocab = {}\n",
    "for year, tokens in tokens.items():\n",
    "    tokens_per_year = build_bigram_dictionary(tokens, 11, 20)\n",
    "    bigram_vocab[year] = tokens_per_year"
   ]
  },
  {
   "cell_type": "code",
   "execution_count": 6,
   "id": "19000e77",
   "metadata": {},
   "outputs": [],
   "source": [
    "wholeset =  [doc for papers in bigram_vocab.values() for doc in papers]"
   ]
  },
  {
   "cell_type": "code",
   "execution_count": 7,
   "id": "76bbae58",
   "metadata": {},
   "outputs": [
    {
     "data": {
      "text/plain": [
       "20901"
      ]
     },
     "execution_count": 7,
     "metadata": {},
     "output_type": "execute_result"
    }
   ],
   "source": [
    "word_freq = defaultdict(int)\n",
    "for big in wholeset:\n",
    "    for i in big:\n",
    "        word_freq[i] += 1\n",
    "len(word_freq)"
   ]
  },
  {
   "cell_type": "code",
   "execution_count": null,
   "id": "fb1661c0",
   "metadata": {},
   "outputs": [],
   "source": [
    "sorted(word_freq, key=word_freq.get, reverse=True)[:200]"
   ]
  },
  {
   "cell_type": "code",
   "execution_count": 8,
   "id": "7ee75be5",
   "metadata": {},
   "outputs": [],
   "source": [
    "cores = multiprocessing.cpu_count() # Count the number of cores in a computer"
   ]
  },
  {
   "cell_type": "code",
   "execution_count": 21,
   "id": "f57bcf5c",
   "metadata": {},
   "outputs": [],
   "source": [
    "#In this first step, we set up the parameters of the model one-by-one. we don't supply the parameter sentences, and therefore leave the model uninitialized, purposefully.\n",
    "w2v_model = Word2Vec(sg = 1,\n",
    "                     vector_size = 150,\n",
    "                     min_count=10, #Ignores all words with total absolute frequency lower than this - (2, 100)                    \n",
    "                     window=10,  #The maximum distance between the current and predicted word within a sentence. E.g. window words on the left and window words on the right of our target\n",
    "                     sample=6e-5,   #Dimensionality of the feature vectors\n",
    "                     alpha=0.03,  #The initial learning rate\n",
    "                     min_alpha=0.0007,  #Learning rate will linearly drop to min_alpha as training progresses. To set it: alpha - (min_alpha * epochs) ~ 0.00\n",
    "                     negative=5,  #If > 0, negative sampling will be used, the int for negative specifies how many \"noise words\" should be drown. If set to 0, no negative sampling is used. - (5, 20)\n",
    "                     workers=cores-1  #Use these many worker threads to train the model (=faster training with multicore machines)\n",
    "                     )"
   ]
  },
  {
   "cell_type": "code",
   "execution_count": 22,
   "id": "c1952080",
   "metadata": {},
   "outputs": [
    {
     "name": "stdout",
     "output_type": "stream",
     "text": [
      "Time to build vocab: 0.01 mins\n"
     ]
    }
   ],
   "source": [
    "t = time()\n",
    "#Here it builds the vocabulary from a sequence of sentences and thus initialized the model. With the loggings, We can follow the progress and even more important, the effect of min_count and sample on the word corpus. We noticed that these two parameters, and in particular sample, have a great influence over the performance of a model. Displaying both allows for a more accurate and an easier management of their influence.\n",
    "#Word2Vec requires us to build the vocabulary table (simply digesting all the words and filtering out the unique words, and doing some basic counts on them)\n",
    "\n",
    "w2v_model.build_vocab(wholeset)\n",
    "\n",
    "print('Time to build vocab: {} mins'.format(round((time() - t) / 60, 2)))"
   ]
  },
  {
   "cell_type": "code",
   "execution_count": 23,
   "id": "2ccceb14",
   "metadata": {},
   "outputs": [
    {
     "name": "stdout",
     "output_type": "stream",
     "text": [
      "Time to train the model: 1.25 mins\n"
     ]
    }
   ],
   "source": [
    "t = time()\n",
    "w2v_model.train(wholeset, total_examples=w2v_model.corpus_count, epochs=30, report_delay=1)\n",
    "\n",
    "print('Time to train the model: {} mins'.format(round((time() - t) / 60, 2)))"
   ]
  },
  {
   "cell_type": "code",
   "execution_count": 24,
   "id": "1febf586",
   "metadata": {},
   "outputs": [],
   "source": [
    "# salva il modello \n",
    "# word2vec_sg modello con 10 negativity\n",
    "# word2vec_sg2 modello con 5 negativity\n",
    "model = w2v_model.save(\"word2vec_sg2.model\")"
   ]
  },
  {
   "cell_type": "markdown",
   "id": "3d4016d9",
   "metadata": {},
   "source": [
    "**FINETUNING OF THE MODEL ON THE DATASET OF EACH YEAR**"
   ]
  },
  {
   "cell_type": "code",
   "execution_count": 25,
   "id": "131f53d0",
   "metadata": {},
   "outputs": [],
   "source": [
    "model = Word2Vec.load(\"word2vec_sg2.model\")\n",
    "\n",
    "ft_models = {}\n",
    "for year, documents in bigram_vocab.items():\n",
    "    \n",
    "    # Upload the deepcopy of the existing model each time the loop is restarted (for each year)\n",
    "    ft_model = deepcopy(model)\n",
    "    \n",
    "    # Update the dictionary with the bigrams of the year and train the new model\n",
    "    ft_model.build_vocab(documents, update=True)\n",
    "    ft_model.train(documents, total_examples=ft_model.corpus_count, epochs=30)\n",
    "    \n",
    "    # Save the model\n",
    "    ft_model.save(f\"word2vec_{year}_sg2.model\")\n",
    "    ft_models[year] = ft_model"
   ]
  },
  {
   "cell_type": "code",
   "execution_count": 26,
   "id": "7702d49e",
   "metadata": {},
   "outputs": [],
   "source": [
    "# SAVE THE VECTORS:\n",
    "ft_vectors = {}\n",
    "for year, model in ft_models.items():\n",
    "    word_vectors = model.wv  \n",
    "    ft_vectors[year] = word_vectors"
   ]
  },
  {
   "cell_type": "code",
   "execution_count": 40,
   "id": "1a2a7ea9",
   "metadata": {},
   "outputs": [
    {
     "data": {
      "application/vnd.plotly.v1+json": {
       "config": {
        "plotlyServerURL": "https://plot.ly"
       },
       "data": [
        {
         "hovertemplate": "Year=%{text}<br>PCA1=%{x}<br>PCA2=%{y}<br>size=%{marker.size}<extra></extra>",
         "legendgroup": "2006",
         "marker": {
          "color": "#636efa",
          "size": [
           9
          ],
          "sizemode": "area",
          "sizeref": 0.065,
          "symbol": "circle"
         },
         "mode": "markers+text",
         "name": "2006",
         "orientation": "v",
         "showlegend": true,
         "text": [
          "2006"
         ],
         "textposition": "top center",
         "type": "scatter",
         "x": [
          -1.1947147846221924
         ],
         "xaxis": "x",
         "y": [
          -0.22589939832687378
         ],
         "yaxis": "y"
        },
        {
         "hovertemplate": "Year=%{text}<br>PCA1=%{x}<br>PCA2=%{y}<br>size=%{marker.size}<extra></extra>",
         "legendgroup": "2007",
         "marker": {
          "color": "#EF553B",
          "size": [
           11
          ],
          "sizemode": "area",
          "sizeref": 0.065,
          "symbol": "circle"
         },
         "mode": "markers+text",
         "name": "2007",
         "orientation": "v",
         "showlegend": true,
         "text": [
          "2007"
         ],
         "textposition": "top center",
         "type": "scatter",
         "x": [
          -0.5451208353042603
         ],
         "xaxis": "x",
         "y": [
          -0.16190806031227112
         ],
         "yaxis": "y"
        },
        {
         "hovertemplate": "Year=%{text}<br>PCA1=%{x}<br>PCA2=%{y}<br>size=%{marker.size}<extra></extra>",
         "legendgroup": "2008",
         "marker": {
          "color": "#00cc96",
          "size": [
           9
          ],
          "sizemode": "area",
          "sizeref": 0.065,
          "symbol": "circle"
         },
         "mode": "markers+text",
         "name": "2008",
         "orientation": "v",
         "showlegend": true,
         "text": [
          "2008"
         ],
         "textposition": "top center",
         "type": "scatter",
         "x": [
          -0.7219810485839844
         ],
         "xaxis": "x",
         "y": [
          -0.7045539021492004
         ],
         "yaxis": "y"
        },
        {
         "hovertemplate": "Year=%{text}<br>PCA1=%{x}<br>PCA2=%{y}<br>size=%{marker.size}<extra></extra>",
         "legendgroup": "2009",
         "marker": {
          "color": "#ab63fa",
          "size": [
           16
          ],
          "sizemode": "area",
          "sizeref": 0.065,
          "symbol": "circle"
         },
         "mode": "markers+text",
         "name": "2009",
         "orientation": "v",
         "showlegend": true,
         "text": [
          "2009"
         ],
         "textposition": "top center",
         "type": "scatter",
         "x": [
          -0.8419525027275085
         ],
         "xaxis": "x",
         "y": [
          -0.0558711513876915
         ],
         "yaxis": "y"
        },
        {
         "hovertemplate": "Year=%{text}<br>PCA1=%{x}<br>PCA2=%{y}<br>size=%{marker.size}<extra></extra>",
         "legendgroup": "2010",
         "marker": {
          "color": "#FFA15A",
          "size": [
           17
          ],
          "sizemode": "area",
          "sizeref": 0.065,
          "symbol": "circle"
         },
         "mode": "markers+text",
         "name": "2010",
         "orientation": "v",
         "showlegend": true,
         "text": [
          "2010"
         ],
         "textposition": "top center",
         "type": "scatter",
         "x": [
          -1.1408861875534058
         ],
         "xaxis": "x",
         "y": [
          1.5729048252105713
         ],
         "yaxis": "y"
        },
        {
         "hovertemplate": "Year=%{text}<br>PCA1=%{x}<br>PCA2=%{y}<br>size=%{marker.size}<extra></extra>",
         "legendgroup": "2011",
         "marker": {
          "color": "#19d3f3",
          "size": [
           14
          ],
          "sizemode": "area",
          "sizeref": 0.065,
          "symbol": "circle"
         },
         "mode": "markers+text",
         "name": "2011",
         "orientation": "v",
         "showlegend": true,
         "text": [
          "2011"
         ],
         "textposition": "top center",
         "type": "scatter",
         "x": [
          -0.808373212814331
         ],
         "xaxis": "x",
         "y": [
          -1.1047395467758179
         ],
         "yaxis": "y"
        },
        {
         "hovertemplate": "Year=%{text}<br>PCA1=%{x}<br>PCA2=%{y}<br>size=%{marker.size}<extra></extra>",
         "legendgroup": "2012",
         "marker": {
          "color": "#FF6692",
          "size": [
           17
          ],
          "sizemode": "area",
          "sizeref": 0.065,
          "symbol": "circle"
         },
         "mode": "markers+text",
         "name": "2012",
         "orientation": "v",
         "showlegend": true,
         "text": [
          "2012"
         ],
         "textposition": "top center",
         "type": "scatter",
         "x": [
          -0.7004802823066711
         ],
         "xaxis": "x",
         "y": [
          -0.09729479998350143
         ],
         "yaxis": "y"
        },
        {
         "hovertemplate": "Year=%{text}<br>PCA1=%{x}<br>PCA2=%{y}<br>size=%{marker.size}<extra></extra>",
         "legendgroup": "2013",
         "marker": {
          "color": "#B6E880",
          "size": [
           13
          ],
          "sizemode": "area",
          "sizeref": 0.065,
          "symbol": "circle"
         },
         "mode": "markers+text",
         "name": "2013",
         "orientation": "v",
         "showlegend": true,
         "text": [
          "2013"
         ],
         "textposition": "top center",
         "type": "scatter",
         "x": [
          -0.4898313283920288
         ],
         "xaxis": "x",
         "y": [
          0.3611738085746765
         ],
         "yaxis": "y"
        },
        {
         "hovertemplate": "Year=%{text}<br>PCA1=%{x}<br>PCA2=%{y}<br>size=%{marker.size}<extra></extra>",
         "legendgroup": "2014",
         "marker": {
          "color": "#FF97FF",
          "size": [
           18
          ],
          "sizemode": "area",
          "sizeref": 0.065,
          "symbol": "circle"
         },
         "mode": "markers+text",
         "name": "2014",
         "orientation": "v",
         "showlegend": true,
         "text": [
          "2014"
         ],
         "textposition": "top center",
         "type": "scatter",
         "x": [
          -0.006031295284628868
         ],
         "xaxis": "x",
         "y": [
          0.05157321318984032
         ],
         "yaxis": "y"
        },
        {
         "hovertemplate": "Year=%{text}<br>PCA1=%{x}<br>PCA2=%{y}<br>size=%{marker.size}<extra></extra>",
         "legendgroup": "2015",
         "marker": {
          "color": "#FECB52",
          "size": [
           18
          ],
          "sizemode": "area",
          "sizeref": 0.065,
          "symbol": "circle"
         },
         "mode": "markers+text",
         "name": "2015",
         "orientation": "v",
         "showlegend": true,
         "text": [
          "2015"
         ],
         "textposition": "top center",
         "type": "scatter",
         "x": [
          0.32233405113220215
         ],
         "xaxis": "x",
         "y": [
          0.41171225905418396
         ],
         "yaxis": "y"
        },
        {
         "hovertemplate": "Year=%{text}<br>PCA1=%{x}<br>PCA2=%{y}<br>size=%{marker.size}<extra></extra>",
         "legendgroup": "2016",
         "marker": {
          "color": "#636efa",
          "size": [
           20
          ],
          "sizemode": "area",
          "sizeref": 0.065,
          "symbol": "circle"
         },
         "mode": "markers+text",
         "name": "2016",
         "orientation": "v",
         "showlegend": true,
         "text": [
          "2016"
         ],
         "textposition": "top center",
         "type": "scatter",
         "x": [
          0.3655206561088562
         ],
         "xaxis": "x",
         "y": [
          -0.2353242188692093
         ],
         "yaxis": "y"
        },
        {
         "hovertemplate": "Year=%{text}<br>PCA1=%{x}<br>PCA2=%{y}<br>size=%{marker.size}<extra></extra>",
         "legendgroup": "2017",
         "marker": {
          "color": "#EF553B",
          "size": [
           22
          ],
          "sizemode": "area",
          "sizeref": 0.065,
          "symbol": "circle"
         },
         "mode": "markers+text",
         "name": "2017",
         "orientation": "v",
         "showlegend": true,
         "text": [
          "2017"
         ],
         "textposition": "top center",
         "type": "scatter",
         "x": [
          0.29437685012817383
         ],
         "xaxis": "x",
         "y": [
          0.058273859322071075
         ],
         "yaxis": "y"
        },
        {
         "hovertemplate": "Year=%{text}<br>PCA1=%{x}<br>PCA2=%{y}<br>size=%{marker.size}<extra></extra>",
         "legendgroup": "2018",
         "marker": {
          "color": "#00cc96",
          "size": [
           26
          ],
          "sizemode": "area",
          "sizeref": 0.065,
          "symbol": "circle"
         },
         "mode": "markers+text",
         "name": "2018",
         "orientation": "v",
         "showlegend": true,
         "text": [
          "2018"
         ],
         "textposition": "top center",
         "type": "scatter",
         "x": [
          0.5839629173278809
         ],
         "xaxis": "x",
         "y": [
          0.14628177881240845
         ],
         "yaxis": "y"
        },
        {
         "hovertemplate": "Year=%{text}<br>PCA1=%{x}<br>PCA2=%{y}<br>size=%{marker.size}<extra></extra>",
         "legendgroup": "2019",
         "marker": {
          "color": "#ab63fa",
          "size": [
           18
          ],
          "sizemode": "area",
          "sizeref": 0.065,
          "symbol": "circle"
         },
         "mode": "markers+text",
         "name": "2019",
         "orientation": "v",
         "showlegend": true,
         "text": [
          "2019"
         ],
         "textposition": "top center",
         "type": "scatter",
         "x": [
          0.7937288880348206
         ],
         "xaxis": "x",
         "y": [
          -0.16499373316764832
         ],
         "yaxis": "y"
        },
        {
         "hovertemplate": "Year=%{text}<br>PCA1=%{x}<br>PCA2=%{y}<br>size=%{marker.size}<extra></extra>",
         "legendgroup": "2020",
         "marker": {
          "color": "#FFA15A",
          "size": [
           19
          ],
          "sizemode": "area",
          "sizeref": 0.065,
          "symbol": "circle"
         },
         "mode": "markers+text",
         "name": "2020",
         "orientation": "v",
         "showlegend": true,
         "text": [
          "2020"
         ],
         "textposition": "top center",
         "type": "scatter",
         "x": [
          0.9329794645309448
         ],
         "xaxis": "x",
         "y": [
          -0.039675354957580566
         ],
         "yaxis": "y"
        },
        {
         "hovertemplate": "Year=%{text}<br>PCA1=%{x}<br>PCA2=%{y}<br>size=%{marker.size}<extra></extra>",
         "legendgroup": "2021",
         "marker": {
          "color": "#19d3f3",
          "size": [
           19
          ],
          "sizemode": "area",
          "sizeref": 0.065,
          "symbol": "circle"
         },
         "mode": "markers+text",
         "name": "2021",
         "orientation": "v",
         "showlegend": true,
         "text": [
          "2021"
         ],
         "textposition": "top center",
         "type": "scatter",
         "x": [
          0.592247724533081
         ],
         "xaxis": "x",
         "y": [
          0.18188786506652832
         ],
         "yaxis": "y"
        },
        {
         "hovertemplate": "Year=%{text}<br>PCA1=%{x}<br>PCA2=%{y}<br>size=%{marker.size}<extra></extra>",
         "legendgroup": "2022",
         "marker": {
          "color": "#FF6692",
          "size": [
           16
          ],
          "sizemode": "area",
          "sizeref": 0.065,
          "symbol": "circle"
         },
         "mode": "markers+text",
         "name": "2022",
         "orientation": "v",
         "showlegend": true,
         "text": [
          "2022"
         ],
         "textposition": "top center",
         "type": "scatter",
         "x": [
          1.2684651613235474
         ],
         "xaxis": "x",
         "y": [
          0.02572443149983883
         ],
         "yaxis": "y"
        },
        {
         "hovertemplate": "Year=%{text}<br>PCA1=%{x}<br>PCA2=%{y}<br>size=%{marker.size}<extra></extra>",
         "legendgroup": "2023",
         "marker": {
          "color": "#B6E880",
          "size": [
           19
          ],
          "sizemode": "area",
          "sizeref": 0.065,
          "symbol": "circle"
         },
         "mode": "markers+text",
         "name": "2023",
         "orientation": "v",
         "showlegend": true,
         "text": [
          "2023"
         ],
         "textposition": "top center",
         "type": "scatter",
         "x": [
          1.2957552671432495
         ],
         "xaxis": "x",
         "y": [
          -0.01927214488387108
         ],
         "yaxis": "y"
        }
       ],
       "layout": {
        "legend": {
         "itemsizing": "constant",
         "title": {
          "text": "Year"
         },
         "tracegroupgap": 0
        },
        "showlegend": true,
        "template": {
         "data": {
          "bar": [
           {
            "error_x": {
             "color": "#2a3f5f"
            },
            "error_y": {
             "color": "#2a3f5f"
            },
            "marker": {
             "line": {
              "color": "white",
              "width": 0.5
             },
             "pattern": {
              "fillmode": "overlay",
              "size": 10,
              "solidity": 0.2
             }
            },
            "type": "bar"
           }
          ],
          "barpolar": [
           {
            "marker": {
             "line": {
              "color": "white",
              "width": 0.5
             },
             "pattern": {
              "fillmode": "overlay",
              "size": 10,
              "solidity": 0.2
             }
            },
            "type": "barpolar"
           }
          ],
          "carpet": [
           {
            "aaxis": {
             "endlinecolor": "#2a3f5f",
             "gridcolor": "#C8D4E3",
             "linecolor": "#C8D4E3",
             "minorgridcolor": "#C8D4E3",
             "startlinecolor": "#2a3f5f"
            },
            "baxis": {
             "endlinecolor": "#2a3f5f",
             "gridcolor": "#C8D4E3",
             "linecolor": "#C8D4E3",
             "minorgridcolor": "#C8D4E3",
             "startlinecolor": "#2a3f5f"
            },
            "type": "carpet"
           }
          ],
          "choropleth": [
           {
            "colorbar": {
             "outlinewidth": 0,
             "ticks": ""
            },
            "type": "choropleth"
           }
          ],
          "contour": [
           {
            "colorbar": {
             "outlinewidth": 0,
             "ticks": ""
            },
            "colorscale": [
             [
              0,
              "#0d0887"
             ],
             [
              0.1111111111111111,
              "#46039f"
             ],
             [
              0.2222222222222222,
              "#7201a8"
             ],
             [
              0.3333333333333333,
              "#9c179e"
             ],
             [
              0.4444444444444444,
              "#bd3786"
             ],
             [
              0.5555555555555556,
              "#d8576b"
             ],
             [
              0.6666666666666666,
              "#ed7953"
             ],
             [
              0.7777777777777778,
              "#fb9f3a"
             ],
             [
              0.8888888888888888,
              "#fdca26"
             ],
             [
              1,
              "#f0f921"
             ]
            ],
            "type": "contour"
           }
          ],
          "contourcarpet": [
           {
            "colorbar": {
             "outlinewidth": 0,
             "ticks": ""
            },
            "type": "contourcarpet"
           }
          ],
          "heatmap": [
           {
            "colorbar": {
             "outlinewidth": 0,
             "ticks": ""
            },
            "colorscale": [
             [
              0,
              "#0d0887"
             ],
             [
              0.1111111111111111,
              "#46039f"
             ],
             [
              0.2222222222222222,
              "#7201a8"
             ],
             [
              0.3333333333333333,
              "#9c179e"
             ],
             [
              0.4444444444444444,
              "#bd3786"
             ],
             [
              0.5555555555555556,
              "#d8576b"
             ],
             [
              0.6666666666666666,
              "#ed7953"
             ],
             [
              0.7777777777777778,
              "#fb9f3a"
             ],
             [
              0.8888888888888888,
              "#fdca26"
             ],
             [
              1,
              "#f0f921"
             ]
            ],
            "type": "heatmap"
           }
          ],
          "heatmapgl": [
           {
            "colorbar": {
             "outlinewidth": 0,
             "ticks": ""
            },
            "colorscale": [
             [
              0,
              "#0d0887"
             ],
             [
              0.1111111111111111,
              "#46039f"
             ],
             [
              0.2222222222222222,
              "#7201a8"
             ],
             [
              0.3333333333333333,
              "#9c179e"
             ],
             [
              0.4444444444444444,
              "#bd3786"
             ],
             [
              0.5555555555555556,
              "#d8576b"
             ],
             [
              0.6666666666666666,
              "#ed7953"
             ],
             [
              0.7777777777777778,
              "#fb9f3a"
             ],
             [
              0.8888888888888888,
              "#fdca26"
             ],
             [
              1,
              "#f0f921"
             ]
            ],
            "type": "heatmapgl"
           }
          ],
          "histogram": [
           {
            "marker": {
             "pattern": {
              "fillmode": "overlay",
              "size": 10,
              "solidity": 0.2
             }
            },
            "type": "histogram"
           }
          ],
          "histogram2d": [
           {
            "colorbar": {
             "outlinewidth": 0,
             "ticks": ""
            },
            "colorscale": [
             [
              0,
              "#0d0887"
             ],
             [
              0.1111111111111111,
              "#46039f"
             ],
             [
              0.2222222222222222,
              "#7201a8"
             ],
             [
              0.3333333333333333,
              "#9c179e"
             ],
             [
              0.4444444444444444,
              "#bd3786"
             ],
             [
              0.5555555555555556,
              "#d8576b"
             ],
             [
              0.6666666666666666,
              "#ed7953"
             ],
             [
              0.7777777777777778,
              "#fb9f3a"
             ],
             [
              0.8888888888888888,
              "#fdca26"
             ],
             [
              1,
              "#f0f921"
             ]
            ],
            "type": "histogram2d"
           }
          ],
          "histogram2dcontour": [
           {
            "colorbar": {
             "outlinewidth": 0,
             "ticks": ""
            },
            "colorscale": [
             [
              0,
              "#0d0887"
             ],
             [
              0.1111111111111111,
              "#46039f"
             ],
             [
              0.2222222222222222,
              "#7201a8"
             ],
             [
              0.3333333333333333,
              "#9c179e"
             ],
             [
              0.4444444444444444,
              "#bd3786"
             ],
             [
              0.5555555555555556,
              "#d8576b"
             ],
             [
              0.6666666666666666,
              "#ed7953"
             ],
             [
              0.7777777777777778,
              "#fb9f3a"
             ],
             [
              0.8888888888888888,
              "#fdca26"
             ],
             [
              1,
              "#f0f921"
             ]
            ],
            "type": "histogram2dcontour"
           }
          ],
          "mesh3d": [
           {
            "colorbar": {
             "outlinewidth": 0,
             "ticks": ""
            },
            "type": "mesh3d"
           }
          ],
          "parcoords": [
           {
            "line": {
             "colorbar": {
              "outlinewidth": 0,
              "ticks": ""
             }
            },
            "type": "parcoords"
           }
          ],
          "pie": [
           {
            "automargin": true,
            "type": "pie"
           }
          ],
          "scatter": [
           {
            "fillpattern": {
             "fillmode": "overlay",
             "size": 10,
             "solidity": 0.2
            },
            "type": "scatter"
           }
          ],
          "scatter3d": [
           {
            "line": {
             "colorbar": {
              "outlinewidth": 0,
              "ticks": ""
             }
            },
            "marker": {
             "colorbar": {
              "outlinewidth": 0,
              "ticks": ""
             }
            },
            "type": "scatter3d"
           }
          ],
          "scattercarpet": [
           {
            "marker": {
             "colorbar": {
              "outlinewidth": 0,
              "ticks": ""
             }
            },
            "type": "scattercarpet"
           }
          ],
          "scattergeo": [
           {
            "marker": {
             "colorbar": {
              "outlinewidth": 0,
              "ticks": ""
             }
            },
            "type": "scattergeo"
           }
          ],
          "scattergl": [
           {
            "marker": {
             "colorbar": {
              "outlinewidth": 0,
              "ticks": ""
             }
            },
            "type": "scattergl"
           }
          ],
          "scattermapbox": [
           {
            "marker": {
             "colorbar": {
              "outlinewidth": 0,
              "ticks": ""
             }
            },
            "type": "scattermapbox"
           }
          ],
          "scatterpolar": [
           {
            "marker": {
             "colorbar": {
              "outlinewidth": 0,
              "ticks": ""
             }
            },
            "type": "scatterpolar"
           }
          ],
          "scatterpolargl": [
           {
            "marker": {
             "colorbar": {
              "outlinewidth": 0,
              "ticks": ""
             }
            },
            "type": "scatterpolargl"
           }
          ],
          "scatterternary": [
           {
            "marker": {
             "colorbar": {
              "outlinewidth": 0,
              "ticks": ""
             }
            },
            "type": "scatterternary"
           }
          ],
          "surface": [
           {
            "colorbar": {
             "outlinewidth": 0,
             "ticks": ""
            },
            "colorscale": [
             [
              0,
              "#0d0887"
             ],
             [
              0.1111111111111111,
              "#46039f"
             ],
             [
              0.2222222222222222,
              "#7201a8"
             ],
             [
              0.3333333333333333,
              "#9c179e"
             ],
             [
              0.4444444444444444,
              "#bd3786"
             ],
             [
              0.5555555555555556,
              "#d8576b"
             ],
             [
              0.6666666666666666,
              "#ed7953"
             ],
             [
              0.7777777777777778,
              "#fb9f3a"
             ],
             [
              0.8888888888888888,
              "#fdca26"
             ],
             [
              1,
              "#f0f921"
             ]
            ],
            "type": "surface"
           }
          ],
          "table": [
           {
            "cells": {
             "fill": {
              "color": "#EBF0F8"
             },
             "line": {
              "color": "white"
             }
            },
            "header": {
             "fill": {
              "color": "#C8D4E3"
             },
             "line": {
              "color": "white"
             }
            },
            "type": "table"
           }
          ]
         },
         "layout": {
          "annotationdefaults": {
           "arrowcolor": "#2a3f5f",
           "arrowhead": 0,
           "arrowwidth": 1
          },
          "autotypenumbers": "strict",
          "coloraxis": {
           "colorbar": {
            "outlinewidth": 0,
            "ticks": ""
           }
          },
          "colorscale": {
           "diverging": [
            [
             0,
             "#8e0152"
            ],
            [
             0.1,
             "#c51b7d"
            ],
            [
             0.2,
             "#de77ae"
            ],
            [
             0.3,
             "#f1b6da"
            ],
            [
             0.4,
             "#fde0ef"
            ],
            [
             0.5,
             "#f7f7f7"
            ],
            [
             0.6,
             "#e6f5d0"
            ],
            [
             0.7,
             "#b8e186"
            ],
            [
             0.8,
             "#7fbc41"
            ],
            [
             0.9,
             "#4d9221"
            ],
            [
             1,
             "#276419"
            ]
           ],
           "sequential": [
            [
             0,
             "#0d0887"
            ],
            [
             0.1111111111111111,
             "#46039f"
            ],
            [
             0.2222222222222222,
             "#7201a8"
            ],
            [
             0.3333333333333333,
             "#9c179e"
            ],
            [
             0.4444444444444444,
             "#bd3786"
            ],
            [
             0.5555555555555556,
             "#d8576b"
            ],
            [
             0.6666666666666666,
             "#ed7953"
            ],
            [
             0.7777777777777778,
             "#fb9f3a"
            ],
            [
             0.8888888888888888,
             "#fdca26"
            ],
            [
             1,
             "#f0f921"
            ]
           ],
           "sequentialminus": [
            [
             0,
             "#0d0887"
            ],
            [
             0.1111111111111111,
             "#46039f"
            ],
            [
             0.2222222222222222,
             "#7201a8"
            ],
            [
             0.3333333333333333,
             "#9c179e"
            ],
            [
             0.4444444444444444,
             "#bd3786"
            ],
            [
             0.5555555555555556,
             "#d8576b"
            ],
            [
             0.6666666666666666,
             "#ed7953"
            ],
            [
             0.7777777777777778,
             "#fb9f3a"
            ],
            [
             0.8888888888888888,
             "#fdca26"
            ],
            [
             1,
             "#f0f921"
            ]
           ]
          },
          "colorway": [
           "#636efa",
           "#EF553B",
           "#00cc96",
           "#ab63fa",
           "#FFA15A",
           "#19d3f3",
           "#FF6692",
           "#B6E880",
           "#FF97FF",
           "#FECB52"
          ],
          "font": {
           "color": "#2a3f5f"
          },
          "geo": {
           "bgcolor": "white",
           "lakecolor": "white",
           "landcolor": "white",
           "showlakes": true,
           "showland": true,
           "subunitcolor": "#C8D4E3"
          },
          "hoverlabel": {
           "align": "left"
          },
          "hovermode": "closest",
          "mapbox": {
           "style": "light"
          },
          "paper_bgcolor": "white",
          "plot_bgcolor": "white",
          "polar": {
           "angularaxis": {
            "gridcolor": "#EBF0F8",
            "linecolor": "#EBF0F8",
            "ticks": ""
           },
           "bgcolor": "white",
           "radialaxis": {
            "gridcolor": "#EBF0F8",
            "linecolor": "#EBF0F8",
            "ticks": ""
           }
          },
          "scene": {
           "xaxis": {
            "backgroundcolor": "white",
            "gridcolor": "#DFE8F3",
            "gridwidth": 2,
            "linecolor": "#EBF0F8",
            "showbackground": true,
            "ticks": "",
            "zerolinecolor": "#EBF0F8"
           },
           "yaxis": {
            "backgroundcolor": "white",
            "gridcolor": "#DFE8F3",
            "gridwidth": 2,
            "linecolor": "#EBF0F8",
            "showbackground": true,
            "ticks": "",
            "zerolinecolor": "#EBF0F8"
           },
           "zaxis": {
            "backgroundcolor": "white",
            "gridcolor": "#DFE8F3",
            "gridwidth": 2,
            "linecolor": "#EBF0F8",
            "showbackground": true,
            "ticks": "",
            "zerolinecolor": "#EBF0F8"
           }
          },
          "shapedefaults": {
           "line": {
            "color": "#2a3f5f"
           }
          },
          "ternary": {
           "aaxis": {
            "gridcolor": "#DFE8F3",
            "linecolor": "#A2B1C6",
            "ticks": ""
           },
           "baxis": {
            "gridcolor": "#DFE8F3",
            "linecolor": "#A2B1C6",
            "ticks": ""
           },
           "bgcolor": "white",
           "caxis": {
            "gridcolor": "#DFE8F3",
            "linecolor": "#A2B1C6",
            "ticks": ""
           }
          },
          "title": {
           "x": 0.05
          },
          "xaxis": {
           "automargin": true,
           "gridcolor": "#EBF0F8",
           "linecolor": "#EBF0F8",
           "ticks": "",
           "title": {
            "standoff": 15
           },
           "zerolinecolor": "#EBF0F8",
           "zerolinewidth": 2
          },
          "yaxis": {
           "automargin": true,
           "gridcolor": "#EBF0F8",
           "linecolor": "#EBF0F8",
           "ticks": "",
           "title": {
            "standoff": 15
           },
           "zerolinecolor": "#EBF0F8",
           "zerolinewidth": 2
          }
         }
        },
        "title": {
         "text": "2D Representation of Circular Economy embeddings"
        },
        "xaxis": {
         "anchor": "y",
         "domain": [
          0,
          1
         ],
         "title": {
          "text": "PCA1"
         }
        },
        "yaxis": {
         "anchor": "x",
         "domain": [
          0,
          1
         ],
         "title": {
          "text": "PCA2"
         }
        }
       }
      },
      "text/html": [
       "<div>                            <div id=\"9ecd0d40-c8ef-40a4-9129-d0ff6b2de85a\" class=\"plotly-graph-div\" style=\"height:525px; width:100%;\"></div>            <script type=\"text/javascript\">                require([\"plotly\"], function(Plotly) {                    window.PLOTLYENV=window.PLOTLYENV || {};                                    if (document.getElementById(\"9ecd0d40-c8ef-40a4-9129-d0ff6b2de85a\")) {                    Plotly.newPlot(                        \"9ecd0d40-c8ef-40a4-9129-d0ff6b2de85a\",                        [{\"hovertemplate\":\"Year=%{text}<br>PCA1=%{x}<br>PCA2=%{y}<br>size=%{marker.size}<extra></extra>\",\"legendgroup\":\"2006\",\"marker\":{\"color\":\"#636efa\",\"size\":[9],\"sizemode\":\"area\",\"sizeref\":0.065,\"symbol\":\"circle\"},\"mode\":\"markers+text\",\"name\":\"2006\",\"orientation\":\"v\",\"showlegend\":true,\"text\":[\"2006\"],\"x\":[-1.1947147846221924],\"xaxis\":\"x\",\"y\":[-0.22589939832687378],\"yaxis\":\"y\",\"type\":\"scatter\",\"textposition\":\"top center\"},{\"hovertemplate\":\"Year=%{text}<br>PCA1=%{x}<br>PCA2=%{y}<br>size=%{marker.size}<extra></extra>\",\"legendgroup\":\"2007\",\"marker\":{\"color\":\"#EF553B\",\"size\":[11],\"sizemode\":\"area\",\"sizeref\":0.065,\"symbol\":\"circle\"},\"mode\":\"markers+text\",\"name\":\"2007\",\"orientation\":\"v\",\"showlegend\":true,\"text\":[\"2007\"],\"x\":[-0.5451208353042603],\"xaxis\":\"x\",\"y\":[-0.16190806031227112],\"yaxis\":\"y\",\"type\":\"scatter\",\"textposition\":\"top center\"},{\"hovertemplate\":\"Year=%{text}<br>PCA1=%{x}<br>PCA2=%{y}<br>size=%{marker.size}<extra></extra>\",\"legendgroup\":\"2008\",\"marker\":{\"color\":\"#00cc96\",\"size\":[9],\"sizemode\":\"area\",\"sizeref\":0.065,\"symbol\":\"circle\"},\"mode\":\"markers+text\",\"name\":\"2008\",\"orientation\":\"v\",\"showlegend\":true,\"text\":[\"2008\"],\"x\":[-0.7219810485839844],\"xaxis\":\"x\",\"y\":[-0.7045539021492004],\"yaxis\":\"y\",\"type\":\"scatter\",\"textposition\":\"top center\"},{\"hovertemplate\":\"Year=%{text}<br>PCA1=%{x}<br>PCA2=%{y}<br>size=%{marker.size}<extra></extra>\",\"legendgroup\":\"2009\",\"marker\":{\"color\":\"#ab63fa\",\"size\":[16],\"sizemode\":\"area\",\"sizeref\":0.065,\"symbol\":\"circle\"},\"mode\":\"markers+text\",\"name\":\"2009\",\"orientation\":\"v\",\"showlegend\":true,\"text\":[\"2009\"],\"x\":[-0.8419525027275085],\"xaxis\":\"x\",\"y\":[-0.0558711513876915],\"yaxis\":\"y\",\"type\":\"scatter\",\"textposition\":\"top center\"},{\"hovertemplate\":\"Year=%{text}<br>PCA1=%{x}<br>PCA2=%{y}<br>size=%{marker.size}<extra></extra>\",\"legendgroup\":\"2010\",\"marker\":{\"color\":\"#FFA15A\",\"size\":[17],\"sizemode\":\"area\",\"sizeref\":0.065,\"symbol\":\"circle\"},\"mode\":\"markers+text\",\"name\":\"2010\",\"orientation\":\"v\",\"showlegend\":true,\"text\":[\"2010\"],\"x\":[-1.1408861875534058],\"xaxis\":\"x\",\"y\":[1.5729048252105713],\"yaxis\":\"y\",\"type\":\"scatter\",\"textposition\":\"top center\"},{\"hovertemplate\":\"Year=%{text}<br>PCA1=%{x}<br>PCA2=%{y}<br>size=%{marker.size}<extra></extra>\",\"legendgroup\":\"2011\",\"marker\":{\"color\":\"#19d3f3\",\"size\":[14],\"sizemode\":\"area\",\"sizeref\":0.065,\"symbol\":\"circle\"},\"mode\":\"markers+text\",\"name\":\"2011\",\"orientation\":\"v\",\"showlegend\":true,\"text\":[\"2011\"],\"x\":[-0.808373212814331],\"xaxis\":\"x\",\"y\":[-1.1047395467758179],\"yaxis\":\"y\",\"type\":\"scatter\",\"textposition\":\"top center\"},{\"hovertemplate\":\"Year=%{text}<br>PCA1=%{x}<br>PCA2=%{y}<br>size=%{marker.size}<extra></extra>\",\"legendgroup\":\"2012\",\"marker\":{\"color\":\"#FF6692\",\"size\":[17],\"sizemode\":\"area\",\"sizeref\":0.065,\"symbol\":\"circle\"},\"mode\":\"markers+text\",\"name\":\"2012\",\"orientation\":\"v\",\"showlegend\":true,\"text\":[\"2012\"],\"x\":[-0.7004802823066711],\"xaxis\":\"x\",\"y\":[-0.09729479998350143],\"yaxis\":\"y\",\"type\":\"scatter\",\"textposition\":\"top center\"},{\"hovertemplate\":\"Year=%{text}<br>PCA1=%{x}<br>PCA2=%{y}<br>size=%{marker.size}<extra></extra>\",\"legendgroup\":\"2013\",\"marker\":{\"color\":\"#B6E880\",\"size\":[13],\"sizemode\":\"area\",\"sizeref\":0.065,\"symbol\":\"circle\"},\"mode\":\"markers+text\",\"name\":\"2013\",\"orientation\":\"v\",\"showlegend\":true,\"text\":[\"2013\"],\"x\":[-0.4898313283920288],\"xaxis\":\"x\",\"y\":[0.3611738085746765],\"yaxis\":\"y\",\"type\":\"scatter\",\"textposition\":\"top center\"},{\"hovertemplate\":\"Year=%{text}<br>PCA1=%{x}<br>PCA2=%{y}<br>size=%{marker.size}<extra></extra>\",\"legendgroup\":\"2014\",\"marker\":{\"color\":\"#FF97FF\",\"size\":[18],\"sizemode\":\"area\",\"sizeref\":0.065,\"symbol\":\"circle\"},\"mode\":\"markers+text\",\"name\":\"2014\",\"orientation\":\"v\",\"showlegend\":true,\"text\":[\"2014\"],\"x\":[-0.006031295284628868],\"xaxis\":\"x\",\"y\":[0.05157321318984032],\"yaxis\":\"y\",\"type\":\"scatter\",\"textposition\":\"top center\"},{\"hovertemplate\":\"Year=%{text}<br>PCA1=%{x}<br>PCA2=%{y}<br>size=%{marker.size}<extra></extra>\",\"legendgroup\":\"2015\",\"marker\":{\"color\":\"#FECB52\",\"size\":[18],\"sizemode\":\"area\",\"sizeref\":0.065,\"symbol\":\"circle\"},\"mode\":\"markers+text\",\"name\":\"2015\",\"orientation\":\"v\",\"showlegend\":true,\"text\":[\"2015\"],\"x\":[0.32233405113220215],\"xaxis\":\"x\",\"y\":[0.41171225905418396],\"yaxis\":\"y\",\"type\":\"scatter\",\"textposition\":\"top center\"},{\"hovertemplate\":\"Year=%{text}<br>PCA1=%{x}<br>PCA2=%{y}<br>size=%{marker.size}<extra></extra>\",\"legendgroup\":\"2016\",\"marker\":{\"color\":\"#636efa\",\"size\":[20],\"sizemode\":\"area\",\"sizeref\":0.065,\"symbol\":\"circle\"},\"mode\":\"markers+text\",\"name\":\"2016\",\"orientation\":\"v\",\"showlegend\":true,\"text\":[\"2016\"],\"x\":[0.3655206561088562],\"xaxis\":\"x\",\"y\":[-0.2353242188692093],\"yaxis\":\"y\",\"type\":\"scatter\",\"textposition\":\"top center\"},{\"hovertemplate\":\"Year=%{text}<br>PCA1=%{x}<br>PCA2=%{y}<br>size=%{marker.size}<extra></extra>\",\"legendgroup\":\"2017\",\"marker\":{\"color\":\"#EF553B\",\"size\":[22],\"sizemode\":\"area\",\"sizeref\":0.065,\"symbol\":\"circle\"},\"mode\":\"markers+text\",\"name\":\"2017\",\"orientation\":\"v\",\"showlegend\":true,\"text\":[\"2017\"],\"x\":[0.29437685012817383],\"xaxis\":\"x\",\"y\":[0.058273859322071075],\"yaxis\":\"y\",\"type\":\"scatter\",\"textposition\":\"top center\"},{\"hovertemplate\":\"Year=%{text}<br>PCA1=%{x}<br>PCA2=%{y}<br>size=%{marker.size}<extra></extra>\",\"legendgroup\":\"2018\",\"marker\":{\"color\":\"#00cc96\",\"size\":[26],\"sizemode\":\"area\",\"sizeref\":0.065,\"symbol\":\"circle\"},\"mode\":\"markers+text\",\"name\":\"2018\",\"orientation\":\"v\",\"showlegend\":true,\"text\":[\"2018\"],\"x\":[0.5839629173278809],\"xaxis\":\"x\",\"y\":[0.14628177881240845],\"yaxis\":\"y\",\"type\":\"scatter\",\"textposition\":\"top center\"},{\"hovertemplate\":\"Year=%{text}<br>PCA1=%{x}<br>PCA2=%{y}<br>size=%{marker.size}<extra></extra>\",\"legendgroup\":\"2019\",\"marker\":{\"color\":\"#ab63fa\",\"size\":[18],\"sizemode\":\"area\",\"sizeref\":0.065,\"symbol\":\"circle\"},\"mode\":\"markers+text\",\"name\":\"2019\",\"orientation\":\"v\",\"showlegend\":true,\"text\":[\"2019\"],\"x\":[0.7937288880348206],\"xaxis\":\"x\",\"y\":[-0.16499373316764832],\"yaxis\":\"y\",\"type\":\"scatter\",\"textposition\":\"top center\"},{\"hovertemplate\":\"Year=%{text}<br>PCA1=%{x}<br>PCA2=%{y}<br>size=%{marker.size}<extra></extra>\",\"legendgroup\":\"2020\",\"marker\":{\"color\":\"#FFA15A\",\"size\":[19],\"sizemode\":\"area\",\"sizeref\":0.065,\"symbol\":\"circle\"},\"mode\":\"markers+text\",\"name\":\"2020\",\"orientation\":\"v\",\"showlegend\":true,\"text\":[\"2020\"],\"x\":[0.9329794645309448],\"xaxis\":\"x\",\"y\":[-0.039675354957580566],\"yaxis\":\"y\",\"type\":\"scatter\",\"textposition\":\"top center\"},{\"hovertemplate\":\"Year=%{text}<br>PCA1=%{x}<br>PCA2=%{y}<br>size=%{marker.size}<extra></extra>\",\"legendgroup\":\"2021\",\"marker\":{\"color\":\"#19d3f3\",\"size\":[19],\"sizemode\":\"area\",\"sizeref\":0.065,\"symbol\":\"circle\"},\"mode\":\"markers+text\",\"name\":\"2021\",\"orientation\":\"v\",\"showlegend\":true,\"text\":[\"2021\"],\"x\":[0.592247724533081],\"xaxis\":\"x\",\"y\":[0.18188786506652832],\"yaxis\":\"y\",\"type\":\"scatter\",\"textposition\":\"top center\"},{\"hovertemplate\":\"Year=%{text}<br>PCA1=%{x}<br>PCA2=%{y}<br>size=%{marker.size}<extra></extra>\",\"legendgroup\":\"2022\",\"marker\":{\"color\":\"#FF6692\",\"size\":[16],\"sizemode\":\"area\",\"sizeref\":0.065,\"symbol\":\"circle\"},\"mode\":\"markers+text\",\"name\":\"2022\",\"orientation\":\"v\",\"showlegend\":true,\"text\":[\"2022\"],\"x\":[1.2684651613235474],\"xaxis\":\"x\",\"y\":[0.02572443149983883],\"yaxis\":\"y\",\"type\":\"scatter\",\"textposition\":\"top center\"},{\"hovertemplate\":\"Year=%{text}<br>PCA1=%{x}<br>PCA2=%{y}<br>size=%{marker.size}<extra></extra>\",\"legendgroup\":\"2023\",\"marker\":{\"color\":\"#B6E880\",\"size\":[19],\"sizemode\":\"area\",\"sizeref\":0.065,\"symbol\":\"circle\"},\"mode\":\"markers+text\",\"name\":\"2023\",\"orientation\":\"v\",\"showlegend\":true,\"text\":[\"2023\"],\"x\":[1.2957552671432495],\"xaxis\":\"x\",\"y\":[-0.01927214488387108],\"yaxis\":\"y\",\"type\":\"scatter\",\"textposition\":\"top center\"}],                        {\"template\":{\"data\":{\"barpolar\":[{\"marker\":{\"line\":{\"color\":\"white\",\"width\":0.5},\"pattern\":{\"fillmode\":\"overlay\",\"size\":10,\"solidity\":0.2}},\"type\":\"barpolar\"}],\"bar\":[{\"error_x\":{\"color\":\"#2a3f5f\"},\"error_y\":{\"color\":\"#2a3f5f\"},\"marker\":{\"line\":{\"color\":\"white\",\"width\":0.5},\"pattern\":{\"fillmode\":\"overlay\",\"size\":10,\"solidity\":0.2}},\"type\":\"bar\"}],\"carpet\":[{\"aaxis\":{\"endlinecolor\":\"#2a3f5f\",\"gridcolor\":\"#C8D4E3\",\"linecolor\":\"#C8D4E3\",\"minorgridcolor\":\"#C8D4E3\",\"startlinecolor\":\"#2a3f5f\"},\"baxis\":{\"endlinecolor\":\"#2a3f5f\",\"gridcolor\":\"#C8D4E3\",\"linecolor\":\"#C8D4E3\",\"minorgridcolor\":\"#C8D4E3\",\"startlinecolor\":\"#2a3f5f\"},\"type\":\"carpet\"}],\"choropleth\":[{\"colorbar\":{\"outlinewidth\":0,\"ticks\":\"\"},\"type\":\"choropleth\"}],\"contourcarpet\":[{\"colorbar\":{\"outlinewidth\":0,\"ticks\":\"\"},\"type\":\"contourcarpet\"}],\"contour\":[{\"colorbar\":{\"outlinewidth\":0,\"ticks\":\"\"},\"colorscale\":[[0.0,\"#0d0887\"],[0.1111111111111111,\"#46039f\"],[0.2222222222222222,\"#7201a8\"],[0.3333333333333333,\"#9c179e\"],[0.4444444444444444,\"#bd3786\"],[0.5555555555555556,\"#d8576b\"],[0.6666666666666666,\"#ed7953\"],[0.7777777777777778,\"#fb9f3a\"],[0.8888888888888888,\"#fdca26\"],[1.0,\"#f0f921\"]],\"type\":\"contour\"}],\"heatmapgl\":[{\"colorbar\":{\"outlinewidth\":0,\"ticks\":\"\"},\"colorscale\":[[0.0,\"#0d0887\"],[0.1111111111111111,\"#46039f\"],[0.2222222222222222,\"#7201a8\"],[0.3333333333333333,\"#9c179e\"],[0.4444444444444444,\"#bd3786\"],[0.5555555555555556,\"#d8576b\"],[0.6666666666666666,\"#ed7953\"],[0.7777777777777778,\"#fb9f3a\"],[0.8888888888888888,\"#fdca26\"],[1.0,\"#f0f921\"]],\"type\":\"heatmapgl\"}],\"heatmap\":[{\"colorbar\":{\"outlinewidth\":0,\"ticks\":\"\"},\"colorscale\":[[0.0,\"#0d0887\"],[0.1111111111111111,\"#46039f\"],[0.2222222222222222,\"#7201a8\"],[0.3333333333333333,\"#9c179e\"],[0.4444444444444444,\"#bd3786\"],[0.5555555555555556,\"#d8576b\"],[0.6666666666666666,\"#ed7953\"],[0.7777777777777778,\"#fb9f3a\"],[0.8888888888888888,\"#fdca26\"],[1.0,\"#f0f921\"]],\"type\":\"heatmap\"}],\"histogram2dcontour\":[{\"colorbar\":{\"outlinewidth\":0,\"ticks\":\"\"},\"colorscale\":[[0.0,\"#0d0887\"],[0.1111111111111111,\"#46039f\"],[0.2222222222222222,\"#7201a8\"],[0.3333333333333333,\"#9c179e\"],[0.4444444444444444,\"#bd3786\"],[0.5555555555555556,\"#d8576b\"],[0.6666666666666666,\"#ed7953\"],[0.7777777777777778,\"#fb9f3a\"],[0.8888888888888888,\"#fdca26\"],[1.0,\"#f0f921\"]],\"type\":\"histogram2dcontour\"}],\"histogram2d\":[{\"colorbar\":{\"outlinewidth\":0,\"ticks\":\"\"},\"colorscale\":[[0.0,\"#0d0887\"],[0.1111111111111111,\"#46039f\"],[0.2222222222222222,\"#7201a8\"],[0.3333333333333333,\"#9c179e\"],[0.4444444444444444,\"#bd3786\"],[0.5555555555555556,\"#d8576b\"],[0.6666666666666666,\"#ed7953\"],[0.7777777777777778,\"#fb9f3a\"],[0.8888888888888888,\"#fdca26\"],[1.0,\"#f0f921\"]],\"type\":\"histogram2d\"}],\"histogram\":[{\"marker\":{\"pattern\":{\"fillmode\":\"overlay\",\"size\":10,\"solidity\":0.2}},\"type\":\"histogram\"}],\"mesh3d\":[{\"colorbar\":{\"outlinewidth\":0,\"ticks\":\"\"},\"type\":\"mesh3d\"}],\"parcoords\":[{\"line\":{\"colorbar\":{\"outlinewidth\":0,\"ticks\":\"\"}},\"type\":\"parcoords\"}],\"pie\":[{\"automargin\":true,\"type\":\"pie\"}],\"scatter3d\":[{\"line\":{\"colorbar\":{\"outlinewidth\":0,\"ticks\":\"\"}},\"marker\":{\"colorbar\":{\"outlinewidth\":0,\"ticks\":\"\"}},\"type\":\"scatter3d\"}],\"scattercarpet\":[{\"marker\":{\"colorbar\":{\"outlinewidth\":0,\"ticks\":\"\"}},\"type\":\"scattercarpet\"}],\"scattergeo\":[{\"marker\":{\"colorbar\":{\"outlinewidth\":0,\"ticks\":\"\"}},\"type\":\"scattergeo\"}],\"scattergl\":[{\"marker\":{\"colorbar\":{\"outlinewidth\":0,\"ticks\":\"\"}},\"type\":\"scattergl\"}],\"scattermapbox\":[{\"marker\":{\"colorbar\":{\"outlinewidth\":0,\"ticks\":\"\"}},\"type\":\"scattermapbox\"}],\"scatterpolargl\":[{\"marker\":{\"colorbar\":{\"outlinewidth\":0,\"ticks\":\"\"}},\"type\":\"scatterpolargl\"}],\"scatterpolar\":[{\"marker\":{\"colorbar\":{\"outlinewidth\":0,\"ticks\":\"\"}},\"type\":\"scatterpolar\"}],\"scatter\":[{\"fillpattern\":{\"fillmode\":\"overlay\",\"size\":10,\"solidity\":0.2},\"type\":\"scatter\"}],\"scatterternary\":[{\"marker\":{\"colorbar\":{\"outlinewidth\":0,\"ticks\":\"\"}},\"type\":\"scatterternary\"}],\"surface\":[{\"colorbar\":{\"outlinewidth\":0,\"ticks\":\"\"},\"colorscale\":[[0.0,\"#0d0887\"],[0.1111111111111111,\"#46039f\"],[0.2222222222222222,\"#7201a8\"],[0.3333333333333333,\"#9c179e\"],[0.4444444444444444,\"#bd3786\"],[0.5555555555555556,\"#d8576b\"],[0.6666666666666666,\"#ed7953\"],[0.7777777777777778,\"#fb9f3a\"],[0.8888888888888888,\"#fdca26\"],[1.0,\"#f0f921\"]],\"type\":\"surface\"}],\"table\":[{\"cells\":{\"fill\":{\"color\":\"#EBF0F8\"},\"line\":{\"color\":\"white\"}},\"header\":{\"fill\":{\"color\":\"#C8D4E3\"},\"line\":{\"color\":\"white\"}},\"type\":\"table\"}]},\"layout\":{\"annotationdefaults\":{\"arrowcolor\":\"#2a3f5f\",\"arrowhead\":0,\"arrowwidth\":1},\"autotypenumbers\":\"strict\",\"coloraxis\":{\"colorbar\":{\"outlinewidth\":0,\"ticks\":\"\"}},\"colorscale\":{\"diverging\":[[0,\"#8e0152\"],[0.1,\"#c51b7d\"],[0.2,\"#de77ae\"],[0.3,\"#f1b6da\"],[0.4,\"#fde0ef\"],[0.5,\"#f7f7f7\"],[0.6,\"#e6f5d0\"],[0.7,\"#b8e186\"],[0.8,\"#7fbc41\"],[0.9,\"#4d9221\"],[1,\"#276419\"]],\"sequential\":[[0.0,\"#0d0887\"],[0.1111111111111111,\"#46039f\"],[0.2222222222222222,\"#7201a8\"],[0.3333333333333333,\"#9c179e\"],[0.4444444444444444,\"#bd3786\"],[0.5555555555555556,\"#d8576b\"],[0.6666666666666666,\"#ed7953\"],[0.7777777777777778,\"#fb9f3a\"],[0.8888888888888888,\"#fdca26\"],[1.0,\"#f0f921\"]],\"sequentialminus\":[[0.0,\"#0d0887\"],[0.1111111111111111,\"#46039f\"],[0.2222222222222222,\"#7201a8\"],[0.3333333333333333,\"#9c179e\"],[0.4444444444444444,\"#bd3786\"],[0.5555555555555556,\"#d8576b\"],[0.6666666666666666,\"#ed7953\"],[0.7777777777777778,\"#fb9f3a\"],[0.8888888888888888,\"#fdca26\"],[1.0,\"#f0f921\"]]},\"colorway\":[\"#636efa\",\"#EF553B\",\"#00cc96\",\"#ab63fa\",\"#FFA15A\",\"#19d3f3\",\"#FF6692\",\"#B6E880\",\"#FF97FF\",\"#FECB52\"],\"font\":{\"color\":\"#2a3f5f\"},\"geo\":{\"bgcolor\":\"white\",\"lakecolor\":\"white\",\"landcolor\":\"white\",\"showlakes\":true,\"showland\":true,\"subunitcolor\":\"#C8D4E3\"},\"hoverlabel\":{\"align\":\"left\"},\"hovermode\":\"closest\",\"mapbox\":{\"style\":\"light\"},\"paper_bgcolor\":\"white\",\"plot_bgcolor\":\"white\",\"polar\":{\"angularaxis\":{\"gridcolor\":\"#EBF0F8\",\"linecolor\":\"#EBF0F8\",\"ticks\":\"\"},\"bgcolor\":\"white\",\"radialaxis\":{\"gridcolor\":\"#EBF0F8\",\"linecolor\":\"#EBF0F8\",\"ticks\":\"\"}},\"scene\":{\"xaxis\":{\"backgroundcolor\":\"white\",\"gridcolor\":\"#DFE8F3\",\"gridwidth\":2,\"linecolor\":\"#EBF0F8\",\"showbackground\":true,\"ticks\":\"\",\"zerolinecolor\":\"#EBF0F8\"},\"yaxis\":{\"backgroundcolor\":\"white\",\"gridcolor\":\"#DFE8F3\",\"gridwidth\":2,\"linecolor\":\"#EBF0F8\",\"showbackground\":true,\"ticks\":\"\",\"zerolinecolor\":\"#EBF0F8\"},\"zaxis\":{\"backgroundcolor\":\"white\",\"gridcolor\":\"#DFE8F3\",\"gridwidth\":2,\"linecolor\":\"#EBF0F8\",\"showbackground\":true,\"ticks\":\"\",\"zerolinecolor\":\"#EBF0F8\"}},\"shapedefaults\":{\"line\":{\"color\":\"#2a3f5f\"}},\"ternary\":{\"aaxis\":{\"gridcolor\":\"#DFE8F3\",\"linecolor\":\"#A2B1C6\",\"ticks\":\"\"},\"baxis\":{\"gridcolor\":\"#DFE8F3\",\"linecolor\":\"#A2B1C6\",\"ticks\":\"\"},\"bgcolor\":\"white\",\"caxis\":{\"gridcolor\":\"#DFE8F3\",\"linecolor\":\"#A2B1C6\",\"ticks\":\"\"}},\"title\":{\"x\":0.05},\"xaxis\":{\"automargin\":true,\"gridcolor\":\"#EBF0F8\",\"linecolor\":\"#EBF0F8\",\"ticks\":\"\",\"title\":{\"standoff\":15},\"zerolinecolor\":\"#EBF0F8\",\"zerolinewidth\":2},\"yaxis\":{\"automargin\":true,\"gridcolor\":\"#EBF0F8\",\"linecolor\":\"#EBF0F8\",\"ticks\":\"\",\"title\":{\"standoff\":15},\"zerolinecolor\":\"#EBF0F8\",\"zerolinewidth\":2}}},\"xaxis\":{\"anchor\":\"y\",\"domain\":[0.0,1.0],\"title\":{\"text\":\"PCA1\"}},\"yaxis\":{\"anchor\":\"x\",\"domain\":[0.0,1.0],\"title\":{\"text\":\"PCA2\"}},\"legend\":{\"title\":{\"text\":\"Year\"},\"tracegroupgap\":0,\"itemsizing\":\"constant\"},\"title\":{\"text\":\"2D Representation of Circular Economy embeddings\"},\"showlegend\":true},                        {\"responsive\": true}                    ).then(function(){\n",
       "                            \n",
       "var gd = document.getElementById('9ecd0d40-c8ef-40a4-9129-d0ff6b2de85a');\n",
       "var x = new MutationObserver(function (mutations, observer) {{\n",
       "        var display = window.getComputedStyle(gd).display;\n",
       "        if (!display || display === 'none') {{\n",
       "            console.log([gd, 'removed!']);\n",
       "            Plotly.purge(gd);\n",
       "            observer.disconnect();\n",
       "        }}\n",
       "}});\n",
       "\n",
       "// Listen for the removal of the full notebook cells\n",
       "var notebookContainer = gd.closest('#notebook-container');\n",
       "if (notebookContainer) {{\n",
       "    x.observe(notebookContainer, {childList: true});\n",
       "}}\n",
       "\n",
       "// Listen for the clearing of the current output cell\n",
       "var outputEl = gd.closest('.output');\n",
       "if (outputEl) {{\n",
       "    x.observe(outputEl, {childList: true});\n",
       "}}\n",
       "\n",
       "                        })                };                });            </script>        </div>"
      ]
     },
     "metadata": {},
     "output_type": "display_data"
    }
   ],
   "source": [
    "import numpy as np\n",
    "from sklearn.decomposition import PCA\n",
    "import plotly.express as px\n",
    "\n",
    "n_documents = [len(papers) for year, papers in bigram_vocab.items()]\n",
    "vectors = np.array([word_vector['circular_economy'] for year, word_vector in ft_vectors.items()])\n",
    "years = list(ft_vectors.keys())\n",
    "\n",
    "pca = PCA(n_components=2)\n",
    "reduced_vectors = pca.fit_transform(vectors)\n",
    "\n",
    "import pandas as pd\n",
    "df = pd.DataFrame({\n",
    "    'PCA1': reduced_vectors[:, 0],\n",
    "    'PCA2': reduced_vectors[:, 1],\n",
    "    'Year': years\n",
    "})\n",
    "\n",
    "fig = px.scatter(df, x='PCA1', y='PCA2', text='Year', title='2D Representation of Circular Economy embeddings',\n",
    "                 color='Year', template=\"plotly_white\", size = n_documents)\n",
    "fig.update_traces(textposition='top center')\n",
    "fig.update_layout(showlegend=True)\n",
    "fig.show()"
   ]
  },
  {
   "cell_type": "code",
   "execution_count": 41,
   "id": "fd69cf9f",
   "metadata": {},
   "outputs": [
    {
     "data": {
      "application/vnd.plotly.v1+json": {
       "config": {
        "plotlyServerURL": "https://plot.ly"
       },
       "data": [
        {
         "marker": {
          "color": [
           0,
           1,
           2,
           3,
           4,
           5,
           6,
           7,
           8,
           9,
           10,
           11,
           12,
           13,
           14,
           15,
           16,
           17
          ],
          "colorscale": [
           [
            0,
            "#440154"
           ],
           [
            0.1111111111111111,
            "#482878"
           ],
           [
            0.2222222222222222,
            "#3e4989"
           ],
           [
            0.3333333333333333,
            "#31688e"
           ],
           [
            0.4444444444444444,
            "#26828e"
           ],
           [
            0.5555555555555556,
            "#1f9e89"
           ],
           [
            0.6666666666666666,
            "#35b779"
           ],
           [
            0.7777777777777778,
            "#6ece58"
           ],
           [
            0.8888888888888888,
            "#b5de2b"
           ],
           [
            1,
            "#fde725"
           ]
          ],
          "opacity": 0.8,
          "size": [
           9,
           11,
           9,
           16,
           17,
           14,
           17,
           13,
           18,
           18,
           20,
           22,
           26,
           18,
           19,
           19,
           16,
           19
          ]
         },
         "mode": "markers+text",
         "text": [
          "2006",
          "2007",
          "2008",
          "2009",
          "2010",
          "2011",
          "2012",
          "2013",
          "2014",
          "2015",
          "2016",
          "2017",
          "2018",
          "2019",
          "2020",
          "2021",
          "2022",
          "2023"
         ],
         "textposition": "top center",
         "type": "scatter3d",
         "x": [
          -1.1947147846221924,
          -0.5451208353042603,
          -0.7219810485839844,
          -0.8419525027275085,
          -1.1408861875534058,
          -0.808373212814331,
          -0.7004802823066711,
          -0.4898313283920288,
          -0.006031295284628868,
          0.32233405113220215,
          0.3655206561088562,
          0.29437685012817383,
          0.5839629173278809,
          0.7937288880348206,
          0.9329794645309448,
          0.592247724533081,
          1.2684651613235474,
          1.2957552671432495
         ],
         "y": [
          -0.22589939832687378,
          -0.16190806031227112,
          -0.7045539021492004,
          -0.0558711513876915,
          1.5729048252105713,
          -1.1047395467758179,
          -0.09729479998350143,
          0.3611738085746765,
          0.05157321318984032,
          0.41171225905418396,
          -0.2353242188692093,
          0.058273859322071075,
          0.14628177881240845,
          -0.16499373316764832,
          -0.039675354957580566,
          0.18188786506652832,
          0.02572443149983883,
          -0.01927214488387108
         ],
         "z": [
          0.5552254915237427,
          1.5090893507003784,
          0.0012469814391806722,
          -0.5185644030570984,
          -0.03986580669879913,
          -0.5079580545425415,
          -0.1788276731967926,
          -0.37673452496528625,
          -0.7146913409233093,
          -0.0721832737326622,
          -0.008363782428205013,
          0.12363716959953308,
          0.020395655184984207,
          -0.16807661950588226,
          0.3000580668449402,
          -0.025319866836071014,
          0.15605056285858154,
          -0.05511874705553055
         ]
        }
       ],
       "layout": {
        "margin": {
         "b": 0,
         "l": 0,
         "r": 0,
         "t": 0
        },
        "template": {
         "data": {
          "bar": [
           {
            "error_x": {
             "color": "#2a3f5f"
            },
            "error_y": {
             "color": "#2a3f5f"
            },
            "marker": {
             "line": {
              "color": "#E5ECF6",
              "width": 0.5
             },
             "pattern": {
              "fillmode": "overlay",
              "size": 10,
              "solidity": 0.2
             }
            },
            "type": "bar"
           }
          ],
          "barpolar": [
           {
            "marker": {
             "line": {
              "color": "#E5ECF6",
              "width": 0.5
             },
             "pattern": {
              "fillmode": "overlay",
              "size": 10,
              "solidity": 0.2
             }
            },
            "type": "barpolar"
           }
          ],
          "carpet": [
           {
            "aaxis": {
             "endlinecolor": "#2a3f5f",
             "gridcolor": "white",
             "linecolor": "white",
             "minorgridcolor": "white",
             "startlinecolor": "#2a3f5f"
            },
            "baxis": {
             "endlinecolor": "#2a3f5f",
             "gridcolor": "white",
             "linecolor": "white",
             "minorgridcolor": "white",
             "startlinecolor": "#2a3f5f"
            },
            "type": "carpet"
           }
          ],
          "choropleth": [
           {
            "colorbar": {
             "outlinewidth": 0,
             "ticks": ""
            },
            "type": "choropleth"
           }
          ],
          "contour": [
           {
            "colorbar": {
             "outlinewidth": 0,
             "ticks": ""
            },
            "colorscale": [
             [
              0,
              "#0d0887"
             ],
             [
              0.1111111111111111,
              "#46039f"
             ],
             [
              0.2222222222222222,
              "#7201a8"
             ],
             [
              0.3333333333333333,
              "#9c179e"
             ],
             [
              0.4444444444444444,
              "#bd3786"
             ],
             [
              0.5555555555555556,
              "#d8576b"
             ],
             [
              0.6666666666666666,
              "#ed7953"
             ],
             [
              0.7777777777777778,
              "#fb9f3a"
             ],
             [
              0.8888888888888888,
              "#fdca26"
             ],
             [
              1,
              "#f0f921"
             ]
            ],
            "type": "contour"
           }
          ],
          "contourcarpet": [
           {
            "colorbar": {
             "outlinewidth": 0,
             "ticks": ""
            },
            "type": "contourcarpet"
           }
          ],
          "heatmap": [
           {
            "colorbar": {
             "outlinewidth": 0,
             "ticks": ""
            },
            "colorscale": [
             [
              0,
              "#0d0887"
             ],
             [
              0.1111111111111111,
              "#46039f"
             ],
             [
              0.2222222222222222,
              "#7201a8"
             ],
             [
              0.3333333333333333,
              "#9c179e"
             ],
             [
              0.4444444444444444,
              "#bd3786"
             ],
             [
              0.5555555555555556,
              "#d8576b"
             ],
             [
              0.6666666666666666,
              "#ed7953"
             ],
             [
              0.7777777777777778,
              "#fb9f3a"
             ],
             [
              0.8888888888888888,
              "#fdca26"
             ],
             [
              1,
              "#f0f921"
             ]
            ],
            "type": "heatmap"
           }
          ],
          "heatmapgl": [
           {
            "colorbar": {
             "outlinewidth": 0,
             "ticks": ""
            },
            "colorscale": [
             [
              0,
              "#0d0887"
             ],
             [
              0.1111111111111111,
              "#46039f"
             ],
             [
              0.2222222222222222,
              "#7201a8"
             ],
             [
              0.3333333333333333,
              "#9c179e"
             ],
             [
              0.4444444444444444,
              "#bd3786"
             ],
             [
              0.5555555555555556,
              "#d8576b"
             ],
             [
              0.6666666666666666,
              "#ed7953"
             ],
             [
              0.7777777777777778,
              "#fb9f3a"
             ],
             [
              0.8888888888888888,
              "#fdca26"
             ],
             [
              1,
              "#f0f921"
             ]
            ],
            "type": "heatmapgl"
           }
          ],
          "histogram": [
           {
            "marker": {
             "pattern": {
              "fillmode": "overlay",
              "size": 10,
              "solidity": 0.2
             }
            },
            "type": "histogram"
           }
          ],
          "histogram2d": [
           {
            "colorbar": {
             "outlinewidth": 0,
             "ticks": ""
            },
            "colorscale": [
             [
              0,
              "#0d0887"
             ],
             [
              0.1111111111111111,
              "#46039f"
             ],
             [
              0.2222222222222222,
              "#7201a8"
             ],
             [
              0.3333333333333333,
              "#9c179e"
             ],
             [
              0.4444444444444444,
              "#bd3786"
             ],
             [
              0.5555555555555556,
              "#d8576b"
             ],
             [
              0.6666666666666666,
              "#ed7953"
             ],
             [
              0.7777777777777778,
              "#fb9f3a"
             ],
             [
              0.8888888888888888,
              "#fdca26"
             ],
             [
              1,
              "#f0f921"
             ]
            ],
            "type": "histogram2d"
           }
          ],
          "histogram2dcontour": [
           {
            "colorbar": {
             "outlinewidth": 0,
             "ticks": ""
            },
            "colorscale": [
             [
              0,
              "#0d0887"
             ],
             [
              0.1111111111111111,
              "#46039f"
             ],
             [
              0.2222222222222222,
              "#7201a8"
             ],
             [
              0.3333333333333333,
              "#9c179e"
             ],
             [
              0.4444444444444444,
              "#bd3786"
             ],
             [
              0.5555555555555556,
              "#d8576b"
             ],
             [
              0.6666666666666666,
              "#ed7953"
             ],
             [
              0.7777777777777778,
              "#fb9f3a"
             ],
             [
              0.8888888888888888,
              "#fdca26"
             ],
             [
              1,
              "#f0f921"
             ]
            ],
            "type": "histogram2dcontour"
           }
          ],
          "mesh3d": [
           {
            "colorbar": {
             "outlinewidth": 0,
             "ticks": ""
            },
            "type": "mesh3d"
           }
          ],
          "parcoords": [
           {
            "line": {
             "colorbar": {
              "outlinewidth": 0,
              "ticks": ""
             }
            },
            "type": "parcoords"
           }
          ],
          "pie": [
           {
            "automargin": true,
            "type": "pie"
           }
          ],
          "scatter": [
           {
            "fillpattern": {
             "fillmode": "overlay",
             "size": 10,
             "solidity": 0.2
            },
            "type": "scatter"
           }
          ],
          "scatter3d": [
           {
            "line": {
             "colorbar": {
              "outlinewidth": 0,
              "ticks": ""
             }
            },
            "marker": {
             "colorbar": {
              "outlinewidth": 0,
              "ticks": ""
             }
            },
            "type": "scatter3d"
           }
          ],
          "scattercarpet": [
           {
            "marker": {
             "colorbar": {
              "outlinewidth": 0,
              "ticks": ""
             }
            },
            "type": "scattercarpet"
           }
          ],
          "scattergeo": [
           {
            "marker": {
             "colorbar": {
              "outlinewidth": 0,
              "ticks": ""
             }
            },
            "type": "scattergeo"
           }
          ],
          "scattergl": [
           {
            "marker": {
             "colorbar": {
              "outlinewidth": 0,
              "ticks": ""
             }
            },
            "type": "scattergl"
           }
          ],
          "scattermapbox": [
           {
            "marker": {
             "colorbar": {
              "outlinewidth": 0,
              "ticks": ""
             }
            },
            "type": "scattermapbox"
           }
          ],
          "scatterpolar": [
           {
            "marker": {
             "colorbar": {
              "outlinewidth": 0,
              "ticks": ""
             }
            },
            "type": "scatterpolar"
           }
          ],
          "scatterpolargl": [
           {
            "marker": {
             "colorbar": {
              "outlinewidth": 0,
              "ticks": ""
             }
            },
            "type": "scatterpolargl"
           }
          ],
          "scatterternary": [
           {
            "marker": {
             "colorbar": {
              "outlinewidth": 0,
              "ticks": ""
             }
            },
            "type": "scatterternary"
           }
          ],
          "surface": [
           {
            "colorbar": {
             "outlinewidth": 0,
             "ticks": ""
            },
            "colorscale": [
             [
              0,
              "#0d0887"
             ],
             [
              0.1111111111111111,
              "#46039f"
             ],
             [
              0.2222222222222222,
              "#7201a8"
             ],
             [
              0.3333333333333333,
              "#9c179e"
             ],
             [
              0.4444444444444444,
              "#bd3786"
             ],
             [
              0.5555555555555556,
              "#d8576b"
             ],
             [
              0.6666666666666666,
              "#ed7953"
             ],
             [
              0.7777777777777778,
              "#fb9f3a"
             ],
             [
              0.8888888888888888,
              "#fdca26"
             ],
             [
              1,
              "#f0f921"
             ]
            ],
            "type": "surface"
           }
          ],
          "table": [
           {
            "cells": {
             "fill": {
              "color": "#EBF0F8"
             },
             "line": {
              "color": "white"
             }
            },
            "header": {
             "fill": {
              "color": "#C8D4E3"
             },
             "line": {
              "color": "white"
             }
            },
            "type": "table"
           }
          ]
         },
         "layout": {
          "annotationdefaults": {
           "arrowcolor": "#2a3f5f",
           "arrowhead": 0,
           "arrowwidth": 1
          },
          "autotypenumbers": "strict",
          "coloraxis": {
           "colorbar": {
            "outlinewidth": 0,
            "ticks": ""
           }
          },
          "colorscale": {
           "diverging": [
            [
             0,
             "#8e0152"
            ],
            [
             0.1,
             "#c51b7d"
            ],
            [
             0.2,
             "#de77ae"
            ],
            [
             0.3,
             "#f1b6da"
            ],
            [
             0.4,
             "#fde0ef"
            ],
            [
             0.5,
             "#f7f7f7"
            ],
            [
             0.6,
             "#e6f5d0"
            ],
            [
             0.7,
             "#b8e186"
            ],
            [
             0.8,
             "#7fbc41"
            ],
            [
             0.9,
             "#4d9221"
            ],
            [
             1,
             "#276419"
            ]
           ],
           "sequential": [
            [
             0,
             "#0d0887"
            ],
            [
             0.1111111111111111,
             "#46039f"
            ],
            [
             0.2222222222222222,
             "#7201a8"
            ],
            [
             0.3333333333333333,
             "#9c179e"
            ],
            [
             0.4444444444444444,
             "#bd3786"
            ],
            [
             0.5555555555555556,
             "#d8576b"
            ],
            [
             0.6666666666666666,
             "#ed7953"
            ],
            [
             0.7777777777777778,
             "#fb9f3a"
            ],
            [
             0.8888888888888888,
             "#fdca26"
            ],
            [
             1,
             "#f0f921"
            ]
           ],
           "sequentialminus": [
            [
             0,
             "#0d0887"
            ],
            [
             0.1111111111111111,
             "#46039f"
            ],
            [
             0.2222222222222222,
             "#7201a8"
            ],
            [
             0.3333333333333333,
             "#9c179e"
            ],
            [
             0.4444444444444444,
             "#bd3786"
            ],
            [
             0.5555555555555556,
             "#d8576b"
            ],
            [
             0.6666666666666666,
             "#ed7953"
            ],
            [
             0.7777777777777778,
             "#fb9f3a"
            ],
            [
             0.8888888888888888,
             "#fdca26"
            ],
            [
             1,
             "#f0f921"
            ]
           ]
          },
          "colorway": [
           "#636efa",
           "#EF553B",
           "#00cc96",
           "#ab63fa",
           "#FFA15A",
           "#19d3f3",
           "#FF6692",
           "#B6E880",
           "#FF97FF",
           "#FECB52"
          ],
          "font": {
           "color": "#2a3f5f"
          },
          "geo": {
           "bgcolor": "white",
           "lakecolor": "white",
           "landcolor": "#E5ECF6",
           "showlakes": true,
           "showland": true,
           "subunitcolor": "white"
          },
          "hoverlabel": {
           "align": "left"
          },
          "hovermode": "closest",
          "mapbox": {
           "style": "light"
          },
          "paper_bgcolor": "white",
          "plot_bgcolor": "#E5ECF6",
          "polar": {
           "angularaxis": {
            "gridcolor": "white",
            "linecolor": "white",
            "ticks": ""
           },
           "bgcolor": "#E5ECF6",
           "radialaxis": {
            "gridcolor": "white",
            "linecolor": "white",
            "ticks": ""
           }
          },
          "scene": {
           "xaxis": {
            "backgroundcolor": "#E5ECF6",
            "gridcolor": "white",
            "gridwidth": 2,
            "linecolor": "white",
            "showbackground": true,
            "ticks": "",
            "zerolinecolor": "white"
           },
           "yaxis": {
            "backgroundcolor": "#E5ECF6",
            "gridcolor": "white",
            "gridwidth": 2,
            "linecolor": "white",
            "showbackground": true,
            "ticks": "",
            "zerolinecolor": "white"
           },
           "zaxis": {
            "backgroundcolor": "#E5ECF6",
            "gridcolor": "white",
            "gridwidth": 2,
            "linecolor": "white",
            "showbackground": true,
            "ticks": "",
            "zerolinecolor": "white"
           }
          },
          "shapedefaults": {
           "line": {
            "color": "#2a3f5f"
           }
          },
          "ternary": {
           "aaxis": {
            "gridcolor": "white",
            "linecolor": "white",
            "ticks": ""
           },
           "baxis": {
            "gridcolor": "white",
            "linecolor": "white",
            "ticks": ""
           },
           "bgcolor": "#E5ECF6",
           "caxis": {
            "gridcolor": "white",
            "linecolor": "white",
            "ticks": ""
           }
          },
          "title": {
           "x": 0.05
          },
          "xaxis": {
           "automargin": true,
           "gridcolor": "white",
           "linecolor": "white",
           "ticks": "",
           "title": {
            "standoff": 15
           },
           "zerolinecolor": "white",
           "zerolinewidth": 2
          },
          "yaxis": {
           "automargin": true,
           "gridcolor": "white",
           "linecolor": "white",
           "ticks": "",
           "title": {
            "standoff": 15
           },
           "zerolinecolor": "white",
           "zerolinewidth": 2
          }
         }
        }
       }
      },
      "text/html": [
       "<div>                            <div id=\"31772a98-b844-44ae-8e3f-a16f49cd452a\" class=\"plotly-graph-div\" style=\"height:525px; width:100%;\"></div>            <script type=\"text/javascript\">                require([\"plotly\"], function(Plotly) {                    window.PLOTLYENV=window.PLOTLYENV || {};                                    if (document.getElementById(\"31772a98-b844-44ae-8e3f-a16f49cd452a\")) {                    Plotly.newPlot(                        \"31772a98-b844-44ae-8e3f-a16f49cd452a\",                        [{\"marker\":{\"color\":[0,1,2,3,4,5,6,7,8,9,10,11,12,13,14,15,16,17],\"colorscale\":[[0.0,\"#440154\"],[0.1111111111111111,\"#482878\"],[0.2222222222222222,\"#3e4989\"],[0.3333333333333333,\"#31688e\"],[0.4444444444444444,\"#26828e\"],[0.5555555555555556,\"#1f9e89\"],[0.6666666666666666,\"#35b779\"],[0.7777777777777778,\"#6ece58\"],[0.8888888888888888,\"#b5de2b\"],[1.0,\"#fde725\"]],\"opacity\":0.8,\"size\":[9,11,9,16,17,14,17,13,18,18,20,22,26,18,19,19,16,19]},\"mode\":\"markers+text\",\"text\":[\"2006\",\"2007\",\"2008\",\"2009\",\"2010\",\"2011\",\"2012\",\"2013\",\"2014\",\"2015\",\"2016\",\"2017\",\"2018\",\"2019\",\"2020\",\"2021\",\"2022\",\"2023\"],\"textposition\":\"top center\",\"x\":[-1.1947147846221924,-0.5451208353042603,-0.7219810485839844,-0.8419525027275085,-1.1408861875534058,-0.808373212814331,-0.7004802823066711,-0.4898313283920288,-0.006031295284628868,0.32233405113220215,0.3655206561088562,0.29437685012817383,0.5839629173278809,0.7937288880348206,0.9329794645309448,0.592247724533081,1.2684651613235474,1.2957552671432495],\"y\":[-0.22589939832687378,-0.16190806031227112,-0.7045539021492004,-0.0558711513876915,1.5729048252105713,-1.1047395467758179,-0.09729479998350143,0.3611738085746765,0.05157321318984032,0.41171225905418396,-0.2353242188692093,0.058273859322071075,0.14628177881240845,-0.16499373316764832,-0.039675354957580566,0.18188786506652832,0.02572443149983883,-0.01927214488387108],\"z\":[0.5552254915237427,1.5090893507003784,0.0012469814391806722,-0.5185644030570984,-0.03986580669879913,-0.5079580545425415,-0.1788276731967926,-0.37673452496528625,-0.7146913409233093,-0.0721832737326622,-0.008363782428205013,0.12363716959953308,0.020395655184984207,-0.16807661950588226,0.3000580668449402,-0.025319866836071014,0.15605056285858154,-0.05511874705553055],\"type\":\"scatter3d\"}],                        {\"template\":{\"data\":{\"histogram2dcontour\":[{\"type\":\"histogram2dcontour\",\"colorbar\":{\"outlinewidth\":0,\"ticks\":\"\"},\"colorscale\":[[0.0,\"#0d0887\"],[0.1111111111111111,\"#46039f\"],[0.2222222222222222,\"#7201a8\"],[0.3333333333333333,\"#9c179e\"],[0.4444444444444444,\"#bd3786\"],[0.5555555555555556,\"#d8576b\"],[0.6666666666666666,\"#ed7953\"],[0.7777777777777778,\"#fb9f3a\"],[0.8888888888888888,\"#fdca26\"],[1.0,\"#f0f921\"]]}],\"choropleth\":[{\"type\":\"choropleth\",\"colorbar\":{\"outlinewidth\":0,\"ticks\":\"\"}}],\"histogram2d\":[{\"type\":\"histogram2d\",\"colorbar\":{\"outlinewidth\":0,\"ticks\":\"\"},\"colorscale\":[[0.0,\"#0d0887\"],[0.1111111111111111,\"#46039f\"],[0.2222222222222222,\"#7201a8\"],[0.3333333333333333,\"#9c179e\"],[0.4444444444444444,\"#bd3786\"],[0.5555555555555556,\"#d8576b\"],[0.6666666666666666,\"#ed7953\"],[0.7777777777777778,\"#fb9f3a\"],[0.8888888888888888,\"#fdca26\"],[1.0,\"#f0f921\"]]}],\"heatmap\":[{\"type\":\"heatmap\",\"colorbar\":{\"outlinewidth\":0,\"ticks\":\"\"},\"colorscale\":[[0.0,\"#0d0887\"],[0.1111111111111111,\"#46039f\"],[0.2222222222222222,\"#7201a8\"],[0.3333333333333333,\"#9c179e\"],[0.4444444444444444,\"#bd3786\"],[0.5555555555555556,\"#d8576b\"],[0.6666666666666666,\"#ed7953\"],[0.7777777777777778,\"#fb9f3a\"],[0.8888888888888888,\"#fdca26\"],[1.0,\"#f0f921\"]]}],\"heatmapgl\":[{\"type\":\"heatmapgl\",\"colorbar\":{\"outlinewidth\":0,\"ticks\":\"\"},\"colorscale\":[[0.0,\"#0d0887\"],[0.1111111111111111,\"#46039f\"],[0.2222222222222222,\"#7201a8\"],[0.3333333333333333,\"#9c179e\"],[0.4444444444444444,\"#bd3786\"],[0.5555555555555556,\"#d8576b\"],[0.6666666666666666,\"#ed7953\"],[0.7777777777777778,\"#fb9f3a\"],[0.8888888888888888,\"#fdca26\"],[1.0,\"#f0f921\"]]}],\"contourcarpet\":[{\"type\":\"contourcarpet\",\"colorbar\":{\"outlinewidth\":0,\"ticks\":\"\"}}],\"contour\":[{\"type\":\"contour\",\"colorbar\":{\"outlinewidth\":0,\"ticks\":\"\"},\"colorscale\":[[0.0,\"#0d0887\"],[0.1111111111111111,\"#46039f\"],[0.2222222222222222,\"#7201a8\"],[0.3333333333333333,\"#9c179e\"],[0.4444444444444444,\"#bd3786\"],[0.5555555555555556,\"#d8576b\"],[0.6666666666666666,\"#ed7953\"],[0.7777777777777778,\"#fb9f3a\"],[0.8888888888888888,\"#fdca26\"],[1.0,\"#f0f921\"]]}],\"surface\":[{\"type\":\"surface\",\"colorbar\":{\"outlinewidth\":0,\"ticks\":\"\"},\"colorscale\":[[0.0,\"#0d0887\"],[0.1111111111111111,\"#46039f\"],[0.2222222222222222,\"#7201a8\"],[0.3333333333333333,\"#9c179e\"],[0.4444444444444444,\"#bd3786\"],[0.5555555555555556,\"#d8576b\"],[0.6666666666666666,\"#ed7953\"],[0.7777777777777778,\"#fb9f3a\"],[0.8888888888888888,\"#fdca26\"],[1.0,\"#f0f921\"]]}],\"mesh3d\":[{\"type\":\"mesh3d\",\"colorbar\":{\"outlinewidth\":0,\"ticks\":\"\"}}],\"scatter\":[{\"fillpattern\":{\"fillmode\":\"overlay\",\"size\":10,\"solidity\":0.2},\"type\":\"scatter\"}],\"parcoords\":[{\"type\":\"parcoords\",\"line\":{\"colorbar\":{\"outlinewidth\":0,\"ticks\":\"\"}}}],\"scatterpolargl\":[{\"type\":\"scatterpolargl\",\"marker\":{\"colorbar\":{\"outlinewidth\":0,\"ticks\":\"\"}}}],\"bar\":[{\"error_x\":{\"color\":\"#2a3f5f\"},\"error_y\":{\"color\":\"#2a3f5f\"},\"marker\":{\"line\":{\"color\":\"#E5ECF6\",\"width\":0.5},\"pattern\":{\"fillmode\":\"overlay\",\"size\":10,\"solidity\":0.2}},\"type\":\"bar\"}],\"scattergeo\":[{\"type\":\"scattergeo\",\"marker\":{\"colorbar\":{\"outlinewidth\":0,\"ticks\":\"\"}}}],\"scatterpolar\":[{\"type\":\"scatterpolar\",\"marker\":{\"colorbar\":{\"outlinewidth\":0,\"ticks\":\"\"}}}],\"histogram\":[{\"marker\":{\"pattern\":{\"fillmode\":\"overlay\",\"size\":10,\"solidity\":0.2}},\"type\":\"histogram\"}],\"scattergl\":[{\"type\":\"scattergl\",\"marker\":{\"colorbar\":{\"outlinewidth\":0,\"ticks\":\"\"}}}],\"scatter3d\":[{\"type\":\"scatter3d\",\"line\":{\"colorbar\":{\"outlinewidth\":0,\"ticks\":\"\"}},\"marker\":{\"colorbar\":{\"outlinewidth\":0,\"ticks\":\"\"}}}],\"scattermapbox\":[{\"type\":\"scattermapbox\",\"marker\":{\"colorbar\":{\"outlinewidth\":0,\"ticks\":\"\"}}}],\"scatterternary\":[{\"type\":\"scatterternary\",\"marker\":{\"colorbar\":{\"outlinewidth\":0,\"ticks\":\"\"}}}],\"scattercarpet\":[{\"type\":\"scattercarpet\",\"marker\":{\"colorbar\":{\"outlinewidth\":0,\"ticks\":\"\"}}}],\"carpet\":[{\"aaxis\":{\"endlinecolor\":\"#2a3f5f\",\"gridcolor\":\"white\",\"linecolor\":\"white\",\"minorgridcolor\":\"white\",\"startlinecolor\":\"#2a3f5f\"},\"baxis\":{\"endlinecolor\":\"#2a3f5f\",\"gridcolor\":\"white\",\"linecolor\":\"white\",\"minorgridcolor\":\"white\",\"startlinecolor\":\"#2a3f5f\"},\"type\":\"carpet\"}],\"table\":[{\"cells\":{\"fill\":{\"color\":\"#EBF0F8\"},\"line\":{\"color\":\"white\"}},\"header\":{\"fill\":{\"color\":\"#C8D4E3\"},\"line\":{\"color\":\"white\"}},\"type\":\"table\"}],\"barpolar\":[{\"marker\":{\"line\":{\"color\":\"#E5ECF6\",\"width\":0.5},\"pattern\":{\"fillmode\":\"overlay\",\"size\":10,\"solidity\":0.2}},\"type\":\"barpolar\"}],\"pie\":[{\"automargin\":true,\"type\":\"pie\"}]},\"layout\":{\"autotypenumbers\":\"strict\",\"colorway\":[\"#636efa\",\"#EF553B\",\"#00cc96\",\"#ab63fa\",\"#FFA15A\",\"#19d3f3\",\"#FF6692\",\"#B6E880\",\"#FF97FF\",\"#FECB52\"],\"font\":{\"color\":\"#2a3f5f\"},\"hovermode\":\"closest\",\"hoverlabel\":{\"align\":\"left\"},\"paper_bgcolor\":\"white\",\"plot_bgcolor\":\"#E5ECF6\",\"polar\":{\"bgcolor\":\"#E5ECF6\",\"angularaxis\":{\"gridcolor\":\"white\",\"linecolor\":\"white\",\"ticks\":\"\"},\"radialaxis\":{\"gridcolor\":\"white\",\"linecolor\":\"white\",\"ticks\":\"\"}},\"ternary\":{\"bgcolor\":\"#E5ECF6\",\"aaxis\":{\"gridcolor\":\"white\",\"linecolor\":\"white\",\"ticks\":\"\"},\"baxis\":{\"gridcolor\":\"white\",\"linecolor\":\"white\",\"ticks\":\"\"},\"caxis\":{\"gridcolor\":\"white\",\"linecolor\":\"white\",\"ticks\":\"\"}},\"coloraxis\":{\"colorbar\":{\"outlinewidth\":0,\"ticks\":\"\"}},\"colorscale\":{\"sequential\":[[0.0,\"#0d0887\"],[0.1111111111111111,\"#46039f\"],[0.2222222222222222,\"#7201a8\"],[0.3333333333333333,\"#9c179e\"],[0.4444444444444444,\"#bd3786\"],[0.5555555555555556,\"#d8576b\"],[0.6666666666666666,\"#ed7953\"],[0.7777777777777778,\"#fb9f3a\"],[0.8888888888888888,\"#fdca26\"],[1.0,\"#f0f921\"]],\"sequentialminus\":[[0.0,\"#0d0887\"],[0.1111111111111111,\"#46039f\"],[0.2222222222222222,\"#7201a8\"],[0.3333333333333333,\"#9c179e\"],[0.4444444444444444,\"#bd3786\"],[0.5555555555555556,\"#d8576b\"],[0.6666666666666666,\"#ed7953\"],[0.7777777777777778,\"#fb9f3a\"],[0.8888888888888888,\"#fdca26\"],[1.0,\"#f0f921\"]],\"diverging\":[[0,\"#8e0152\"],[0.1,\"#c51b7d\"],[0.2,\"#de77ae\"],[0.3,\"#f1b6da\"],[0.4,\"#fde0ef\"],[0.5,\"#f7f7f7\"],[0.6,\"#e6f5d0\"],[0.7,\"#b8e186\"],[0.8,\"#7fbc41\"],[0.9,\"#4d9221\"],[1,\"#276419\"]]},\"xaxis\":{\"gridcolor\":\"white\",\"linecolor\":\"white\",\"ticks\":\"\",\"title\":{\"standoff\":15},\"zerolinecolor\":\"white\",\"automargin\":true,\"zerolinewidth\":2},\"yaxis\":{\"gridcolor\":\"white\",\"linecolor\":\"white\",\"ticks\":\"\",\"title\":{\"standoff\":15},\"zerolinecolor\":\"white\",\"automargin\":true,\"zerolinewidth\":2},\"scene\":{\"xaxis\":{\"backgroundcolor\":\"#E5ECF6\",\"gridcolor\":\"white\",\"linecolor\":\"white\",\"showbackground\":true,\"ticks\":\"\",\"zerolinecolor\":\"white\",\"gridwidth\":2},\"yaxis\":{\"backgroundcolor\":\"#E5ECF6\",\"gridcolor\":\"white\",\"linecolor\":\"white\",\"showbackground\":true,\"ticks\":\"\",\"zerolinecolor\":\"white\",\"gridwidth\":2},\"zaxis\":{\"backgroundcolor\":\"#E5ECF6\",\"gridcolor\":\"white\",\"linecolor\":\"white\",\"showbackground\":true,\"ticks\":\"\",\"zerolinecolor\":\"white\",\"gridwidth\":2}},\"shapedefaults\":{\"line\":{\"color\":\"#2a3f5f\"}},\"annotationdefaults\":{\"arrowcolor\":\"#2a3f5f\",\"arrowhead\":0,\"arrowwidth\":1},\"geo\":{\"bgcolor\":\"white\",\"landcolor\":\"#E5ECF6\",\"subunitcolor\":\"white\",\"showland\":true,\"showlakes\":true,\"lakecolor\":\"white\"},\"title\":{\"x\":0.05},\"mapbox\":{\"style\":\"light\"}}},\"margin\":{\"l\":0,\"r\":0,\"b\":0,\"t\":0}},                        {\"responsive\": true}                    ).then(function(){\n",
       "                            \n",
       "var gd = document.getElementById('31772a98-b844-44ae-8e3f-a16f49cd452a');\n",
       "var x = new MutationObserver(function (mutations, observer) {{\n",
       "        var display = window.getComputedStyle(gd).display;\n",
       "        if (!display || display === 'none') {{\n",
       "            console.log([gd, 'removed!']);\n",
       "            Plotly.purge(gd);\n",
       "            observer.disconnect();\n",
       "        }}\n",
       "}});\n",
       "\n",
       "// Listen for the removal of the full notebook cells\n",
       "var notebookContainer = gd.closest('#notebook-container');\n",
       "if (notebookContainer) {{\n",
       "    x.observe(notebookContainer, {childList: true});\n",
       "}}\n",
       "\n",
       "// Listen for the clearing of the current output cell\n",
       "var outputEl = gd.closest('.output');\n",
       "if (outputEl) {{\n",
       "    x.observe(outputEl, {childList: true});\n",
       "}}\n",
       "\n",
       "                        })                };                });            </script>        </div>"
      ]
     },
     "metadata": {},
     "output_type": "display_data"
    }
   ],
   "source": [
    "# rappresentazione dei vettori nello spazio\n",
    "import numpy as np\n",
    "from sklearn.decomposition import PCA\n",
    "import plotly.graph_objs as go\n",
    "\n",
    "# Supponendo che ft_vectors contenga gli embedding di \"circular_economy\" per ogni anno\n",
    "vectors = np.array([word_vector['circular_economy'] for year, word_vector in ft_vectors.items()])\n",
    "years = list(ft_vectors.keys())\n",
    "n_documents = [len(papers) for year, papers in bigram_vocab.items()]\n",
    "\n",
    "# Riduzione delle dimensioni a 3 componenti con PCA\n",
    "pca = PCA(n_components=3)\n",
    "reduced_vectors = pca.fit_transform(vectors)\n",
    "\n",
    "# Visualizzazione interattiva con Plotly\n",
    "fig = go.Figure(data=[go.Scatter3d(\n",
    "    x=reduced_vectors[:, 0],\n",
    "    y=reduced_vectors[:, 1],\n",
    "    z=reduced_vectors[:, 2],\n",
    "    mode='markers+text',\n",
    "    marker=dict(\n",
    "        size=n_documents,\n",
    "        color=np.arange(len(reduced_vectors)),  # Usa anni o un altro colore scala\n",
    "        colorscale='Viridis',  # Cambia a piacimento\n",
    "        opacity=0.8\n",
    "    ),\n",
    "    text=years,\n",
    "    textposition=\"top center\"\n",
    ")])\n",
    "\n",
    "fig.update_layout(margin=dict(l=0, r=0, b=0, t=0))\n",
    "fig.show()"
   ]
  },
  {
   "cell_type": "code",
   "execution_count": 42,
   "id": "41e1375a",
   "metadata": {},
   "outputs": [
    {
     "data": {
      "application/vnd.plotly.v1+json": {
       "config": {
        "plotlyServerURL": "https://plot.ly"
       },
       "data": [
        {
         "hovertemplate": "Year=%{text}<br>t-SNE1=%{x}<br>t-SNE2=%{y}<br>size=%{marker.size}<extra></extra>",
         "legendgroup": "2006",
         "marker": {
          "color": "#636efa",
          "size": [
           9
          ],
          "sizemode": "area",
          "sizeref": 0.065,
          "symbol": "circle"
         },
         "mode": "markers+text",
         "name": "2006",
         "orientation": "v",
         "showlegend": true,
         "text": [
          "2006"
         ],
         "textposition": "top center",
         "type": "scatter",
         "x": [
          -77.16462707519531
         ],
         "xaxis": "x",
         "y": [
          13.426543235778809
         ],
         "yaxis": "y"
        },
        {
         "hovertemplate": "Year=%{text}<br>t-SNE1=%{x}<br>t-SNE2=%{y}<br>size=%{marker.size}<extra></extra>",
         "legendgroup": "2007",
         "marker": {
          "color": "#EF553B",
          "size": [
           11
          ],
          "sizemode": "area",
          "sizeref": 0.065,
          "symbol": "circle"
         },
         "mode": "markers+text",
         "name": "2007",
         "orientation": "v",
         "showlegend": true,
         "text": [
          "2007"
         ],
         "textposition": "top center",
         "type": "scatter",
         "x": [
          -64.91735076904297
         ],
         "xaxis": "x",
         "y": [
          -32.65711212158203
         ],
         "yaxis": "y"
        },
        {
         "hovertemplate": "Year=%{text}<br>t-SNE1=%{x}<br>t-SNE2=%{y}<br>size=%{marker.size}<extra></extra>",
         "legendgroup": "2008",
         "marker": {
          "color": "#00cc96",
          "size": [
           9
          ],
          "sizemode": "area",
          "sizeref": 0.065,
          "symbol": "circle"
         },
         "mode": "markers+text",
         "name": "2008",
         "orientation": "v",
         "showlegend": true,
         "text": [
          "2008"
         ],
         "textposition": "top center",
         "type": "scatter",
         "x": [
          -13.593368530273438
         ],
         "xaxis": "x",
         "y": [
          88.46670532226562
         ],
         "yaxis": "y"
        },
        {
         "hovertemplate": "Year=%{text}<br>t-SNE1=%{x}<br>t-SNE2=%{y}<br>size=%{marker.size}<extra></extra>",
         "legendgroup": "2009",
         "marker": {
          "color": "#ab63fa",
          "size": [
           16
          ],
          "sizemode": "area",
          "sizeref": 0.065,
          "symbol": "circle"
         },
         "mode": "markers+text",
         "name": "2009",
         "orientation": "v",
         "showlegend": true,
         "text": [
          "2009"
         ],
         "textposition": "top center",
         "type": "scatter",
         "x": [
          -40.02922439575195
         ],
         "xaxis": "x",
         "y": [
          15.907878875732422
         ],
         "yaxis": "y"
        },
        {
         "hovertemplate": "Year=%{text}<br>t-SNE1=%{x}<br>t-SNE2=%{y}<br>size=%{marker.size}<extra></extra>",
         "legendgroup": "2010",
         "marker": {
          "color": "#FFA15A",
          "size": [
           17
          ],
          "sizemode": "area",
          "sizeref": 0.065,
          "symbol": "circle"
         },
         "mode": "markers+text",
         "name": "2010",
         "orientation": "v",
         "showlegend": true,
         "text": [
          "2010"
         ],
         "textposition": "top center",
         "type": "scatter",
         "x": [
          -96.46617126464844
         ],
         "xaxis": "x",
         "y": [
          63.45859909057617
         ],
         "yaxis": "y"
        },
        {
         "hovertemplate": "Year=%{text}<br>t-SNE1=%{x}<br>t-SNE2=%{y}<br>size=%{marker.size}<extra></extra>",
         "legendgroup": "2011",
         "marker": {
          "color": "#19d3f3",
          "size": [
           14
          ],
          "sizemode": "area",
          "sizeref": 0.065,
          "symbol": "circle"
         },
         "mode": "markers+text",
         "name": "2011",
         "orientation": "v",
         "showlegend": true,
         "text": [
          "2011"
         ],
         "textposition": "top center",
         "type": "scatter",
         "x": [
          18.64427947998047
         ],
         "xaxis": "x",
         "y": [
          51.141178131103516
         ],
         "yaxis": "y"
        },
        {
         "hovertemplate": "Year=%{text}<br>t-SNE1=%{x}<br>t-SNE2=%{y}<br>size=%{marker.size}<extra></extra>",
         "legendgroup": "2012",
         "marker": {
          "color": "#FF6692",
          "size": [
           17
          ],
          "sizemode": "area",
          "sizeref": 0.065,
          "symbol": "circle"
         },
         "mode": "markers+text",
         "name": "2012",
         "orientation": "v",
         "showlegend": true,
         "text": [
          "2012"
         ],
         "textposition": "top center",
         "type": "scatter",
         "x": [
          -22.24306297302246
         ],
         "xaxis": "x",
         "y": [
          49.46721267700195
         ],
         "yaxis": "y"
        },
        {
         "hovertemplate": "Year=%{text}<br>t-SNE1=%{x}<br>t-SNE2=%{y}<br>size=%{marker.size}<extra></extra>",
         "legendgroup": "2013",
         "marker": {
          "color": "#B6E880",
          "size": [
           13
          ],
          "sizemode": "area",
          "sizeref": 0.065,
          "symbol": "circle"
         },
         "mode": "markers+text",
         "name": "2013",
         "orientation": "v",
         "showlegend": true,
         "text": [
          "2013"
         ],
         "textposition": "top center",
         "type": "scatter",
         "x": [
          -50.55923080444336
         ],
         "xaxis": "x",
         "y": [
          60.82707595825195
         ],
         "yaxis": "y"
        },
        {
         "hovertemplate": "Year=%{text}<br>t-SNE1=%{x}<br>t-SNE2=%{y}<br>size=%{marker.size}<extra></extra>",
         "legendgroup": "2014",
         "marker": {
          "color": "#FF97FF",
          "size": [
           18
          ],
          "sizemode": "area",
          "sizeref": 0.065,
          "symbol": "circle"
         },
         "mode": "markers+text",
         "name": "2014",
         "orientation": "v",
         "showlegend": true,
         "text": [
          "2014"
         ],
         "textposition": "top center",
         "type": "scatter",
         "x": [
          -17.365066528320312
         ],
         "xaxis": "x",
         "y": [
          -72.21990966796875
         ],
         "yaxis": "y"
        },
        {
         "hovertemplate": "Year=%{text}<br>t-SNE1=%{x}<br>t-SNE2=%{y}<br>size=%{marker.size}<extra></extra>",
         "legendgroup": "2015",
         "marker": {
          "color": "#FECB52",
          "size": [
           18
          ],
          "sizemode": "area",
          "sizeref": 0.065,
          "symbol": "circle"
         },
         "mode": "markers+text",
         "name": "2015",
         "orientation": "v",
         "showlegend": true,
         "text": [
          "2015"
         ],
         "textposition": "top center",
         "type": "scatter",
         "x": [
          76.53158569335938
         ],
         "xaxis": "x",
         "y": [
          22.969118118286133
         ],
         "yaxis": "y"
        },
        {
         "hovertemplate": "Year=%{text}<br>t-SNE1=%{x}<br>t-SNE2=%{y}<br>size=%{marker.size}<extra></extra>",
         "legendgroup": "2016",
         "marker": {
          "color": "#636efa",
          "size": [
           20
          ],
          "sizemode": "area",
          "sizeref": 0.065,
          "symbol": "circle"
         },
         "mode": "markers+text",
         "name": "2016",
         "orientation": "v",
         "showlegend": true,
         "text": [
          "2016"
         ],
         "textposition": "top center",
         "type": "scatter",
         "x": [
          -5.769387722015381
         ],
         "xaxis": "x",
         "y": [
          -16.255348205566406
         ],
         "yaxis": "y"
        },
        {
         "hovertemplate": "Year=%{text}<br>t-SNE1=%{x}<br>t-SNE2=%{y}<br>size=%{marker.size}<extra></extra>",
         "legendgroup": "2017",
         "marker": {
          "color": "#EF553B",
          "size": [
           22
          ],
          "sizemode": "area",
          "sizeref": 0.065,
          "symbol": "circle"
         },
         "mode": "markers+text",
         "name": "2017",
         "orientation": "v",
         "showlegend": true,
         "text": [
          "2017"
         ],
         "textposition": "top center",
         "type": "scatter",
         "x": [
          34.57144546508789
         ],
         "xaxis": "x",
         "y": [
          5.282149314880371
         ],
         "yaxis": "y"
        },
        {
         "hovertemplate": "Year=%{text}<br>t-SNE1=%{x}<br>t-SNE2=%{y}<br>size=%{marker.size}<extra></extra>",
         "legendgroup": "2018",
         "marker": {
          "color": "#00cc96",
          "size": [
           26
          ],
          "sizemode": "area",
          "sizeref": 0.065,
          "symbol": "circle"
         },
         "mode": "markers+text",
         "name": "2018",
         "orientation": "v",
         "showlegend": true,
         "text": [
          "2018"
         ],
         "textposition": "top center",
         "type": "scatter",
         "x": [
          9.075014114379883
         ],
         "xaxis": "x",
         "y": [
          -43.47203063964844
         ],
         "yaxis": "y"
        },
        {
         "hovertemplate": "Year=%{text}<br>t-SNE1=%{x}<br>t-SNE2=%{y}<br>size=%{marker.size}<extra></extra>",
         "legendgroup": "2019",
         "marker": {
          "color": "#ab63fa",
          "size": [
           18
          ],
          "sizemode": "area",
          "sizeref": 0.065,
          "symbol": "circle"
         },
         "mode": "markers+text",
         "name": "2019",
         "orientation": "v",
         "showlegend": true,
         "text": [
          "2019"
         ],
         "textposition": "top center",
         "type": "scatter",
         "x": [
          61.717403411865234
         ],
         "xaxis": "x",
         "y": [
          -19.641529083251953
         ],
         "yaxis": "y"
        },
        {
         "hovertemplate": "Year=%{text}<br>t-SNE1=%{x}<br>t-SNE2=%{y}<br>size=%{marker.size}<extra></extra>",
         "legendgroup": "2020",
         "marker": {
          "color": "#FFA15A",
          "size": [
           19
          ],
          "sizemode": "area",
          "sizeref": 0.065,
          "symbol": "circle"
         },
         "mode": "markers+text",
         "name": "2020",
         "orientation": "v",
         "showlegend": true,
         "text": [
          "2020"
         ],
         "textposition": "top center",
         "type": "scatter",
         "x": [
          35.13339614868164
         ],
         "xaxis": "x",
         "y": [
          -74.97447967529297
         ],
         "yaxis": "y"
        },
        {
         "hovertemplate": "Year=%{text}<br>t-SNE1=%{x}<br>t-SNE2=%{y}<br>size=%{marker.size}<extra></extra>",
         "legendgroup": "2021",
         "marker": {
          "color": "#19d3f3",
          "size": [
           19
          ],
          "sizemode": "area",
          "sizeref": 0.065,
          "symbol": "circle"
         },
         "mode": "markers+text",
         "name": "2021",
         "orientation": "v",
         "showlegend": true,
         "text": [
          "2021"
         ],
         "textposition": "top center",
         "type": "scatter",
         "x": [
          36.296321868896484
         ],
         "xaxis": "x",
         "y": [
          -34.67673110961914
         ],
         "yaxis": "y"
        },
        {
         "hovertemplate": "Year=%{text}<br>t-SNE1=%{x}<br>t-SNE2=%{y}<br>size=%{marker.size}<extra></extra>",
         "legendgroup": "2022",
         "marker": {
          "color": "#FF6692",
          "size": [
           16
          ],
          "sizemode": "area",
          "sizeref": 0.065,
          "symbol": "circle"
         },
         "mode": "markers+text",
         "name": "2022",
         "orientation": "v",
         "showlegend": true,
         "text": [
          "2022"
         ],
         "textposition": "top center",
         "type": "scatter",
         "x": [
          93.1622085571289
         ],
         "xaxis": "x",
         "y": [
          -50.25796127319336
         ],
         "yaxis": "y"
        },
        {
         "hovertemplate": "Year=%{text}<br>t-SNE1=%{x}<br>t-SNE2=%{y}<br>size=%{marker.size}<extra></extra>",
         "legendgroup": "2023",
         "marker": {
          "color": "#B6E880",
          "size": [
           19
          ],
          "sizemode": "area",
          "sizeref": 0.065,
          "symbol": "circle"
         },
         "mode": "markers+text",
         "name": "2023",
         "orientation": "v",
         "showlegend": true,
         "text": [
          "2023"
         ],
         "textposition": "top center",
         "type": "scatter",
         "x": [
          66.73261260986328
         ],
         "xaxis": "x",
         "y": [
          -64.17508697509766
         ],
         "yaxis": "y"
        }
       ],
       "layout": {
        "legend": {
         "itemsizing": "constant",
         "title": {
          "text": "Year"
         },
         "tracegroupgap": 0
        },
        "showlegend": true,
        "template": {
         "data": {
          "bar": [
           {
            "error_x": {
             "color": "#2a3f5f"
            },
            "error_y": {
             "color": "#2a3f5f"
            },
            "marker": {
             "line": {
              "color": "white",
              "width": 0.5
             },
             "pattern": {
              "fillmode": "overlay",
              "size": 10,
              "solidity": 0.2
             }
            },
            "type": "bar"
           }
          ],
          "barpolar": [
           {
            "marker": {
             "line": {
              "color": "white",
              "width": 0.5
             },
             "pattern": {
              "fillmode": "overlay",
              "size": 10,
              "solidity": 0.2
             }
            },
            "type": "barpolar"
           }
          ],
          "carpet": [
           {
            "aaxis": {
             "endlinecolor": "#2a3f5f",
             "gridcolor": "#C8D4E3",
             "linecolor": "#C8D4E3",
             "minorgridcolor": "#C8D4E3",
             "startlinecolor": "#2a3f5f"
            },
            "baxis": {
             "endlinecolor": "#2a3f5f",
             "gridcolor": "#C8D4E3",
             "linecolor": "#C8D4E3",
             "minorgridcolor": "#C8D4E3",
             "startlinecolor": "#2a3f5f"
            },
            "type": "carpet"
           }
          ],
          "choropleth": [
           {
            "colorbar": {
             "outlinewidth": 0,
             "ticks": ""
            },
            "type": "choropleth"
           }
          ],
          "contour": [
           {
            "colorbar": {
             "outlinewidth": 0,
             "ticks": ""
            },
            "colorscale": [
             [
              0,
              "#0d0887"
             ],
             [
              0.1111111111111111,
              "#46039f"
             ],
             [
              0.2222222222222222,
              "#7201a8"
             ],
             [
              0.3333333333333333,
              "#9c179e"
             ],
             [
              0.4444444444444444,
              "#bd3786"
             ],
             [
              0.5555555555555556,
              "#d8576b"
             ],
             [
              0.6666666666666666,
              "#ed7953"
             ],
             [
              0.7777777777777778,
              "#fb9f3a"
             ],
             [
              0.8888888888888888,
              "#fdca26"
             ],
             [
              1,
              "#f0f921"
             ]
            ],
            "type": "contour"
           }
          ],
          "contourcarpet": [
           {
            "colorbar": {
             "outlinewidth": 0,
             "ticks": ""
            },
            "type": "contourcarpet"
           }
          ],
          "heatmap": [
           {
            "colorbar": {
             "outlinewidth": 0,
             "ticks": ""
            },
            "colorscale": [
             [
              0,
              "#0d0887"
             ],
             [
              0.1111111111111111,
              "#46039f"
             ],
             [
              0.2222222222222222,
              "#7201a8"
             ],
             [
              0.3333333333333333,
              "#9c179e"
             ],
             [
              0.4444444444444444,
              "#bd3786"
             ],
             [
              0.5555555555555556,
              "#d8576b"
             ],
             [
              0.6666666666666666,
              "#ed7953"
             ],
             [
              0.7777777777777778,
              "#fb9f3a"
             ],
             [
              0.8888888888888888,
              "#fdca26"
             ],
             [
              1,
              "#f0f921"
             ]
            ],
            "type": "heatmap"
           }
          ],
          "heatmapgl": [
           {
            "colorbar": {
             "outlinewidth": 0,
             "ticks": ""
            },
            "colorscale": [
             [
              0,
              "#0d0887"
             ],
             [
              0.1111111111111111,
              "#46039f"
             ],
             [
              0.2222222222222222,
              "#7201a8"
             ],
             [
              0.3333333333333333,
              "#9c179e"
             ],
             [
              0.4444444444444444,
              "#bd3786"
             ],
             [
              0.5555555555555556,
              "#d8576b"
             ],
             [
              0.6666666666666666,
              "#ed7953"
             ],
             [
              0.7777777777777778,
              "#fb9f3a"
             ],
             [
              0.8888888888888888,
              "#fdca26"
             ],
             [
              1,
              "#f0f921"
             ]
            ],
            "type": "heatmapgl"
           }
          ],
          "histogram": [
           {
            "marker": {
             "pattern": {
              "fillmode": "overlay",
              "size": 10,
              "solidity": 0.2
             }
            },
            "type": "histogram"
           }
          ],
          "histogram2d": [
           {
            "colorbar": {
             "outlinewidth": 0,
             "ticks": ""
            },
            "colorscale": [
             [
              0,
              "#0d0887"
             ],
             [
              0.1111111111111111,
              "#46039f"
             ],
             [
              0.2222222222222222,
              "#7201a8"
             ],
             [
              0.3333333333333333,
              "#9c179e"
             ],
             [
              0.4444444444444444,
              "#bd3786"
             ],
             [
              0.5555555555555556,
              "#d8576b"
             ],
             [
              0.6666666666666666,
              "#ed7953"
             ],
             [
              0.7777777777777778,
              "#fb9f3a"
             ],
             [
              0.8888888888888888,
              "#fdca26"
             ],
             [
              1,
              "#f0f921"
             ]
            ],
            "type": "histogram2d"
           }
          ],
          "histogram2dcontour": [
           {
            "colorbar": {
             "outlinewidth": 0,
             "ticks": ""
            },
            "colorscale": [
             [
              0,
              "#0d0887"
             ],
             [
              0.1111111111111111,
              "#46039f"
             ],
             [
              0.2222222222222222,
              "#7201a8"
             ],
             [
              0.3333333333333333,
              "#9c179e"
             ],
             [
              0.4444444444444444,
              "#bd3786"
             ],
             [
              0.5555555555555556,
              "#d8576b"
             ],
             [
              0.6666666666666666,
              "#ed7953"
             ],
             [
              0.7777777777777778,
              "#fb9f3a"
             ],
             [
              0.8888888888888888,
              "#fdca26"
             ],
             [
              1,
              "#f0f921"
             ]
            ],
            "type": "histogram2dcontour"
           }
          ],
          "mesh3d": [
           {
            "colorbar": {
             "outlinewidth": 0,
             "ticks": ""
            },
            "type": "mesh3d"
           }
          ],
          "parcoords": [
           {
            "line": {
             "colorbar": {
              "outlinewidth": 0,
              "ticks": ""
             }
            },
            "type": "parcoords"
           }
          ],
          "pie": [
           {
            "automargin": true,
            "type": "pie"
           }
          ],
          "scatter": [
           {
            "fillpattern": {
             "fillmode": "overlay",
             "size": 10,
             "solidity": 0.2
            },
            "type": "scatter"
           }
          ],
          "scatter3d": [
           {
            "line": {
             "colorbar": {
              "outlinewidth": 0,
              "ticks": ""
             }
            },
            "marker": {
             "colorbar": {
              "outlinewidth": 0,
              "ticks": ""
             }
            },
            "type": "scatter3d"
           }
          ],
          "scattercarpet": [
           {
            "marker": {
             "colorbar": {
              "outlinewidth": 0,
              "ticks": ""
             }
            },
            "type": "scattercarpet"
           }
          ],
          "scattergeo": [
           {
            "marker": {
             "colorbar": {
              "outlinewidth": 0,
              "ticks": ""
             }
            },
            "type": "scattergeo"
           }
          ],
          "scattergl": [
           {
            "marker": {
             "colorbar": {
              "outlinewidth": 0,
              "ticks": ""
             }
            },
            "type": "scattergl"
           }
          ],
          "scattermapbox": [
           {
            "marker": {
             "colorbar": {
              "outlinewidth": 0,
              "ticks": ""
             }
            },
            "type": "scattermapbox"
           }
          ],
          "scatterpolar": [
           {
            "marker": {
             "colorbar": {
              "outlinewidth": 0,
              "ticks": ""
             }
            },
            "type": "scatterpolar"
           }
          ],
          "scatterpolargl": [
           {
            "marker": {
             "colorbar": {
              "outlinewidth": 0,
              "ticks": ""
             }
            },
            "type": "scatterpolargl"
           }
          ],
          "scatterternary": [
           {
            "marker": {
             "colorbar": {
              "outlinewidth": 0,
              "ticks": ""
             }
            },
            "type": "scatterternary"
           }
          ],
          "surface": [
           {
            "colorbar": {
             "outlinewidth": 0,
             "ticks": ""
            },
            "colorscale": [
             [
              0,
              "#0d0887"
             ],
             [
              0.1111111111111111,
              "#46039f"
             ],
             [
              0.2222222222222222,
              "#7201a8"
             ],
             [
              0.3333333333333333,
              "#9c179e"
             ],
             [
              0.4444444444444444,
              "#bd3786"
             ],
             [
              0.5555555555555556,
              "#d8576b"
             ],
             [
              0.6666666666666666,
              "#ed7953"
             ],
             [
              0.7777777777777778,
              "#fb9f3a"
             ],
             [
              0.8888888888888888,
              "#fdca26"
             ],
             [
              1,
              "#f0f921"
             ]
            ],
            "type": "surface"
           }
          ],
          "table": [
           {
            "cells": {
             "fill": {
              "color": "#EBF0F8"
             },
             "line": {
              "color": "white"
             }
            },
            "header": {
             "fill": {
              "color": "#C8D4E3"
             },
             "line": {
              "color": "white"
             }
            },
            "type": "table"
           }
          ]
         },
         "layout": {
          "annotationdefaults": {
           "arrowcolor": "#2a3f5f",
           "arrowhead": 0,
           "arrowwidth": 1
          },
          "autotypenumbers": "strict",
          "coloraxis": {
           "colorbar": {
            "outlinewidth": 0,
            "ticks": ""
           }
          },
          "colorscale": {
           "diverging": [
            [
             0,
             "#8e0152"
            ],
            [
             0.1,
             "#c51b7d"
            ],
            [
             0.2,
             "#de77ae"
            ],
            [
             0.3,
             "#f1b6da"
            ],
            [
             0.4,
             "#fde0ef"
            ],
            [
             0.5,
             "#f7f7f7"
            ],
            [
             0.6,
             "#e6f5d0"
            ],
            [
             0.7,
             "#b8e186"
            ],
            [
             0.8,
             "#7fbc41"
            ],
            [
             0.9,
             "#4d9221"
            ],
            [
             1,
             "#276419"
            ]
           ],
           "sequential": [
            [
             0,
             "#0d0887"
            ],
            [
             0.1111111111111111,
             "#46039f"
            ],
            [
             0.2222222222222222,
             "#7201a8"
            ],
            [
             0.3333333333333333,
             "#9c179e"
            ],
            [
             0.4444444444444444,
             "#bd3786"
            ],
            [
             0.5555555555555556,
             "#d8576b"
            ],
            [
             0.6666666666666666,
             "#ed7953"
            ],
            [
             0.7777777777777778,
             "#fb9f3a"
            ],
            [
             0.8888888888888888,
             "#fdca26"
            ],
            [
             1,
             "#f0f921"
            ]
           ],
           "sequentialminus": [
            [
             0,
             "#0d0887"
            ],
            [
             0.1111111111111111,
             "#46039f"
            ],
            [
             0.2222222222222222,
             "#7201a8"
            ],
            [
             0.3333333333333333,
             "#9c179e"
            ],
            [
             0.4444444444444444,
             "#bd3786"
            ],
            [
             0.5555555555555556,
             "#d8576b"
            ],
            [
             0.6666666666666666,
             "#ed7953"
            ],
            [
             0.7777777777777778,
             "#fb9f3a"
            ],
            [
             0.8888888888888888,
             "#fdca26"
            ],
            [
             1,
             "#f0f921"
            ]
           ]
          },
          "colorway": [
           "#636efa",
           "#EF553B",
           "#00cc96",
           "#ab63fa",
           "#FFA15A",
           "#19d3f3",
           "#FF6692",
           "#B6E880",
           "#FF97FF",
           "#FECB52"
          ],
          "font": {
           "color": "#2a3f5f"
          },
          "geo": {
           "bgcolor": "white",
           "lakecolor": "white",
           "landcolor": "white",
           "showlakes": true,
           "showland": true,
           "subunitcolor": "#C8D4E3"
          },
          "hoverlabel": {
           "align": "left"
          },
          "hovermode": "closest",
          "mapbox": {
           "style": "light"
          },
          "paper_bgcolor": "white",
          "plot_bgcolor": "white",
          "polar": {
           "angularaxis": {
            "gridcolor": "#EBF0F8",
            "linecolor": "#EBF0F8",
            "ticks": ""
           },
           "bgcolor": "white",
           "radialaxis": {
            "gridcolor": "#EBF0F8",
            "linecolor": "#EBF0F8",
            "ticks": ""
           }
          },
          "scene": {
           "xaxis": {
            "backgroundcolor": "white",
            "gridcolor": "#DFE8F3",
            "gridwidth": 2,
            "linecolor": "#EBF0F8",
            "showbackground": true,
            "ticks": "",
            "zerolinecolor": "#EBF0F8"
           },
           "yaxis": {
            "backgroundcolor": "white",
            "gridcolor": "#DFE8F3",
            "gridwidth": 2,
            "linecolor": "#EBF0F8",
            "showbackground": true,
            "ticks": "",
            "zerolinecolor": "#EBF0F8"
           },
           "zaxis": {
            "backgroundcolor": "white",
            "gridcolor": "#DFE8F3",
            "gridwidth": 2,
            "linecolor": "#EBF0F8",
            "showbackground": true,
            "ticks": "",
            "zerolinecolor": "#EBF0F8"
           }
          },
          "shapedefaults": {
           "line": {
            "color": "#2a3f5f"
           }
          },
          "ternary": {
           "aaxis": {
            "gridcolor": "#DFE8F3",
            "linecolor": "#A2B1C6",
            "ticks": ""
           },
           "baxis": {
            "gridcolor": "#DFE8F3",
            "linecolor": "#A2B1C6",
            "ticks": ""
           },
           "bgcolor": "white",
           "caxis": {
            "gridcolor": "#DFE8F3",
            "linecolor": "#A2B1C6",
            "ticks": ""
           }
          },
          "title": {
           "x": 0.05
          },
          "xaxis": {
           "automargin": true,
           "gridcolor": "#EBF0F8",
           "linecolor": "#EBF0F8",
           "ticks": "",
           "title": {
            "standoff": 15
           },
           "zerolinecolor": "#EBF0F8",
           "zerolinewidth": 2
          },
          "yaxis": {
           "automargin": true,
           "gridcolor": "#EBF0F8",
           "linecolor": "#EBF0F8",
           "ticks": "",
           "title": {
            "standoff": 15
           },
           "zerolinecolor": "#EBF0F8",
           "zerolinewidth": 2
          }
         }
        },
        "title": {
         "text": "2D Representation of Circular Economy embeddings using t-SNE"
        },
        "xaxis": {
         "anchor": "y",
         "domain": [
          0,
          1
         ],
         "title": {
          "text": "t-SNE1"
         }
        },
        "yaxis": {
         "anchor": "x",
         "domain": [
          0,
          1
         ],
         "title": {
          "text": "t-SNE2"
         }
        }
       }
      },
      "text/html": [
       "<div>                            <div id=\"60a5034f-c24c-449f-9462-a6522e3f3c8b\" class=\"plotly-graph-div\" style=\"height:525px; width:100%;\"></div>            <script type=\"text/javascript\">                require([\"plotly\"], function(Plotly) {                    window.PLOTLYENV=window.PLOTLYENV || {};                                    if (document.getElementById(\"60a5034f-c24c-449f-9462-a6522e3f3c8b\")) {                    Plotly.newPlot(                        \"60a5034f-c24c-449f-9462-a6522e3f3c8b\",                        [{\"hovertemplate\":\"Year=%{text}<br>t-SNE1=%{x}<br>t-SNE2=%{y}<br>size=%{marker.size}<extra></extra>\",\"legendgroup\":\"2006\",\"marker\":{\"color\":\"#636efa\",\"size\":[9],\"sizemode\":\"area\",\"sizeref\":0.065,\"symbol\":\"circle\"},\"mode\":\"markers+text\",\"name\":\"2006\",\"orientation\":\"v\",\"showlegend\":true,\"text\":[\"2006\"],\"x\":[-77.16462707519531],\"xaxis\":\"x\",\"y\":[13.426543235778809],\"yaxis\":\"y\",\"type\":\"scatter\",\"textposition\":\"top center\"},{\"hovertemplate\":\"Year=%{text}<br>t-SNE1=%{x}<br>t-SNE2=%{y}<br>size=%{marker.size}<extra></extra>\",\"legendgroup\":\"2007\",\"marker\":{\"color\":\"#EF553B\",\"size\":[11],\"sizemode\":\"area\",\"sizeref\":0.065,\"symbol\":\"circle\"},\"mode\":\"markers+text\",\"name\":\"2007\",\"orientation\":\"v\",\"showlegend\":true,\"text\":[\"2007\"],\"x\":[-64.91735076904297],\"xaxis\":\"x\",\"y\":[-32.65711212158203],\"yaxis\":\"y\",\"type\":\"scatter\",\"textposition\":\"top center\"},{\"hovertemplate\":\"Year=%{text}<br>t-SNE1=%{x}<br>t-SNE2=%{y}<br>size=%{marker.size}<extra></extra>\",\"legendgroup\":\"2008\",\"marker\":{\"color\":\"#00cc96\",\"size\":[9],\"sizemode\":\"area\",\"sizeref\":0.065,\"symbol\":\"circle\"},\"mode\":\"markers+text\",\"name\":\"2008\",\"orientation\":\"v\",\"showlegend\":true,\"text\":[\"2008\"],\"x\":[-13.593368530273438],\"xaxis\":\"x\",\"y\":[88.46670532226562],\"yaxis\":\"y\",\"type\":\"scatter\",\"textposition\":\"top center\"},{\"hovertemplate\":\"Year=%{text}<br>t-SNE1=%{x}<br>t-SNE2=%{y}<br>size=%{marker.size}<extra></extra>\",\"legendgroup\":\"2009\",\"marker\":{\"color\":\"#ab63fa\",\"size\":[16],\"sizemode\":\"area\",\"sizeref\":0.065,\"symbol\":\"circle\"},\"mode\":\"markers+text\",\"name\":\"2009\",\"orientation\":\"v\",\"showlegend\":true,\"text\":[\"2009\"],\"x\":[-40.02922439575195],\"xaxis\":\"x\",\"y\":[15.907878875732422],\"yaxis\":\"y\",\"type\":\"scatter\",\"textposition\":\"top center\"},{\"hovertemplate\":\"Year=%{text}<br>t-SNE1=%{x}<br>t-SNE2=%{y}<br>size=%{marker.size}<extra></extra>\",\"legendgroup\":\"2010\",\"marker\":{\"color\":\"#FFA15A\",\"size\":[17],\"sizemode\":\"area\",\"sizeref\":0.065,\"symbol\":\"circle\"},\"mode\":\"markers+text\",\"name\":\"2010\",\"orientation\":\"v\",\"showlegend\":true,\"text\":[\"2010\"],\"x\":[-96.46617126464844],\"xaxis\":\"x\",\"y\":[63.45859909057617],\"yaxis\":\"y\",\"type\":\"scatter\",\"textposition\":\"top center\"},{\"hovertemplate\":\"Year=%{text}<br>t-SNE1=%{x}<br>t-SNE2=%{y}<br>size=%{marker.size}<extra></extra>\",\"legendgroup\":\"2011\",\"marker\":{\"color\":\"#19d3f3\",\"size\":[14],\"sizemode\":\"area\",\"sizeref\":0.065,\"symbol\":\"circle\"},\"mode\":\"markers+text\",\"name\":\"2011\",\"orientation\":\"v\",\"showlegend\":true,\"text\":[\"2011\"],\"x\":[18.64427947998047],\"xaxis\":\"x\",\"y\":[51.141178131103516],\"yaxis\":\"y\",\"type\":\"scatter\",\"textposition\":\"top center\"},{\"hovertemplate\":\"Year=%{text}<br>t-SNE1=%{x}<br>t-SNE2=%{y}<br>size=%{marker.size}<extra></extra>\",\"legendgroup\":\"2012\",\"marker\":{\"color\":\"#FF6692\",\"size\":[17],\"sizemode\":\"area\",\"sizeref\":0.065,\"symbol\":\"circle\"},\"mode\":\"markers+text\",\"name\":\"2012\",\"orientation\":\"v\",\"showlegend\":true,\"text\":[\"2012\"],\"x\":[-22.24306297302246],\"xaxis\":\"x\",\"y\":[49.46721267700195],\"yaxis\":\"y\",\"type\":\"scatter\",\"textposition\":\"top center\"},{\"hovertemplate\":\"Year=%{text}<br>t-SNE1=%{x}<br>t-SNE2=%{y}<br>size=%{marker.size}<extra></extra>\",\"legendgroup\":\"2013\",\"marker\":{\"color\":\"#B6E880\",\"size\":[13],\"sizemode\":\"area\",\"sizeref\":0.065,\"symbol\":\"circle\"},\"mode\":\"markers+text\",\"name\":\"2013\",\"orientation\":\"v\",\"showlegend\":true,\"text\":[\"2013\"],\"x\":[-50.55923080444336],\"xaxis\":\"x\",\"y\":[60.82707595825195],\"yaxis\":\"y\",\"type\":\"scatter\",\"textposition\":\"top center\"},{\"hovertemplate\":\"Year=%{text}<br>t-SNE1=%{x}<br>t-SNE2=%{y}<br>size=%{marker.size}<extra></extra>\",\"legendgroup\":\"2014\",\"marker\":{\"color\":\"#FF97FF\",\"size\":[18],\"sizemode\":\"area\",\"sizeref\":0.065,\"symbol\":\"circle\"},\"mode\":\"markers+text\",\"name\":\"2014\",\"orientation\":\"v\",\"showlegend\":true,\"text\":[\"2014\"],\"x\":[-17.365066528320312],\"xaxis\":\"x\",\"y\":[-72.21990966796875],\"yaxis\":\"y\",\"type\":\"scatter\",\"textposition\":\"top center\"},{\"hovertemplate\":\"Year=%{text}<br>t-SNE1=%{x}<br>t-SNE2=%{y}<br>size=%{marker.size}<extra></extra>\",\"legendgroup\":\"2015\",\"marker\":{\"color\":\"#FECB52\",\"size\":[18],\"sizemode\":\"area\",\"sizeref\":0.065,\"symbol\":\"circle\"},\"mode\":\"markers+text\",\"name\":\"2015\",\"orientation\":\"v\",\"showlegend\":true,\"text\":[\"2015\"],\"x\":[76.53158569335938],\"xaxis\":\"x\",\"y\":[22.969118118286133],\"yaxis\":\"y\",\"type\":\"scatter\",\"textposition\":\"top center\"},{\"hovertemplate\":\"Year=%{text}<br>t-SNE1=%{x}<br>t-SNE2=%{y}<br>size=%{marker.size}<extra></extra>\",\"legendgroup\":\"2016\",\"marker\":{\"color\":\"#636efa\",\"size\":[20],\"sizemode\":\"area\",\"sizeref\":0.065,\"symbol\":\"circle\"},\"mode\":\"markers+text\",\"name\":\"2016\",\"orientation\":\"v\",\"showlegend\":true,\"text\":[\"2016\"],\"x\":[-5.769387722015381],\"xaxis\":\"x\",\"y\":[-16.255348205566406],\"yaxis\":\"y\",\"type\":\"scatter\",\"textposition\":\"top center\"},{\"hovertemplate\":\"Year=%{text}<br>t-SNE1=%{x}<br>t-SNE2=%{y}<br>size=%{marker.size}<extra></extra>\",\"legendgroup\":\"2017\",\"marker\":{\"color\":\"#EF553B\",\"size\":[22],\"sizemode\":\"area\",\"sizeref\":0.065,\"symbol\":\"circle\"},\"mode\":\"markers+text\",\"name\":\"2017\",\"orientation\":\"v\",\"showlegend\":true,\"text\":[\"2017\"],\"x\":[34.57144546508789],\"xaxis\":\"x\",\"y\":[5.282149314880371],\"yaxis\":\"y\",\"type\":\"scatter\",\"textposition\":\"top center\"},{\"hovertemplate\":\"Year=%{text}<br>t-SNE1=%{x}<br>t-SNE2=%{y}<br>size=%{marker.size}<extra></extra>\",\"legendgroup\":\"2018\",\"marker\":{\"color\":\"#00cc96\",\"size\":[26],\"sizemode\":\"area\",\"sizeref\":0.065,\"symbol\":\"circle\"},\"mode\":\"markers+text\",\"name\":\"2018\",\"orientation\":\"v\",\"showlegend\":true,\"text\":[\"2018\"],\"x\":[9.075014114379883],\"xaxis\":\"x\",\"y\":[-43.47203063964844],\"yaxis\":\"y\",\"type\":\"scatter\",\"textposition\":\"top center\"},{\"hovertemplate\":\"Year=%{text}<br>t-SNE1=%{x}<br>t-SNE2=%{y}<br>size=%{marker.size}<extra></extra>\",\"legendgroup\":\"2019\",\"marker\":{\"color\":\"#ab63fa\",\"size\":[18],\"sizemode\":\"area\",\"sizeref\":0.065,\"symbol\":\"circle\"},\"mode\":\"markers+text\",\"name\":\"2019\",\"orientation\":\"v\",\"showlegend\":true,\"text\":[\"2019\"],\"x\":[61.717403411865234],\"xaxis\":\"x\",\"y\":[-19.641529083251953],\"yaxis\":\"y\",\"type\":\"scatter\",\"textposition\":\"top center\"},{\"hovertemplate\":\"Year=%{text}<br>t-SNE1=%{x}<br>t-SNE2=%{y}<br>size=%{marker.size}<extra></extra>\",\"legendgroup\":\"2020\",\"marker\":{\"color\":\"#FFA15A\",\"size\":[19],\"sizemode\":\"area\",\"sizeref\":0.065,\"symbol\":\"circle\"},\"mode\":\"markers+text\",\"name\":\"2020\",\"orientation\":\"v\",\"showlegend\":true,\"text\":[\"2020\"],\"x\":[35.13339614868164],\"xaxis\":\"x\",\"y\":[-74.97447967529297],\"yaxis\":\"y\",\"type\":\"scatter\",\"textposition\":\"top center\"},{\"hovertemplate\":\"Year=%{text}<br>t-SNE1=%{x}<br>t-SNE2=%{y}<br>size=%{marker.size}<extra></extra>\",\"legendgroup\":\"2021\",\"marker\":{\"color\":\"#19d3f3\",\"size\":[19],\"sizemode\":\"area\",\"sizeref\":0.065,\"symbol\":\"circle\"},\"mode\":\"markers+text\",\"name\":\"2021\",\"orientation\":\"v\",\"showlegend\":true,\"text\":[\"2021\"],\"x\":[36.296321868896484],\"xaxis\":\"x\",\"y\":[-34.67673110961914],\"yaxis\":\"y\",\"type\":\"scatter\",\"textposition\":\"top center\"},{\"hovertemplate\":\"Year=%{text}<br>t-SNE1=%{x}<br>t-SNE2=%{y}<br>size=%{marker.size}<extra></extra>\",\"legendgroup\":\"2022\",\"marker\":{\"color\":\"#FF6692\",\"size\":[16],\"sizemode\":\"area\",\"sizeref\":0.065,\"symbol\":\"circle\"},\"mode\":\"markers+text\",\"name\":\"2022\",\"orientation\":\"v\",\"showlegend\":true,\"text\":[\"2022\"],\"x\":[93.1622085571289],\"xaxis\":\"x\",\"y\":[-50.25796127319336],\"yaxis\":\"y\",\"type\":\"scatter\",\"textposition\":\"top center\"},{\"hovertemplate\":\"Year=%{text}<br>t-SNE1=%{x}<br>t-SNE2=%{y}<br>size=%{marker.size}<extra></extra>\",\"legendgroup\":\"2023\",\"marker\":{\"color\":\"#B6E880\",\"size\":[19],\"sizemode\":\"area\",\"sizeref\":0.065,\"symbol\":\"circle\"},\"mode\":\"markers+text\",\"name\":\"2023\",\"orientation\":\"v\",\"showlegend\":true,\"text\":[\"2023\"],\"x\":[66.73261260986328],\"xaxis\":\"x\",\"y\":[-64.17508697509766],\"yaxis\":\"y\",\"type\":\"scatter\",\"textposition\":\"top center\"}],                        {\"template\":{\"data\":{\"barpolar\":[{\"marker\":{\"line\":{\"color\":\"white\",\"width\":0.5},\"pattern\":{\"fillmode\":\"overlay\",\"size\":10,\"solidity\":0.2}},\"type\":\"barpolar\"}],\"bar\":[{\"error_x\":{\"color\":\"#2a3f5f\"},\"error_y\":{\"color\":\"#2a3f5f\"},\"marker\":{\"line\":{\"color\":\"white\",\"width\":0.5},\"pattern\":{\"fillmode\":\"overlay\",\"size\":10,\"solidity\":0.2}},\"type\":\"bar\"}],\"carpet\":[{\"aaxis\":{\"endlinecolor\":\"#2a3f5f\",\"gridcolor\":\"#C8D4E3\",\"linecolor\":\"#C8D4E3\",\"minorgridcolor\":\"#C8D4E3\",\"startlinecolor\":\"#2a3f5f\"},\"baxis\":{\"endlinecolor\":\"#2a3f5f\",\"gridcolor\":\"#C8D4E3\",\"linecolor\":\"#C8D4E3\",\"minorgridcolor\":\"#C8D4E3\",\"startlinecolor\":\"#2a3f5f\"},\"type\":\"carpet\"}],\"choropleth\":[{\"colorbar\":{\"outlinewidth\":0,\"ticks\":\"\"},\"type\":\"choropleth\"}],\"contourcarpet\":[{\"colorbar\":{\"outlinewidth\":0,\"ticks\":\"\"},\"type\":\"contourcarpet\"}],\"contour\":[{\"colorbar\":{\"outlinewidth\":0,\"ticks\":\"\"},\"colorscale\":[[0.0,\"#0d0887\"],[0.1111111111111111,\"#46039f\"],[0.2222222222222222,\"#7201a8\"],[0.3333333333333333,\"#9c179e\"],[0.4444444444444444,\"#bd3786\"],[0.5555555555555556,\"#d8576b\"],[0.6666666666666666,\"#ed7953\"],[0.7777777777777778,\"#fb9f3a\"],[0.8888888888888888,\"#fdca26\"],[1.0,\"#f0f921\"]],\"type\":\"contour\"}],\"heatmapgl\":[{\"colorbar\":{\"outlinewidth\":0,\"ticks\":\"\"},\"colorscale\":[[0.0,\"#0d0887\"],[0.1111111111111111,\"#46039f\"],[0.2222222222222222,\"#7201a8\"],[0.3333333333333333,\"#9c179e\"],[0.4444444444444444,\"#bd3786\"],[0.5555555555555556,\"#d8576b\"],[0.6666666666666666,\"#ed7953\"],[0.7777777777777778,\"#fb9f3a\"],[0.8888888888888888,\"#fdca26\"],[1.0,\"#f0f921\"]],\"type\":\"heatmapgl\"}],\"heatmap\":[{\"colorbar\":{\"outlinewidth\":0,\"ticks\":\"\"},\"colorscale\":[[0.0,\"#0d0887\"],[0.1111111111111111,\"#46039f\"],[0.2222222222222222,\"#7201a8\"],[0.3333333333333333,\"#9c179e\"],[0.4444444444444444,\"#bd3786\"],[0.5555555555555556,\"#d8576b\"],[0.6666666666666666,\"#ed7953\"],[0.7777777777777778,\"#fb9f3a\"],[0.8888888888888888,\"#fdca26\"],[1.0,\"#f0f921\"]],\"type\":\"heatmap\"}],\"histogram2dcontour\":[{\"colorbar\":{\"outlinewidth\":0,\"ticks\":\"\"},\"colorscale\":[[0.0,\"#0d0887\"],[0.1111111111111111,\"#46039f\"],[0.2222222222222222,\"#7201a8\"],[0.3333333333333333,\"#9c179e\"],[0.4444444444444444,\"#bd3786\"],[0.5555555555555556,\"#d8576b\"],[0.6666666666666666,\"#ed7953\"],[0.7777777777777778,\"#fb9f3a\"],[0.8888888888888888,\"#fdca26\"],[1.0,\"#f0f921\"]],\"type\":\"histogram2dcontour\"}],\"histogram2d\":[{\"colorbar\":{\"outlinewidth\":0,\"ticks\":\"\"},\"colorscale\":[[0.0,\"#0d0887\"],[0.1111111111111111,\"#46039f\"],[0.2222222222222222,\"#7201a8\"],[0.3333333333333333,\"#9c179e\"],[0.4444444444444444,\"#bd3786\"],[0.5555555555555556,\"#d8576b\"],[0.6666666666666666,\"#ed7953\"],[0.7777777777777778,\"#fb9f3a\"],[0.8888888888888888,\"#fdca26\"],[1.0,\"#f0f921\"]],\"type\":\"histogram2d\"}],\"histogram\":[{\"marker\":{\"pattern\":{\"fillmode\":\"overlay\",\"size\":10,\"solidity\":0.2}},\"type\":\"histogram\"}],\"mesh3d\":[{\"colorbar\":{\"outlinewidth\":0,\"ticks\":\"\"},\"type\":\"mesh3d\"}],\"parcoords\":[{\"line\":{\"colorbar\":{\"outlinewidth\":0,\"ticks\":\"\"}},\"type\":\"parcoords\"}],\"pie\":[{\"automargin\":true,\"type\":\"pie\"}],\"scatter3d\":[{\"line\":{\"colorbar\":{\"outlinewidth\":0,\"ticks\":\"\"}},\"marker\":{\"colorbar\":{\"outlinewidth\":0,\"ticks\":\"\"}},\"type\":\"scatter3d\"}],\"scattercarpet\":[{\"marker\":{\"colorbar\":{\"outlinewidth\":0,\"ticks\":\"\"}},\"type\":\"scattercarpet\"}],\"scattergeo\":[{\"marker\":{\"colorbar\":{\"outlinewidth\":0,\"ticks\":\"\"}},\"type\":\"scattergeo\"}],\"scattergl\":[{\"marker\":{\"colorbar\":{\"outlinewidth\":0,\"ticks\":\"\"}},\"type\":\"scattergl\"}],\"scattermapbox\":[{\"marker\":{\"colorbar\":{\"outlinewidth\":0,\"ticks\":\"\"}},\"type\":\"scattermapbox\"}],\"scatterpolargl\":[{\"marker\":{\"colorbar\":{\"outlinewidth\":0,\"ticks\":\"\"}},\"type\":\"scatterpolargl\"}],\"scatterpolar\":[{\"marker\":{\"colorbar\":{\"outlinewidth\":0,\"ticks\":\"\"}},\"type\":\"scatterpolar\"}],\"scatter\":[{\"fillpattern\":{\"fillmode\":\"overlay\",\"size\":10,\"solidity\":0.2},\"type\":\"scatter\"}],\"scatterternary\":[{\"marker\":{\"colorbar\":{\"outlinewidth\":0,\"ticks\":\"\"}},\"type\":\"scatterternary\"}],\"surface\":[{\"colorbar\":{\"outlinewidth\":0,\"ticks\":\"\"},\"colorscale\":[[0.0,\"#0d0887\"],[0.1111111111111111,\"#46039f\"],[0.2222222222222222,\"#7201a8\"],[0.3333333333333333,\"#9c179e\"],[0.4444444444444444,\"#bd3786\"],[0.5555555555555556,\"#d8576b\"],[0.6666666666666666,\"#ed7953\"],[0.7777777777777778,\"#fb9f3a\"],[0.8888888888888888,\"#fdca26\"],[1.0,\"#f0f921\"]],\"type\":\"surface\"}],\"table\":[{\"cells\":{\"fill\":{\"color\":\"#EBF0F8\"},\"line\":{\"color\":\"white\"}},\"header\":{\"fill\":{\"color\":\"#C8D4E3\"},\"line\":{\"color\":\"white\"}},\"type\":\"table\"}]},\"layout\":{\"annotationdefaults\":{\"arrowcolor\":\"#2a3f5f\",\"arrowhead\":0,\"arrowwidth\":1},\"autotypenumbers\":\"strict\",\"coloraxis\":{\"colorbar\":{\"outlinewidth\":0,\"ticks\":\"\"}},\"colorscale\":{\"diverging\":[[0,\"#8e0152\"],[0.1,\"#c51b7d\"],[0.2,\"#de77ae\"],[0.3,\"#f1b6da\"],[0.4,\"#fde0ef\"],[0.5,\"#f7f7f7\"],[0.6,\"#e6f5d0\"],[0.7,\"#b8e186\"],[0.8,\"#7fbc41\"],[0.9,\"#4d9221\"],[1,\"#276419\"]],\"sequential\":[[0.0,\"#0d0887\"],[0.1111111111111111,\"#46039f\"],[0.2222222222222222,\"#7201a8\"],[0.3333333333333333,\"#9c179e\"],[0.4444444444444444,\"#bd3786\"],[0.5555555555555556,\"#d8576b\"],[0.6666666666666666,\"#ed7953\"],[0.7777777777777778,\"#fb9f3a\"],[0.8888888888888888,\"#fdca26\"],[1.0,\"#f0f921\"]],\"sequentialminus\":[[0.0,\"#0d0887\"],[0.1111111111111111,\"#46039f\"],[0.2222222222222222,\"#7201a8\"],[0.3333333333333333,\"#9c179e\"],[0.4444444444444444,\"#bd3786\"],[0.5555555555555556,\"#d8576b\"],[0.6666666666666666,\"#ed7953\"],[0.7777777777777778,\"#fb9f3a\"],[0.8888888888888888,\"#fdca26\"],[1.0,\"#f0f921\"]]},\"colorway\":[\"#636efa\",\"#EF553B\",\"#00cc96\",\"#ab63fa\",\"#FFA15A\",\"#19d3f3\",\"#FF6692\",\"#B6E880\",\"#FF97FF\",\"#FECB52\"],\"font\":{\"color\":\"#2a3f5f\"},\"geo\":{\"bgcolor\":\"white\",\"lakecolor\":\"white\",\"landcolor\":\"white\",\"showlakes\":true,\"showland\":true,\"subunitcolor\":\"#C8D4E3\"},\"hoverlabel\":{\"align\":\"left\"},\"hovermode\":\"closest\",\"mapbox\":{\"style\":\"light\"},\"paper_bgcolor\":\"white\",\"plot_bgcolor\":\"white\",\"polar\":{\"angularaxis\":{\"gridcolor\":\"#EBF0F8\",\"linecolor\":\"#EBF0F8\",\"ticks\":\"\"},\"bgcolor\":\"white\",\"radialaxis\":{\"gridcolor\":\"#EBF0F8\",\"linecolor\":\"#EBF0F8\",\"ticks\":\"\"}},\"scene\":{\"xaxis\":{\"backgroundcolor\":\"white\",\"gridcolor\":\"#DFE8F3\",\"gridwidth\":2,\"linecolor\":\"#EBF0F8\",\"showbackground\":true,\"ticks\":\"\",\"zerolinecolor\":\"#EBF0F8\"},\"yaxis\":{\"backgroundcolor\":\"white\",\"gridcolor\":\"#DFE8F3\",\"gridwidth\":2,\"linecolor\":\"#EBF0F8\",\"showbackground\":true,\"ticks\":\"\",\"zerolinecolor\":\"#EBF0F8\"},\"zaxis\":{\"backgroundcolor\":\"white\",\"gridcolor\":\"#DFE8F3\",\"gridwidth\":2,\"linecolor\":\"#EBF0F8\",\"showbackground\":true,\"ticks\":\"\",\"zerolinecolor\":\"#EBF0F8\"}},\"shapedefaults\":{\"line\":{\"color\":\"#2a3f5f\"}},\"ternary\":{\"aaxis\":{\"gridcolor\":\"#DFE8F3\",\"linecolor\":\"#A2B1C6\",\"ticks\":\"\"},\"baxis\":{\"gridcolor\":\"#DFE8F3\",\"linecolor\":\"#A2B1C6\",\"ticks\":\"\"},\"bgcolor\":\"white\",\"caxis\":{\"gridcolor\":\"#DFE8F3\",\"linecolor\":\"#A2B1C6\",\"ticks\":\"\"}},\"title\":{\"x\":0.05},\"xaxis\":{\"automargin\":true,\"gridcolor\":\"#EBF0F8\",\"linecolor\":\"#EBF0F8\",\"ticks\":\"\",\"title\":{\"standoff\":15},\"zerolinecolor\":\"#EBF0F8\",\"zerolinewidth\":2},\"yaxis\":{\"automargin\":true,\"gridcolor\":\"#EBF0F8\",\"linecolor\":\"#EBF0F8\",\"ticks\":\"\",\"title\":{\"standoff\":15},\"zerolinecolor\":\"#EBF0F8\",\"zerolinewidth\":2}}},\"xaxis\":{\"anchor\":\"y\",\"domain\":[0.0,1.0],\"title\":{\"text\":\"t-SNE1\"}},\"yaxis\":{\"anchor\":\"x\",\"domain\":[0.0,1.0],\"title\":{\"text\":\"t-SNE2\"}},\"legend\":{\"title\":{\"text\":\"Year\"},\"tracegroupgap\":0,\"itemsizing\":\"constant\"},\"title\":{\"text\":\"2D Representation of Circular Economy embeddings using t-SNE\"},\"showlegend\":true},                        {\"responsive\": true}                    ).then(function(){\n",
       "                            \n",
       "var gd = document.getElementById('60a5034f-c24c-449f-9462-a6522e3f3c8b');\n",
       "var x = new MutationObserver(function (mutations, observer) {{\n",
       "        var display = window.getComputedStyle(gd).display;\n",
       "        if (!display || display === 'none') {{\n",
       "            console.log([gd, 'removed!']);\n",
       "            Plotly.purge(gd);\n",
       "            observer.disconnect();\n",
       "        }}\n",
       "}});\n",
       "\n",
       "// Listen for the removal of the full notebook cells\n",
       "var notebookContainer = gd.closest('#notebook-container');\n",
       "if (notebookContainer) {{\n",
       "    x.observe(notebookContainer, {childList: true});\n",
       "}}\n",
       "\n",
       "// Listen for the clearing of the current output cell\n",
       "var outputEl = gd.closest('.output');\n",
       "if (outputEl) {{\n",
       "    x.observe(outputEl, {childList: true});\n",
       "}}\n",
       "\n",
       "                        })                };                });            </script>        </div>"
      ]
     },
     "metadata": {},
     "output_type": "display_data"
    }
   ],
   "source": [
    "import numpy as np\n",
    "from sklearn.manifold import TSNE # Importa TSNE da scikit-learn\n",
    "import plotly.express as px\n",
    "import pandas as pd\n",
    "\n",
    "vectors = np.array([word_vector['circular_economy'] for year, word_vector in ft_vectors.items()])\n",
    "years = list(ft_vectors.keys())\n",
    "n_samples = vectors.shape[0]\n",
    "n_documents = [len(papers) for year, papers in bigram_vocab.items()]\n",
    "\n",
    "# Utilizza t-SNE per la riduzione dimensionale\n",
    "perplexity_value = 9\n",
    "tsne = TSNE(n_components=2, random_state=42, perplexity = perplexity_value ) # Specifica n_components=2 per ottenere una rappresentazione 2D\n",
    "reduced_vectors_tsne = tsne.fit_transform(vectors)\n",
    "\n",
    "# Crea un DataFrame con i risultati di t-SNE\n",
    "df_tsne = pd.DataFrame({\n",
    "    't-SNE1': reduced_vectors_tsne[:, 0],\n",
    "    't-SNE2': reduced_vectors_tsne[:, 1],\n",
    "    'Year': years\n",
    "})\n",
    "\n",
    "# Visualizza i risultati con un grafico scatter\n",
    "fig = px.scatter(df_tsne, x='t-SNE1', y='t-SNE2', text='Year', title='2D Representation of Circular Economy embeddings using t-SNE',\n",
    "                 color='Year', template=\"plotly_white\", size = n_documents)\n",
    "fig.update_traces(textposition='top center')\n",
    "fig.update_layout(showlegend=True)\n",
    "fig.show()"
   ]
  },
  {
   "cell_type": "code",
   "execution_count": null,
   "id": "1b15ab5e",
   "metadata": {},
   "outputs": [],
   "source": []
  }
 ],
 "metadata": {
  "kernelspec": {
   "display_name": "Python 3 (ipykernel)",
   "language": "python",
   "name": "python3"
  },
  "language_info": {
   "codemirror_mode": {
    "name": "ipython",
    "version": 3
   },
   "file_extension": ".py",
   "mimetype": "text/x-python",
   "name": "python",
   "nbconvert_exporter": "python",
   "pygments_lexer": "ipython3",
   "version": "3.11.5"
  }
 },
 "nbformat": 4,
 "nbformat_minor": 5
}
