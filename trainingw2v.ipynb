{
 "cells": [
  {
   "cell_type": "code",
   "execution_count": 2,
   "id": "54c6e5d6",
   "metadata": {},
   "outputs": [],
   "source": [
    "import pandas as pd\n",
    "import gensim\n",
    "from gensim.models.phrases import Phrases, Phraser, ENGLISH_CONNECTOR_WORDS\n",
    "from gensim.models import Word2Vec\n",
    "from gensim.models import KeyedVectors\n",
    "from tqdm import tqdm\n",
    "import numpy as np\n",
    "import enchant\n",
    "from time import time \n",
    "import multiprocessing\n",
    "from copy import deepcopy\n",
    "from collections import defaultdict\n",
    "from SSE import build_bigram_dictionary, unite_concepts"
   ]
  },
  {
   "cell_type": "code",
   "execution_count": 3,
   "id": "e007f46f",
   "metadata": {},
   "outputs": [],
   "source": [
    "tokens = np.load('tokens_per_year4.npy',allow_pickle='FALSE').item()"
   ]
  },
  {
   "cell_type": "code",
   "execution_count": 4,
   "id": "5504477a",
   "metadata": {},
   "outputs": [
    {
     "data": {
      "text/plain": [
       "dict"
      ]
     },
     "execution_count": 4,
     "metadata": {},
     "output_type": "execute_result"
    }
   ],
   "source": [
    "type(tokens)"
   ]
  },
  {
   "cell_type": "code",
   "execution_count": 5,
   "id": "c333a847",
   "metadata": {},
   "outputs": [],
   "source": [
    "nsc_concepts =  [ ('consumer', 'awareness'),\n",
    " ('service', 'economy'),\n",
    " ('material', 'passport'),\n",
    " ('cradle', 'cradle'),\n",
    " ('plan', 'obsolescence'),\n",
    " ('durability', 'design'),\n",
    " ('design', 'durability'),\n",
    " ('resource', 'depletion'),                \n",
    " ('sustainable', 'consumption'),\n",
    " ('sustainable', 'production'),\n",
    " ('waste', 'prevention'),\n",
    " ('waste', 'reduction'),\n",
    " ('waste', 'minimization'),\n",
    " ('energy', 'efficiency'),\n",
    " ('lean', 'production'),\n",
    " ('ecological', 'efficiency'),\n",
    " ('resource', 'optimization'),\n",
    " ('green', 'energy'),\n",
    " ('resource', 'efficiency'),\n",
    " ('product', 'life'),\n",
    " ('sharing', 'economy'),\n",
    " ('product', 'service'),\n",
    " ('product', 'longevity'),\n",
    " ('reverse', 'logistic'),\n",
    " ('closed', 'loop'),\n",
    " ('waste', 'valorization'),\n",
    " ('resource', 'conservation'),\n",
    " ('resource', 'recovery'),\n",
    " ('material', 'recovery'),\n",
    " ('industrial', 'ecosystem'),\n",
    " ('industrial', 'symbiosis'),\n",
    " ('industrial', 'ecology'),\n",
    " ('waste', 'management'),\n",
    " ('waste', 'stream'),\n",
    " ('material', 'recovery'),\n",
    " ('bio', 'mimicry'),\n",
    " ('urban', 'metabolism'),\n",
    " ('zero', 'waste'), ('zero', 'emission'), ('net', 'zero') ]"
   ]
  },
  {
   "cell_type": "code",
   "execution_count": 6,
   "id": "6671d43a",
   "metadata": {},
   "outputs": [],
   "source": [
    "tokens_bigr = unite_concepts(tokens, nsc_concepts)"
   ]
  },
  {
   "cell_type": "code",
   "execution_count": 7,
   "id": "e129c499",
   "metadata": {},
   "outputs": [],
   "source": [
    "for y, t in tokens_bigr.items():\n",
    "    for l in t:\n",
    "        i = 0  \n",
    "        while i < len(l)-1:\n",
    "            if l[i] == 'second' and l[i+1] == 'hand':\n",
    "                l[i] = 'secondhand'  \n",
    "                del l[i+1]  \n",
    "            else:\n",
    "                i += 1 "
   ]
  },
  {
   "cell_type": "code",
   "execution_count": 8,
   "id": "4ea6bcd7",
   "metadata": {},
   "outputs": [
    {
     "name": "stdout",
     "output_type": "stream",
     "text": [
      "0\n"
     ]
    }
   ],
   "source": [
    "count = 0\n",
    "for y, t in tokens_bigr.items():\n",
    "    for l in t:\n",
    "        for i in range(len(l)-1):\n",
    "            if l[i] == 'second' and l[i+1] == 'hand':  \n",
    "                count +=1\n",
    "            \n",
    "print(count)"
   ]
  },
  {
   "cell_type": "markdown",
   "id": "decf9329",
   "metadata": {},
   "source": [
    "**TRAIN WORD2VEC MODEL ON THE WHOLE SET**."
   ]
  },
  {
   "cell_type": "code",
   "execution_count": 11,
   "id": "c8613773",
   "metadata": {},
   "outputs": [],
   "source": [
    "# CREATE A VOCABULARY OF BIGRAMS THE DATASET PER YEAR\n",
    "bigram_vocab = {}\n",
    "for year, tokens in tokens_bigr.items():\n",
    "    tokens_per_year = build_bigram_dictionary(tokens, 11, 20)\n",
    "    bigram_vocab[year] = tokens_per_year"
   ]
  },
  {
   "cell_type": "code",
   "execution_count": 12,
   "id": "26532a29",
   "metadata": {},
   "outputs": [],
   "source": [
    "bigram_vocabolary = np.save('tokens_per_year_bigrams2.npy', bigram_vocab)"
   ]
  },
  {
   "cell_type": "code",
   "execution_count": 13,
   "id": "de9d277f",
   "metadata": {},
   "outputs": [],
   "source": [
    "tokens_bi = np.load('tokens_per_year_bigrams2.npy',allow_pickle='FALSE').item()"
   ]
  },
  {
   "cell_type": "code",
   "execution_count": 14,
   "id": "ac993387",
   "metadata": {},
   "outputs": [
    {
     "data": {
      "text/plain": [
       "dict"
      ]
     },
     "execution_count": 14,
     "metadata": {},
     "output_type": "execute_result"
    }
   ],
   "source": [
    "type(tokens_bi)"
   ]
  },
  {
   "cell_type": "code",
   "execution_count": 15,
   "id": "e820ad3a",
   "metadata": {},
   "outputs": [],
   "source": [
    "wholeset = [doc for papers in tokens_bi.values() for doc in papers]"
   ]
  },
  {
   "cell_type": "code",
   "execution_count": 16,
   "id": "9912ec65",
   "metadata": {},
   "outputs": [
    {
     "data": {
      "text/plain": [
       "22586"
      ]
     },
     "execution_count": 16,
     "metadata": {},
     "output_type": "execute_result"
    }
   ],
   "source": [
    "word_freq = defaultdict(int)\n",
    "for big in wholeset:\n",
    "    for i in big:\n",
    "        word_freq[i] += 1\n",
    "len(word_freq)"
   ]
  },
  {
   "cell_type": "code",
   "execution_count": 17,
   "id": "901ea5d3",
   "metadata": {
    "scrolled": false
   },
   "outputs": [
    {
     "data": {
      "text/plain": [
       "['circular_economy',\n",
       " 'al',\n",
       " 'use',\n",
       " 'product',\n",
       " 'material',\n",
       " 'waste',\n",
       " 'resource',\n",
       " 'system',\n",
       " 'environmental',\n",
       " 'economic']"
      ]
     },
     "execution_count": 17,
     "metadata": {},
     "output_type": "execute_result"
    }
   ],
   "source": [
    "sorted(word_freq, key=word_freq.get, reverse=True)[:10]"
   ]
  },
  {
   "cell_type": "code",
   "execution_count": 18,
   "id": "3fa30410",
   "metadata": {},
   "outputs": [],
   "source": [
    "cores = multiprocessing.cpu_count() # Count the number of cores in a computer"
   ]
  },
  {
   "cell_type": "code",
   "execution_count": 19,
   "id": "8fe146c1",
   "metadata": {},
   "outputs": [],
   "source": [
    "#In this first step, we set up the parameters of the model one-by-one. we don't supply the parameter sentences, and therefore leave the model uninitialized, purposefully.\n",
    "w2v_model = Word2Vec(sg = 1,\n",
    "                     vector_size = 200,#Dimensionality of the feature vectors\n",
    "                     min_count=3, #Ignores all words with total absolute frequency lower than this - (2, 100)                    \n",
    "                     window=7,  #The maximum distance between the current and predicted word within a sentence. E.g. window words on the left and window words on the right of our target\n",
    "                     sample=6e-5,   \n",
    "                     alpha=0.03,  #The initial learning rate\n",
    "                     min_alpha=0.0007,  #Learning rate will linearly drop to min_alpha as training progresses. To set it: alpha - (min_alpha * epochs) ~ 0.00\n",
    "                     negative=5,  #If > 0, negative sampling will be used, the int for negative specifies how many \"noise words\" should be drown. If set to 0, no negative sampling is used. - (5, 20)\n",
    "                     workers=cores-1  #Use these many worker threads to train the model (=faster training with multicore machines)\n",
    "                     )"
   ]
  },
  {
   "cell_type": "code",
   "execution_count": 20,
   "id": "c6be93b8",
   "metadata": {},
   "outputs": [
    {
     "name": "stdout",
     "output_type": "stream",
     "text": [
      "Time to build vocab: 0.01 mins\n"
     ]
    }
   ],
   "source": [
    "t = time()\n",
    "#Here it builds the vocabulary from a sequence of sentences and thus initialized the model. With the loggings, We can follow the progress and even more important, the effect of min_count and sample on the word corpus. We noticed that these two parameters, and in particular sample, have a great influence over the performance of a model. Displaying both allows for a more accurate and an easier management of their influence.\n",
    "#Word2Vec requires us to build the vocabulary table (simply digesting all the words and filtering out the unique words, and doing some basic counts on them)\n",
    "\n",
    "w2v_model.build_vocab(wholeset)\n",
    "\n",
    "print('Time to build vocab: {} mins'.format(round((time() - t) / 60, 2)))"
   ]
  },
  {
   "cell_type": "code",
   "execution_count": 21,
   "id": "0f62e63e",
   "metadata": {},
   "outputs": [
    {
     "name": "stdout",
     "output_type": "stream",
     "text": [
      "Time to train the model: 1.52 mins\n"
     ]
    }
   ],
   "source": [
    "t = time()\n",
    "w2v_model.train(wholeset, total_examples=w2v_model.corpus_count, epochs=40, report_delay=1)\n",
    "\n",
    "print('Time to train the model: {} mins'.format(round((time() - t) / 60, 2)))"
   ]
  },
  {
   "cell_type": "code",
   "execution_count": 22,
   "id": "2a6adf7e",
   "metadata": {},
   "outputs": [],
   "source": [
    "# salva il modello \n",
    "# word2vec_sg modello con 10 negativity; window 10\n",
    "# word2vec_sg2 modello con 5 negativity; window 10\n",
    "# word2vec_sg3 modello con 5 negativity; window 5\n",
    "#word2vec_cb2\n",
    "#model = w2v_model.save(\"word2vec_sg3.model\")\n",
    "#word2vec_sg4.model con \n",
    "#model = w2v_model.save(\"word2vec_sg6.model\") nuovo dataset\n",
    "#model = w2v_model.save(\"word2vec_sg6.model\")\n",
    "#model = w2v_model.save(\"word2vec_sg7.model\")\n",
    "##model = w2v_model.save(\"word2vec_sg9.model\") 40 epoche, sg\n",
    "#model = w2v_model.save(\"word2vec_sg13.model\") #min_count = 5, window=6, \n",
    "#model = w2v_model.save(\"word2vec_sg13_ndf.model\")\n",
    "model = w2v_model.save(\"word2vec_sg14_ndf.model\") #with vector size 200"
   ]
  },
  {
   "cell_type": "markdown",
   "id": "cbdd3a49",
   "metadata": {},
   "source": [
    "**FINETUNING OF THE MODEL ON THE DATASET OF EACH YEAR**"
   ]
  },
  {
   "cell_type": "code",
   "execution_count": 23,
   "id": "891af716",
   "metadata": {},
   "outputs": [
    {
     "name": "stdout",
     "output_type": "stream",
     "text": [
      "Time to finetune the models: 1.27 mins\n"
     ]
    }
   ],
   "source": [
    "t = time()\n",
    "model = Word2Vec.load(\"word2vec_sg14_ndf.model\")\n",
    "\n",
    "ft_models = {}\n",
    "for year, documents in bigram_vocab.items():\n",
    "    # Upload the deepcopy of the existing model each time the loop is restarted (for each year)\n",
    "    ft_model = deepcopy(model)\n",
    "    \n",
    "    # Update the dictionary with the bigrams of the year and train the new model\n",
    "    ft_model.build_vocab(documents, update=True)\n",
    "    ft_model.train(documents, total_examples=ft_model.corpus_count, epochs=25)\n",
    "    \n",
    "    # Save the model\n",
    "    ft_model.save(f\"word2vec_{year}_sg17.model\")\n",
    "    ft_models[year] = ft_model\n",
    "\n",
    "print('Time to finetune the models: {} mins'.format(round((time() - t) / 60, 2)))"
   ]
  },
  {
   "cell_type": "code",
   "execution_count": 24,
   "id": "5ecf2d60",
   "metadata": {},
   "outputs": [],
   "source": [
    "# SAVE THE VECTORS:\n",
    "ft_vectors = {}\n",
    "for year, model in ft_models.items():\n",
    "    word_vectors = model.wv  \n",
    "    ft_vectors[year] = word_vectors"
   ]
  },
  {
   "cell_type": "code",
   "execution_count": null,
   "id": "3be2e2f5",
   "metadata": {},
   "outputs": [],
   "source": []
  },
  {
   "cell_type": "code",
   "execution_count": null,
   "id": "edfd19b8",
   "metadata": {},
   "outputs": [],
   "source": []
  }
 ],
 "metadata": {
  "kernelspec": {
   "display_name": "Python 3 (ipykernel)",
   "language": "python",
   "name": "python3"
  },
  "language_info": {
   "codemirror_mode": {
    "name": "ipython",
    "version": 3
   },
   "file_extension": ".py",
   "mimetype": "text/x-python",
   "name": "python",
   "nbconvert_exporter": "python",
   "pygments_lexer": "ipython3",
   "version": "3.11.5"
  }
 },
 "nbformat": 4,
 "nbformat_minor": 5
}
